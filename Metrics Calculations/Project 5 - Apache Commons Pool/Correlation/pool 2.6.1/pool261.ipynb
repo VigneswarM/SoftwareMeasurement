{
 "cells": [
  {
   "cell_type": "code",
   "execution_count": 1,
   "metadata": {},
   "outputs": [],
   "source": [
    "import pandas as pd\n",
    "import scipy.stats  as stats"
   ]
  },
  {
   "cell_type": "code",
   "execution_count": 2,
   "metadata": {},
   "outputs": [],
   "source": [
    "df_collection = pd.read_csv('pool261.csv', error_bad_lines=False)"
   ]
  },
  {
   "cell_type": "code",
   "execution_count": 3,
   "metadata": {},
   "outputs": [],
   "source": [
    "import matplotlib.pyplot as plt"
   ]
  },
  {
   "cell_type": "code",
   "execution_count": 4,
   "metadata": {},
   "outputs": [],
   "source": [
    "df_collection['StatementCoverage'] =  (df_collection['LINE_COVERED'] / (df_collection['LINE_COVERED'] + df_collection['LINE_MISSED'])) * 100"
   ]
  },
  {
   "cell_type": "code",
   "execution_count": 5,
   "metadata": {},
   "outputs": [],
   "source": [
    "df_collection['BranchCoverage'] =  (df_collection['BRANCH_COVERED'] / (df_collection['BRANCH_COVERED'] + df_collection['BRANCH_MISSED'])) * 100"
   ]
  },
  {
   "cell_type": "code",
   "execution_count": 6,
   "metadata": {},
   "outputs": [],
   "source": [
    "df_collection['CodeComplexity'] =  df_collection['COMPLEXITY_COVERED'] + df_collection['COMPLEXITY_MISSED'];"
   ]
  },
  {
   "cell_type": "code",
   "execution_count": 7,
   "metadata": {},
   "outputs": [
    {
     "data": {
      "text/html": [
       "<div>\n",
       "<style scoped>\n",
       "    .dataframe tbody tr th:only-of-type {\n",
       "        vertical-align: middle;\n",
       "    }\n",
       "\n",
       "    .dataframe tbody tr th {\n",
       "        vertical-align: top;\n",
       "    }\n",
       "\n",
       "    .dataframe thead th {\n",
       "        text-align: right;\n",
       "    }\n",
       "</style>\n",
       "<table border=\"1\" class=\"dataframe\">\n",
       "  <thead>\n",
       "    <tr style=\"text-align: right;\">\n",
       "      <th></th>\n",
       "      <th>GROUP</th>\n",
       "      <th>PACKAGE</th>\n",
       "      <th>CLASS</th>\n",
       "      <th>INSTRUCTION_MISSED</th>\n",
       "      <th>INSTRUCTION_COVERED</th>\n",
       "      <th>BRANCH_MISSED</th>\n",
       "      <th>BRANCH_COVERED</th>\n",
       "      <th>LINE_MISSED</th>\n",
       "      <th>LINE_COVERED</th>\n",
       "      <th>COMPLEXITY_MISSED</th>\n",
       "      <th>COMPLEXITY_COVERED</th>\n",
       "      <th>METHOD_MISSED</th>\n",
       "      <th>METHOD_COVERED</th>\n",
       "      <th>StatementCoverage</th>\n",
       "      <th>BranchCoverage</th>\n",
       "      <th>CodeComplexity</th>\n",
       "    </tr>\n",
       "  </thead>\n",
       "  <tbody>\n",
       "    <tr>\n",
       "      <th>0</th>\n",
       "      <td>Apache Commons Pool</td>\n",
       "      <td>org.apache.commons.pool2.impl</td>\n",
       "      <td>DefaultPooledObject</td>\n",
       "      <td>47</td>\n",
       "      <td>261</td>\n",
       "      <td>4</td>\n",
       "      <td>24</td>\n",
       "      <td>10</td>\n",
       "      <td>78</td>\n",
       "      <td>6</td>\n",
       "      <td>31</td>\n",
       "      <td>2</td>\n",
       "      <td>21</td>\n",
       "      <td>88.636364</td>\n",
       "      <td>85.714286</td>\n",
       "      <td>37</td>\n",
       "    </tr>\n",
       "    <tr>\n",
       "      <th>1</th>\n",
       "      <td>Apache Commons Pool</td>\n",
       "      <td>org.apache.commons.pool2.impl</td>\n",
       "      <td>LinkedBlockingDeque.Itr</td>\n",
       "      <td>0</td>\n",
       "      <td>14</td>\n",
       "      <td>0</td>\n",
       "      <td>0</td>\n",
       "      <td>0</td>\n",
       "      <td>3</td>\n",
       "      <td>0</td>\n",
       "      <td>3</td>\n",
       "      <td>0</td>\n",
       "      <td>3</td>\n",
       "      <td>100.000000</td>\n",
       "      <td>NaN</td>\n",
       "      <td>3</td>\n",
       "    </tr>\n",
       "    <tr>\n",
       "      <th>2</th>\n",
       "      <td>Apache Commons Pool</td>\n",
       "      <td>org.apache.commons.pool2.impl</td>\n",
       "      <td>ThrowableCallStack</td>\n",
       "      <td>5</td>\n",
       "      <td>64</td>\n",
       "      <td>0</td>\n",
       "      <td>6</td>\n",
       "      <td>0</td>\n",
       "      <td>19</td>\n",
       "      <td>0</td>\n",
       "      <td>7</td>\n",
       "      <td>0</td>\n",
       "      <td>4</td>\n",
       "      <td>100.000000</td>\n",
       "      <td>100.000000</td>\n",
       "      <td>7</td>\n",
       "    </tr>\n",
       "    <tr>\n",
       "      <th>3</th>\n",
       "      <td>Apache Commons Pool</td>\n",
       "      <td>org.apache.commons.pool2.impl</td>\n",
       "      <td>AbandonedConfig</td>\n",
       "      <td>65</td>\n",
       "      <td>76</td>\n",
       "      <td>0</td>\n",
       "      <td>0</td>\n",
       "      <td>15</td>\n",
       "      <td>29</td>\n",
       "      <td>1</td>\n",
       "      <td>15</td>\n",
       "      <td>1</td>\n",
       "      <td>15</td>\n",
       "      <td>65.909091</td>\n",
       "      <td>NaN</td>\n",
       "      <td>16</td>\n",
       "    </tr>\n",
       "    <tr>\n",
       "      <th>4</th>\n",
       "      <td>Apache Commons Pool</td>\n",
       "      <td>org.apache.commons.pool2.impl</td>\n",
       "      <td>EvictionConfig</td>\n",
       "      <td>38</td>\n",
       "      <td>37</td>\n",
       "      <td>0</td>\n",
       "      <td>4</td>\n",
       "      <td>9</td>\n",
       "      <td>12</td>\n",
       "      <td>1</td>\n",
       "      <td>6</td>\n",
       "      <td>1</td>\n",
       "      <td>4</td>\n",
       "      <td>57.142857</td>\n",
       "      <td>100.000000</td>\n",
       "      <td>7</td>\n",
       "    </tr>\n",
       "  </tbody>\n",
       "</table>\n",
       "</div>"
      ],
      "text/plain": [
       "                 GROUP                        PACKAGE  \\\n",
       "0  Apache Commons Pool  org.apache.commons.pool2.impl   \n",
       "1  Apache Commons Pool  org.apache.commons.pool2.impl   \n",
       "2  Apache Commons Pool  org.apache.commons.pool2.impl   \n",
       "3  Apache Commons Pool  org.apache.commons.pool2.impl   \n",
       "4  Apache Commons Pool  org.apache.commons.pool2.impl   \n",
       "\n",
       "                     CLASS  INSTRUCTION_MISSED  INSTRUCTION_COVERED  \\\n",
       "0      DefaultPooledObject                  47                  261   \n",
       "1  LinkedBlockingDeque.Itr                   0                   14   \n",
       "2       ThrowableCallStack                   5                   64   \n",
       "3          AbandonedConfig                  65                   76   \n",
       "4           EvictionConfig                  38                   37   \n",
       "\n",
       "   BRANCH_MISSED  BRANCH_COVERED  LINE_MISSED  LINE_COVERED  \\\n",
       "0              4              24           10            78   \n",
       "1              0               0            0             3   \n",
       "2              0               6            0            19   \n",
       "3              0               0           15            29   \n",
       "4              0               4            9            12   \n",
       "\n",
       "   COMPLEXITY_MISSED  COMPLEXITY_COVERED  METHOD_MISSED  METHOD_COVERED  \\\n",
       "0                  6                  31              2              21   \n",
       "1                  0                   3              0               3   \n",
       "2                  0                   7              0               4   \n",
       "3                  1                  15              1              15   \n",
       "4                  1                   6              1               4   \n",
       "\n",
       "   StatementCoverage  BranchCoverage  CodeComplexity  \n",
       "0          88.636364       85.714286              37  \n",
       "1         100.000000             NaN               3  \n",
       "2         100.000000      100.000000               7  \n",
       "3          65.909091             NaN              16  \n",
       "4          57.142857      100.000000               7  "
      ]
     },
     "execution_count": 7,
     "metadata": {},
     "output_type": "execute_result"
    }
   ],
   "source": [
    "df_collection.head()"
   ]
  },
  {
   "cell_type": "code",
   "execution_count": 8,
   "metadata": {},
   "outputs": [
    {
     "data": {
      "text/plain": [
       "<matplotlib.axes._subplots.AxesSubplot at 0x7f85e60eb390>"
      ]
     },
     "execution_count": 8,
     "metadata": {},
     "output_type": "execute_result"
    },
    {
     "data": {
      "image/png": "[encoded data removed]",
      "text/plain": [
       "<Figure size 432x288 with 1 Axes>"
      ]
     },
     "metadata": {
      "needs_background": "light"
     },
     "output_type": "display_data"
    }
   ],
   "source": [
    "df_collection.plot(x='CodeComplexity', y='StatementCoverage', style='o')"
   ]
  },
  {
   "cell_type": "code",
   "execution_count": 9,
   "metadata": {},
   "outputs": [
    {
     "data": {
      "text/plain": [
       "<matplotlib.axes._subplots.AxesSubplot at 0x7f85e40a9550>"
      ]
     },
     "execution_count": 9,
     "metadata": {},
     "output_type": "execute_result"
    },
    {
     "data": {
      "image/png": "[encoded data removed]",
      "text/plain": [
       "<Figure size 432x288 with 1 Axes>"
      ]
     },
     "metadata": {
      "needs_background": "light"
     },
     "output_type": "display_data"
    }
   ],
   "source": [
    "df_collection.plot(x='CodeComplexity', y='BranchCoverage', style='o')"
   ]
  },
  {
   "cell_type": "code",
   "execution_count": 10,
   "metadata": {},
   "outputs": [
    {
     "data": {
      "image/png": "[encoded data removed]",
      "text/plain": [
       "<Figure size 432x288 with 1 Axes>"
      ]
     },
     "metadata": {
      "needs_background": "light"
     },
     "output_type": "display_data"
    }
   ],
   "source": [
    "plt.scatter(df_collection['CodeComplexity'], df_collection['StatementCoverage'])\n",
    "plt.show()"
   ]
  },
  {
   "cell_type": "code",
   "execution_count": 11,
   "metadata": {},
   "outputs": [
    {
     "data": {
      "text/html": [
       "<div>\n",
       "<style scoped>\n",
       "    .dataframe tbody tr th:only-of-type {\n",
       "        vertical-align: middle;\n",
       "    }\n",
       "\n",
       "    .dataframe tbody tr th {\n",
       "        vertical-align: top;\n",
       "    }\n",
       "\n",
       "    .dataframe thead th {\n",
       "        text-align: right;\n",
       "    }\n",
       "</style>\n",
       "<table border=\"1\" class=\"dataframe\">\n",
       "  <thead>\n",
       "    <tr style=\"text-align: right;\">\n",
       "      <th></th>\n",
       "      <th>INSTRUCTION_MISSED</th>\n",
       "      <th>INSTRUCTION_COVERED</th>\n",
       "      <th>BRANCH_MISSED</th>\n",
       "      <th>BRANCH_COVERED</th>\n",
       "      <th>LINE_MISSED</th>\n",
       "      <th>LINE_COVERED</th>\n",
       "      <th>COMPLEXITY_MISSED</th>\n",
       "      <th>COMPLEXITY_COVERED</th>\n",
       "      <th>METHOD_MISSED</th>\n",
       "      <th>METHOD_COVERED</th>\n",
       "      <th>StatementCoverage</th>\n",
       "      <th>BranchCoverage</th>\n",
       "      <th>CodeComplexity</th>\n",
       "    </tr>\n",
       "  </thead>\n",
       "  <tbody>\n",
       "    <tr>\n",
       "      <th>INSTRUCTION_MISSED</th>\n",
       "      <td>1.000000</td>\n",
       "      <td>0.543361</td>\n",
       "      <td>0.538739</td>\n",
       "      <td>0.308682</td>\n",
       "      <td>0.946993</td>\n",
       "      <td>0.605196</td>\n",
       "      <td>0.721175</td>\n",
       "      <td>0.554676</td>\n",
       "      <td>0.657121</td>\n",
       "      <td>0.588873</td>\n",
       "      <td>-0.683981</td>\n",
       "      <td>-0.399059</td>\n",
       "      <td>0.722550</td>\n",
       "    </tr>\n",
       "    <tr>\n",
       "      <th>INSTRUCTION_COVERED</th>\n",
       "      <td>0.543361</td>\n",
       "      <td>1.000000</td>\n",
       "      <td>0.482963</td>\n",
       "      <td>0.682148</td>\n",
       "      <td>0.458984</td>\n",
       "      <td>0.961322</td>\n",
       "      <td>0.421470</td>\n",
       "      <td>0.860796</td>\n",
       "      <td>0.163895</td>\n",
       "      <td>0.806485</td>\n",
       "      <td>0.027760</td>\n",
       "      <td>0.039735</td>\n",
       "      <td>0.831294</td>\n",
       "    </tr>\n",
       "    <tr>\n",
       "      <th>BRANCH_MISSED</th>\n",
       "      <td>0.538739</td>\n",
       "      <td>0.482963</td>\n",
       "      <td>1.000000</td>\n",
       "      <td>0.600370</td>\n",
       "      <td>0.561391</td>\n",
       "      <td>0.490309</td>\n",
       "      <td>0.812663</td>\n",
       "      <td>0.410620</td>\n",
       "      <td>0.401155</td>\n",
       "      <td>0.372960</td>\n",
       "      <td>-0.280650</td>\n",
       "      <td>-0.707596</td>\n",
       "      <td>0.635607</td>\n",
       "    </tr>\n",
       "    <tr>\n",
       "      <th>BRANCH_COVERED</th>\n",
       "      <td>0.308682</td>\n",
       "      <td>0.682148</td>\n",
       "      <td>0.600370</td>\n",
       "      <td>1.000000</td>\n",
       "      <td>0.308143</td>\n",
       "      <td>0.698135</td>\n",
       "      <td>0.420895</td>\n",
       "      <td>0.641307</td>\n",
       "      <td>0.090004</td>\n",
       "      <td>0.473412</td>\n",
       "      <td>0.030046</td>\n",
       "      <td>0.266091</td>\n",
       "      <td>0.671039</td>\n",
       "    </tr>\n",
       "    <tr>\n",
       "      <th>LINE_MISSED</th>\n",
       "      <td>0.946993</td>\n",
       "      <td>0.458984</td>\n",
       "      <td>0.561391</td>\n",
       "      <td>0.308143</td>\n",
       "      <td>1.000000</td>\n",
       "      <td>0.538450</td>\n",
       "      <td>0.792674</td>\n",
       "      <td>0.530667</td>\n",
       "      <td>0.751068</td>\n",
       "      <td>0.562468</td>\n",
       "      <td>-0.765388</td>\n",
       "      <td>-0.457391</td>\n",
       "      <td>0.703932</td>\n",
       "    </tr>\n",
       "    <tr>\n",
       "      <th>LINE_COVERED</th>\n",
       "      <td>0.605196</td>\n",
       "      <td>0.961322</td>\n",
       "      <td>0.490309</td>\n",
       "      <td>0.698135</td>\n",
       "      <td>0.538450</td>\n",
       "      <td>1.000000</td>\n",
       "      <td>0.440870</td>\n",
       "      <td>0.923716</td>\n",
       "      <td>0.175765</td>\n",
       "      <td>0.874287</td>\n",
       "      <td>-0.048379</td>\n",
       "      <td>0.034381</td>\n",
       "      <td>0.891159</td>\n",
       "    </tr>\n",
       "    <tr>\n",
       "      <th>COMPLEXITY_MISSED</th>\n",
       "      <td>0.721175</td>\n",
       "      <td>0.421470</td>\n",
       "      <td>0.812663</td>\n",
       "      <td>0.420895</td>\n",
       "      <td>0.792674</td>\n",
       "      <td>0.440870</td>\n",
       "      <td>1.000000</td>\n",
       "      <td>0.375168</td>\n",
       "      <td>0.802443</td>\n",
       "      <td>0.351669</td>\n",
       "      <td>-0.638247</td>\n",
       "      <td>-0.664956</td>\n",
       "      <td>0.638632</td>\n",
       "    </tr>\n",
       "    <tr>\n",
       "      <th>COMPLEXITY_COVERED</th>\n",
       "      <td>0.554676</td>\n",
       "      <td>0.860796</td>\n",
       "      <td>0.410620</td>\n",
       "      <td>0.641307</td>\n",
       "      <td>0.530667</td>\n",
       "      <td>0.923716</td>\n",
       "      <td>0.375168</td>\n",
       "      <td>1.000000</td>\n",
       "      <td>0.204759</td>\n",
       "      <td>0.956792</td>\n",
       "      <td>-0.044937</td>\n",
       "      <td>0.114370</td>\n",
       "      <td>0.918549</td>\n",
       "    </tr>\n",
       "    <tr>\n",
       "      <th>METHOD_MISSED</th>\n",
       "      <td>0.657121</td>\n",
       "      <td>0.163895</td>\n",
       "      <td>0.401155</td>\n",
       "      <td>0.090004</td>\n",
       "      <td>0.751068</td>\n",
       "      <td>0.175765</td>\n",
       "      <td>0.802443</td>\n",
       "      <td>0.204759</td>\n",
       "      <td>1.000000</td>\n",
       "      <td>0.217873</td>\n",
       "      <td>-0.747534</td>\n",
       "      <td>-0.444312</td>\n",
       "      <td>0.412361</td>\n",
       "    </tr>\n",
       "    <tr>\n",
       "      <th>METHOD_COVERED</th>\n",
       "      <td>0.588873</td>\n",
       "      <td>0.806485</td>\n",
       "      <td>0.372960</td>\n",
       "      <td>0.473412</td>\n",
       "      <td>0.562468</td>\n",
       "      <td>0.874287</td>\n",
       "      <td>0.351669</td>\n",
       "      <td>0.956792</td>\n",
       "      <td>0.217873</td>\n",
       "      <td>1.000000</td>\n",
       "      <td>-0.082590</td>\n",
       "      <td>0.018542</td>\n",
       "      <td>0.871702</td>\n",
       "    </tr>\n",
       "    <tr>\n",
       "      <th>StatementCoverage</th>\n",
       "      <td>-0.683981</td>\n",
       "      <td>0.027760</td>\n",
       "      <td>-0.280650</td>\n",
       "      <td>0.030046</td>\n",
       "      <td>-0.765388</td>\n",
       "      <td>-0.048379</td>\n",
       "      <td>-0.638247</td>\n",
       "      <td>-0.044937</td>\n",
       "      <td>-0.747534</td>\n",
       "      <td>-0.082590</td>\n",
       "      <td>1.000000</td>\n",
       "      <td>0.564691</td>\n",
       "      <td>-0.272918</td>\n",
       "    </tr>\n",
       "    <tr>\n",
       "      <th>BranchCoverage</th>\n",
       "      <td>-0.399059</td>\n",
       "      <td>0.039735</td>\n",
       "      <td>-0.707596</td>\n",
       "      <td>0.266091</td>\n",
       "      <td>-0.457391</td>\n",
       "      <td>0.034381</td>\n",
       "      <td>-0.664956</td>\n",
       "      <td>0.114370</td>\n",
       "      <td>-0.444312</td>\n",
       "      <td>0.018542</td>\n",
       "      <td>0.564691</td>\n",
       "      <td>1.000000</td>\n",
       "      <td>-0.182665</td>\n",
       "    </tr>\n",
       "    <tr>\n",
       "      <th>CodeComplexity</th>\n",
       "      <td>0.722550</td>\n",
       "      <td>0.831294</td>\n",
       "      <td>0.635607</td>\n",
       "      <td>0.671039</td>\n",
       "      <td>0.703932</td>\n",
       "      <td>0.891159</td>\n",
       "      <td>0.638632</td>\n",
       "      <td>0.918549</td>\n",
       "      <td>0.412361</td>\n",
       "      <td>0.871702</td>\n",
       "      <td>-0.272918</td>\n",
       "      <td>-0.182665</td>\n",
       "      <td>1.000000</td>\n",
       "    </tr>\n",
       "  </tbody>\n",
       "</table>\n",
       "</div>"
      ],
      "text/plain": [
       "                     INSTRUCTION_MISSED  INSTRUCTION_COVERED  BRANCH_MISSED  \\\n",
       "INSTRUCTION_MISSED             1.000000             0.543361       0.538739   \n",
       "INSTRUCTION_COVERED            0.543361             1.000000       0.482963   \n",
       "BRANCH_MISSED                  0.538739             0.482963       1.000000   \n",
       "BRANCH_COVERED                 0.308682             0.682148       0.600370   \n",
       "LINE_MISSED                    0.946993             0.458984       0.561391   \n",
       "LINE_COVERED                   0.605196             0.961322       0.490309   \n",
       "COMPLEXITY_MISSED              0.721175             0.421470       0.812663   \n",
       "COMPLEXITY_COVERED             0.554676             0.860796       0.410620   \n",
       "METHOD_MISSED                  0.657121             0.163895       0.401155   \n",
       "METHOD_COVERED                 0.588873             0.806485       0.372960   \n",
       "StatementCoverage             -0.683981             0.027760      -0.280650   \n",
       "BranchCoverage                -0.399059             0.039735      -0.707596   \n",
       "CodeComplexity                 0.722550             0.831294       0.635607   \n",
       "\n",
       "                     BRANCH_COVERED  LINE_MISSED  LINE_COVERED  \\\n",
       "INSTRUCTION_MISSED         0.308682     0.946993      0.605196   \n",
       "INSTRUCTION_COVERED        0.682148     0.458984      0.961322   \n",
       "BRANCH_MISSED              0.600370     0.561391      0.490309   \n",
       "BRANCH_COVERED             1.000000     0.308143      0.698135   \n",
       "LINE_MISSED                0.308143     1.000000      0.538450   \n",
       "LINE_COVERED               0.698135     0.538450      1.000000   \n",
       "COMPLEXITY_MISSED          0.420895     0.792674      0.440870   \n",
       "COMPLEXITY_COVERED         0.641307     0.530667      0.923716   \n",
       "METHOD_MISSED              0.090004     0.751068      0.175765   \n",
       "METHOD_COVERED             0.473412     0.562468      0.874287   \n",
       "StatementCoverage          0.030046    -0.765388     -0.048379   \n",
       "BranchCoverage             0.266091    -0.457391      0.034381   \n",
       "CodeComplexity             0.671039     0.703932      0.891159   \n",
       "\n",
       "                     COMPLEXITY_MISSED  COMPLEXITY_COVERED  METHOD_MISSED  \\\n",
       "INSTRUCTION_MISSED            0.721175            0.554676       0.657121   \n",
       "INSTRUCTION_COVERED           0.421470            0.860796       0.163895   \n",
       "BRANCH_MISSED                 0.812663            0.410620       0.401155   \n",
       "BRANCH_COVERED                0.420895            0.641307       0.090004   \n",
       "LINE_MISSED                   0.792674            0.530667       0.751068   \n",
       "LINE_COVERED                  0.440870            0.923716       0.175765   \n",
       "COMPLEXITY_MISSED             1.000000            0.375168       0.802443   \n",
       "COMPLEXITY_COVERED            0.375168            1.000000       0.204759   \n",
       "METHOD_MISSED                 0.802443            0.204759       1.000000   \n",
       "METHOD_COVERED                0.351669            0.956792       0.217873   \n",
       "StatementCoverage            -0.638247           -0.044937      -0.747534   \n",
       "BranchCoverage               -0.664956            0.114370      -0.444312   \n",
       "CodeComplexity                0.638632            0.918549       0.412361   \n",
       "\n",
       "                     METHOD_COVERED  StatementCoverage  BranchCoverage  \\\n",
       "INSTRUCTION_MISSED         0.588873          -0.683981       -0.399059   \n",
       "INSTRUCTION_COVERED        0.806485           0.027760        0.039735   \n",
       "BRANCH_MISSED              0.372960          -0.280650       -0.707596   \n",
       "BRANCH_COVERED             0.473412           0.030046        0.266091   \n",
       "LINE_MISSED                0.562468          -0.765388       -0.457391   \n",
       "LINE_COVERED               0.874287          -0.048379        0.034381   \n",
       "COMPLEXITY_MISSED          0.351669          -0.638247       -0.664956   \n",
       "COMPLEXITY_COVERED         0.956792          -0.044937        0.114370   \n",
       "METHOD_MISSED              0.217873          -0.747534       -0.444312   \n",
       "METHOD_COVERED             1.000000          -0.082590        0.018542   \n",
       "StatementCoverage         -0.082590           1.000000        0.564691   \n",
       "BranchCoverage             0.018542           0.564691        1.000000   \n",
       "CodeComplexity             0.871702          -0.272918       -0.182665   \n",
       "\n",
       "                     CodeComplexity  \n",
       "INSTRUCTION_MISSED         0.722550  \n",
       "INSTRUCTION_COVERED        0.831294  \n",
       "BRANCH_MISSED              0.635607  \n",
       "BRANCH_COVERED             0.671039  \n",
       "LINE_MISSED                0.703932  \n",
       "LINE_COVERED               0.891159  \n",
       "COMPLEXITY_MISSED          0.638632  \n",
       "COMPLEXITY_COVERED         0.918549  \n",
       "METHOD_MISSED              0.412361  \n",
       "METHOD_COVERED             0.871702  \n",
       "StatementCoverage         -0.272918  \n",
       "BranchCoverage            -0.182665  \n",
       "CodeComplexity             1.000000  "
      ]
     },
     "execution_count": 11,
     "metadata": {},
     "output_type": "execute_result"
    }
   ],
   "source": [
    "df_collection.corr(method ='spearman')"
   ]
  },
  {
   "cell_type": "code",
   "execution_count": 12,
   "metadata": {},
   "outputs": [
    {
     "data": {
      "text/html": [
       "<div>\n",
       "<style scoped>\n",
       "    .dataframe tbody tr th:only-of-type {\n",
       "        vertical-align: middle;\n",
       "    }\n",
       "\n",
       "    .dataframe tbody tr th {\n",
       "        vertical-align: top;\n",
       "    }\n",
       "\n",
       "    .dataframe thead th {\n",
       "        text-align: right;\n",
       "    }\n",
       "</style>\n",
       "<table border=\"1\" class=\"dataframe\">\n",
       "  <thead>\n",
       "    <tr style=\"text-align: right;\">\n",
       "      <th></th>\n",
       "      <th>CodeComplexity</th>\n",
       "      <th>StatementCoverage</th>\n",
       "    </tr>\n",
       "  </thead>\n",
       "  <tbody>\n",
       "    <tr>\n",
       "      <th>CodeComplexity</th>\n",
       "      <td>1.000000</td>\n",
       "      <td>-0.272918</td>\n",
       "    </tr>\n",
       "    <tr>\n",
       "      <th>StatementCoverage</th>\n",
       "      <td>-0.272918</td>\n",
       "      <td>1.000000</td>\n",
       "    </tr>\n",
       "  </tbody>\n",
       "</table>\n",
       "</div>"
      ],
      "text/plain": [
       "                   CodeComplexity  StatementCoverage\n",
       "CodeComplexity           1.000000          -0.272918\n",
       "StatementCoverage       -0.272918           1.000000"
      ]
     },
     "execution_count": 12,
     "metadata": {},
     "output_type": "execute_result"
    }
   ],
   "source": [
    "df_collection[['CodeComplexity','StatementCoverage']].corr(method ='spearman')"
   ]
  },
  {
   "cell_type": "code",
   "execution_count": 13,
   "metadata": {},
   "outputs": [
    {
     "data": {
      "text/plain": [
       "SpearmanrResult(correlation=0.07104050828937467, pvalue=0.6850873237766211)"
      ]
     },
     "execution_count": 13,
     "metadata": {},
     "output_type": "execute_result"
    }
   ],
   "source": [
    "df_clean = df_collection.dropna()\n",
    "stats.spearmanr(df_clean['StatementCoverage'], df_clean['CodeComplexity'])"
   ]
  },
  {
   "cell_type": "code",
   "execution_count": 14,
   "metadata": {},
   "outputs": [
    {
     "data": {
      "text/html": [
       "<div>\n",
       "<style scoped>\n",
       "    .dataframe tbody tr th:only-of-type {\n",
       "        vertical-align: middle;\n",
       "    }\n",
       "\n",
       "    .dataframe tbody tr th {\n",
       "        vertical-align: top;\n",
       "    }\n",
       "\n",
       "    .dataframe thead th {\n",
       "        text-align: right;\n",
       "    }\n",
       "</style>\n",
       "<table border=\"1\" class=\"dataframe\">\n",
       "  <thead>\n",
       "    <tr style=\"text-align: right;\">\n",
       "      <th></th>\n",
       "      <th>CodeComplexity</th>\n",
       "      <th>BranchCoverage</th>\n",
       "    </tr>\n",
       "  </thead>\n",
       "  <tbody>\n",
       "    <tr>\n",
       "      <th>CodeComplexity</th>\n",
       "      <td>1.000000</td>\n",
       "      <td>-0.182665</td>\n",
       "    </tr>\n",
       "    <tr>\n",
       "      <th>BranchCoverage</th>\n",
       "      <td>-0.182665</td>\n",
       "      <td>1.000000</td>\n",
       "    </tr>\n",
       "  </tbody>\n",
       "</table>\n",
       "</div>"
      ],
      "text/plain": [
       "                CodeComplexity  BranchCoverage\n",
       "CodeComplexity        1.000000       -0.182665\n",
       "BranchCoverage       -0.182665        1.000000"
      ]
     },
     "execution_count": 14,
     "metadata": {},
     "output_type": "execute_result"
    }
   ],
   "source": [
    "df_collection[['CodeComplexity','BranchCoverage']].corr(method ='spearman')"
   ]
  },
  {
   "cell_type": "code",
   "execution_count": 15,
   "metadata": {},
   "outputs": [
    {
     "data": {
      "text/plain": [
       "SpearmanrResult(correlation=-0.18266547614847217, pvalue=0.2935868165590593)"
      ]
     },
     "execution_count": 15,
     "metadata": {},
     "output_type": "execute_result"
    }
   ],
   "source": [
    "df_clean = df_collection.dropna()\n",
    "stats.spearmanr(df_clean['BranchCoverage'], df_clean['CodeComplexity'])"
   ]
  },
  {
   "cell_type": "code",
   "execution_count": 16,
   "metadata": {},
   "outputs": [
    {
     "name": "stdout",
     "output_type": "stream",
     "text": [
      "Statment Coverage 84.30193720774884\n"
     ]
    }
   ],
   "source": [
    "print('Statment Coverage '+str((df_collection.LINE_COVERED.sum()/(df_collection.LINE_MISSED.sum() + df_collection.LINE_COVERED.sum()))*100))"
   ]
  },
  {
   "cell_type": "code",
   "execution_count": 17,
   "metadata": {},
   "outputs": [
    {
     "name": "stdout",
     "output_type": "stream",
     "text": [
      "Branch Coverage 78.81548974943053\n"
     ]
    }
   ],
   "source": [
    "print('Branch Coverage '+str((df_collection.BRANCH_COVERED.sum()/(df_collection.BRANCH_MISSED.sum() + df_collection.BRANCH_COVERED.sum()))*100))"
   ]
  },
  {
   "cell_type": "code",
   "execution_count": null,
   "metadata": {},
   "outputs": [],
   "source": []
  }
 ],
 "metadata": {
  "kernelspec": {
   "display_name": "Python 3",
   "language": "python",
   "name": "python3"
  },
  "language_info": {
   "codemirror_mode": {
    "name": "ipython",
    "version": 3
   },
   "file_extension": ".py",
   "mimetype": "text/x-python",
   "name": "python",
   "nbconvert_exporter": "python",
   "pygments_lexer": "ipython3",
   "version": "3.6.7"
  }
 },
 "nbformat": 4,
 "nbformat_minor": 2
}
