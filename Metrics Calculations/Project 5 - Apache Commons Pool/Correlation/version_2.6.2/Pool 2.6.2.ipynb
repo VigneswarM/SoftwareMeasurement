{
 "cells": [
  {
   "cell_type": "code",
   "execution_count": 1,
   "metadata": {},
   "outputs": [
    {
     "data": {
      "text/html": [
       "<div>\n",
       "<style scoped>\n",
       "    .dataframe tbody tr th:only-of-type {\n",
       "        vertical-align: middle;\n",
       "    }\n",
       "\n",
       "    .dataframe tbody tr th {\n",
       "        vertical-align: top;\n",
       "    }\n",
       "\n",
       "    .dataframe thead th {\n",
       "        text-align: right;\n",
       "    }\n",
       "</style>\n",
       "<table border=\"1\" class=\"dataframe\">\n",
       "  <thead>\n",
       "    <tr style=\"text-align: right;\">\n",
       "      <th></th>\n",
       "      <th>GROUP</th>\n",
       "      <th>PACKAGE</th>\n",
       "      <th>CLASS</th>\n",
       "      <th>INSTRUCTION_MISSED</th>\n",
       "      <th>INSTRUCTION_COVERED</th>\n",
       "      <th>BRANCH_MISSED</th>\n",
       "      <th>BRANCH_COVERED</th>\n",
       "      <th>LINE_MISSED</th>\n",
       "      <th>LINE_COVERED</th>\n",
       "      <th>COMPLEXITY_MISSED</th>\n",
       "      <th>COMPLEXITY_COVERED</th>\n",
       "      <th>METHOD_MISSED</th>\n",
       "      <th>METHOD_COVERED</th>\n",
       "      <th>Statement Coverage</th>\n",
       "      <th>Branch Coverage</th>\n",
       "      <th>Code Complexity</th>\n",
       "    </tr>\n",
       "  </thead>\n",
       "  <tbody>\n",
       "    <tr>\n",
       "      <th>0</th>\n",
       "      <td>Apache Commons Pool</td>\n",
       "      <td>org.apache.commons.pool2.impl</td>\n",
       "      <td>DefaultPooledObject</td>\n",
       "      <td>46</td>\n",
       "      <td>262</td>\n",
       "      <td>3</td>\n",
       "      <td>25</td>\n",
       "      <td>10</td>\n",
       "      <td>78</td>\n",
       "      <td>5</td>\n",
       "      <td>32</td>\n",
       "      <td>2</td>\n",
       "      <td>21</td>\n",
       "      <td>88.636364</td>\n",
       "      <td>89.285714</td>\n",
       "      <td>37</td>\n",
       "    </tr>\n",
       "    <tr>\n",
       "      <th>1</th>\n",
       "      <td>Apache Commons Pool</td>\n",
       "      <td>org.apache.commons.pool2.impl</td>\n",
       "      <td>LinkedBlockingDeque.Itr</td>\n",
       "      <td>0</td>\n",
       "      <td>14</td>\n",
       "      <td>0</td>\n",
       "      <td>0</td>\n",
       "      <td>0</td>\n",
       "      <td>3</td>\n",
       "      <td>0</td>\n",
       "      <td>3</td>\n",
       "      <td>0</td>\n",
       "      <td>3</td>\n",
       "      <td>100.000000</td>\n",
       "      <td>0.000000</td>\n",
       "      <td>3</td>\n",
       "    </tr>\n",
       "    <tr>\n",
       "      <th>2</th>\n",
       "      <td>Apache Commons Pool</td>\n",
       "      <td>org.apache.commons.pool2.impl</td>\n",
       "      <td>ThrowableCallStack</td>\n",
       "      <td>5</td>\n",
       "      <td>64</td>\n",
       "      <td>0</td>\n",
       "      <td>6</td>\n",
       "      <td>0</td>\n",
       "      <td>19</td>\n",
       "      <td>0</td>\n",
       "      <td>7</td>\n",
       "      <td>0</td>\n",
       "      <td>4</td>\n",
       "      <td>100.000000</td>\n",
       "      <td>100.000000</td>\n",
       "      <td>7</td>\n",
       "    </tr>\n",
       "    <tr>\n",
       "      <th>3</th>\n",
       "      <td>Apache Commons Pool</td>\n",
       "      <td>org.apache.commons.pool2.impl</td>\n",
       "      <td>AbandonedConfig</td>\n",
       "      <td>65</td>\n",
       "      <td>76</td>\n",
       "      <td>0</td>\n",
       "      <td>0</td>\n",
       "      <td>15</td>\n",
       "      <td>29</td>\n",
       "      <td>1</td>\n",
       "      <td>15</td>\n",
       "      <td>1</td>\n",
       "      <td>15</td>\n",
       "      <td>65.909091</td>\n",
       "      <td>0.000000</td>\n",
       "      <td>16</td>\n",
       "    </tr>\n",
       "    <tr>\n",
       "      <th>4</th>\n",
       "      <td>Apache Commons Pool</td>\n",
       "      <td>org.apache.commons.pool2.impl</td>\n",
       "      <td>EvictionConfig</td>\n",
       "      <td>38</td>\n",
       "      <td>37</td>\n",
       "      <td>0</td>\n",
       "      <td>4</td>\n",
       "      <td>9</td>\n",
       "      <td>12</td>\n",
       "      <td>1</td>\n",
       "      <td>6</td>\n",
       "      <td>1</td>\n",
       "      <td>4</td>\n",
       "      <td>57.142857</td>\n",
       "      <td>100.000000</td>\n",
       "      <td>7</td>\n",
       "    </tr>\n",
       "  </tbody>\n",
       "</table>\n",
       "</div>"
      ],
      "text/plain": [
       "                 GROUP                        PACKAGE  \\\n",
       "0  Apache Commons Pool  org.apache.commons.pool2.impl   \n",
       "1  Apache Commons Pool  org.apache.commons.pool2.impl   \n",
       "2  Apache Commons Pool  org.apache.commons.pool2.impl   \n",
       "3  Apache Commons Pool  org.apache.commons.pool2.impl   \n",
       "4  Apache Commons Pool  org.apache.commons.pool2.impl   \n",
       "\n",
       "                     CLASS  INSTRUCTION_MISSED  INSTRUCTION_COVERED  \\\n",
       "0      DefaultPooledObject                  46                  262   \n",
       "1  LinkedBlockingDeque.Itr                   0                   14   \n",
       "2       ThrowableCallStack                   5                   64   \n",
       "3          AbandonedConfig                  65                   76   \n",
       "4           EvictionConfig                  38                   37   \n",
       "\n",
       "   BRANCH_MISSED  BRANCH_COVERED  LINE_MISSED  LINE_COVERED  \\\n",
       "0              3              25           10            78   \n",
       "1              0               0            0             3   \n",
       "2              0               6            0            19   \n",
       "3              0               0           15            29   \n",
       "4              0               4            9            12   \n",
       "\n",
       "   COMPLEXITY_MISSED  COMPLEXITY_COVERED  METHOD_MISSED  METHOD_COVERED  \\\n",
       "0                  5                  32              2              21   \n",
       "1                  0                   3              0               3   \n",
       "2                  0                   7              0               4   \n",
       "3                  1                  15              1              15   \n",
       "4                  1                   6              1               4   \n",
       "\n",
       "   Statement Coverage  Branch Coverage  Code Complexity  \n",
       "0           88.636364        89.285714               37  \n",
       "1          100.000000         0.000000                3  \n",
       "2          100.000000       100.000000                7  \n",
       "3           65.909091         0.000000               16  \n",
       "4           57.142857       100.000000                7  "
      ]
     },
     "execution_count": 1,
     "metadata": {},
     "output_type": "execute_result"
    }
   ],
   "source": [
    "import pandas as pd\n",
    "\n",
    "df_collection = pd.read_csv('jacoco_2.6.2.csv', error_bad_lines=False)\n",
    "\n",
    "import matplotlib.pyplot as plt\n",
    "\n",
    "df_collection.head()"
   ]
  },
  {
   "cell_type": "code",
   "execution_count": 2,
   "metadata": {},
   "outputs": [
    {
     "data": {
      "text/plain": [
       "<matplotlib.axes._subplots.AxesSubplot at 0x7f55c193a198>"
      ]
     },
     "execution_count": 2,
     "metadata": {},
     "output_type": "execute_result"
    },
    {
     "data": {
      "image/png": "[encoded data removed]",
      "text/plain": [
       "<Figure size 432x288 with 1 Axes>"
      ]
     },
     "metadata": {
      "needs_background": "light"
     },
     "output_type": "display_data"
    },
    {
     "data": {
      "image/png": "[encoded data removed]",
      "text/plain": [
       "<Figure size 432x288 with 1 Axes>"
      ]
     },
     "metadata": {
      "needs_background": "light"
     },
     "output_type": "display_data"
    }
   ],
   "source": [
    "df_collection.plot(x='Code Complexity', y='Statement Coverage', style='o')\n",
    "\n",
    "df_collection.plot(x='Code Complexity', y='Branch Coverage', style='o')"
   ]
  },
  {
   "cell_type": "code",
   "execution_count": 3,
   "metadata": {},
   "outputs": [
    {
     "data": {
      "image/png": "[encoded data removed]",
      "text/plain": [
       "<Figure size 432x288 with 1 Axes>"
      ]
     },
     "metadata": {
      "needs_background": "light"
     },
     "output_type": "display_data"
    }
   ],
   "source": [
    "plt.scatter(df_collection['Code Complexity'], df_collection['Statement Coverage'])\n",
    "plt.show()"
   ]
  },
  {
   "cell_type": "code",
   "execution_count": 4,
   "metadata": {},
   "outputs": [
    {
     "data": {
      "text/html": [
       "<div>\n",
       "<style scoped>\n",
       "    .dataframe tbody tr th:only-of-type {\n",
       "        vertical-align: middle;\n",
       "    }\n",
       "\n",
       "    .dataframe tbody tr th {\n",
       "        vertical-align: top;\n",
       "    }\n",
       "\n",
       "    .dataframe thead th {\n",
       "        text-align: right;\n",
       "    }\n",
       "</style>\n",
       "<table border=\"1\" class=\"dataframe\">\n",
       "  <thead>\n",
       "    <tr style=\"text-align: right;\">\n",
       "      <th></th>\n",
       "      <th>Code Complexity</th>\n",
       "      <th>Branch Coverage</th>\n",
       "    </tr>\n",
       "  </thead>\n",
       "  <tbody>\n",
       "    <tr>\n",
       "      <th>Code Complexity</th>\n",
       "      <td>1.000000</td>\n",
       "      <td>0.477409</td>\n",
       "    </tr>\n",
       "    <tr>\n",
       "      <th>Branch Coverage</th>\n",
       "      <td>0.477409</td>\n",
       "      <td>1.000000</td>\n",
       "    </tr>\n",
       "  </tbody>\n",
       "</table>\n",
       "</div>"
      ],
      "text/plain": [
       "                 Code Complexity  Branch Coverage\n",
       "Code Complexity         1.000000         0.477409\n",
       "Branch Coverage         0.477409         1.000000"
      ]
     },
     "execution_count": 4,
     "metadata": {},
     "output_type": "execute_result"
    }
   ],
   "source": [
    "df_collection.corr(method ='spearman')\n",
    "\n",
    "df_collection[['Code Complexity','Statement Coverage']].corr(method ='spearman')\n",
    "\n",
    "df_collection[['Code Complexity','Branch Coverage']].corr(method ='spearman')"
   ]
  },
  {
   "cell_type": "code",
   "execution_count": null,
   "metadata": {},
   "outputs": [],
   "source": []
  }
 ],
 "metadata": {
  "kernelspec": {
   "display_name": "Python 3",
   "language": "python",
   "name": "python3"
  },
  "language_info": {
   "codemirror_mode": {
    "name": "ipython",
    "version": 3
   },
   "file_extension": ".py",
   "mimetype": "text/x-python",
   "name": "python",
   "nbconvert_exporter": "python",
   "pygments_lexer": "ipython3",
   "version": "3.6.7"
  }
 },
 "nbformat": 4,
 "nbformat_minor": 2
}
