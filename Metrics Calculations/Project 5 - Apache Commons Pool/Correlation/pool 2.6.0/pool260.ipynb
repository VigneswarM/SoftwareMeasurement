{
 "cells": [
  {
   "cell_type": "code",
   "execution_count": 1,
   "metadata": {},
   "outputs": [],
   "source": [
    "import pandas as pd\n",
    "import scipy.stats  as stats"
   ]
  },
  {
   "cell_type": "code",
   "execution_count": 2,
   "metadata": {},
   "outputs": [],
   "source": [
    "df_collection = pd.read_csv('pool260.csv', error_bad_lines=False)"
   ]
  },
  {
   "cell_type": "code",
   "execution_count": 3,
   "metadata": {},
   "outputs": [],
   "source": [
    "import matplotlib.pyplot as plt"
   ]
  },
  {
   "cell_type": "code",
   "execution_count": 4,
   "metadata": {},
   "outputs": [],
   "source": [
    "df_collection['StatementCoverage'] =  (df_collection['LINE_COVERED'] / (df_collection['LINE_COVERED'] + df_collection['LINE_MISSED'])) * 100"
   ]
  },
  {
   "cell_type": "code",
   "execution_count": 5,
   "metadata": {},
   "outputs": [],
   "source": [
    "df_collection['BranchCoverage'] =  (df_collection['BRANCH_COVERED'] / (df_collection['BRANCH_COVERED'] + df_collection['BRANCH_MISSED'])) * 100"
   ]
  },
  {
   "cell_type": "code",
   "execution_count": 6,
   "metadata": {},
   "outputs": [],
   "source": [
    "df_collection['CodeComplexity'] =  df_collection['COMPLEXITY_COVERED'] + df_collection['COMPLEXITY_MISSED'];"
   ]
  },
  {
   "cell_type": "code",
   "execution_count": 7,
   "metadata": {},
   "outputs": [
    {
     "data": {
      "text/html": [
       "<div>\n",
       "<style scoped>\n",
       "    .dataframe tbody tr th:only-of-type {\n",
       "        vertical-align: middle;\n",
       "    }\n",
       "\n",
       "    .dataframe tbody tr th {\n",
       "        vertical-align: top;\n",
       "    }\n",
       "\n",
       "    .dataframe thead th {\n",
       "        text-align: right;\n",
       "    }\n",
       "</style>\n",
       "<table border=\"1\" class=\"dataframe\">\n",
       "  <thead>\n",
       "    <tr style=\"text-align: right;\">\n",
       "      <th></th>\n",
       "      <th>GROUP</th>\n",
       "      <th>PACKAGE</th>\n",
       "      <th>CLASS</th>\n",
       "      <th>INSTRUCTION_MISSED</th>\n",
       "      <th>INSTRUCTION_COVERED</th>\n",
       "      <th>BRANCH_MISSED</th>\n",
       "      <th>BRANCH_COVERED</th>\n",
       "      <th>LINE_MISSED</th>\n",
       "      <th>LINE_COVERED</th>\n",
       "      <th>COMPLEXITY_MISSED</th>\n",
       "      <th>COMPLEXITY_COVERED</th>\n",
       "      <th>METHOD_MISSED</th>\n",
       "      <th>METHOD_COVERED</th>\n",
       "      <th>StatementCoverage</th>\n",
       "      <th>BranchCoverage</th>\n",
       "      <th>CodeComplexity</th>\n",
       "    </tr>\n",
       "  </thead>\n",
       "  <tbody>\n",
       "    <tr>\n",
       "      <th>0</th>\n",
       "      <td>Apache Commons Pool</td>\n",
       "      <td>org.apache.commons.pool2.impl</td>\n",
       "      <td>DefaultPooledObject</td>\n",
       "      <td>47</td>\n",
       "      <td>261</td>\n",
       "      <td>4</td>\n",
       "      <td>24</td>\n",
       "      <td>10</td>\n",
       "      <td>78</td>\n",
       "      <td>6</td>\n",
       "      <td>31</td>\n",
       "      <td>2</td>\n",
       "      <td>21</td>\n",
       "      <td>88.636364</td>\n",
       "      <td>85.714286</td>\n",
       "      <td>37</td>\n",
       "    </tr>\n",
       "    <tr>\n",
       "      <th>1</th>\n",
       "      <td>Apache Commons Pool</td>\n",
       "      <td>org.apache.commons.pool2.impl</td>\n",
       "      <td>LinkedBlockingDeque.Itr</td>\n",
       "      <td>0</td>\n",
       "      <td>14</td>\n",
       "      <td>0</td>\n",
       "      <td>0</td>\n",
       "      <td>0</td>\n",
       "      <td>3</td>\n",
       "      <td>0</td>\n",
       "      <td>3</td>\n",
       "      <td>0</td>\n",
       "      <td>3</td>\n",
       "      <td>100.000000</td>\n",
       "      <td>NaN</td>\n",
       "      <td>3</td>\n",
       "    </tr>\n",
       "    <tr>\n",
       "      <th>2</th>\n",
       "      <td>Apache Commons Pool</td>\n",
       "      <td>org.apache.commons.pool2.impl</td>\n",
       "      <td>ThrowableCallStack</td>\n",
       "      <td>5</td>\n",
       "      <td>64</td>\n",
       "      <td>0</td>\n",
       "      <td>6</td>\n",
       "      <td>0</td>\n",
       "      <td>19</td>\n",
       "      <td>0</td>\n",
       "      <td>7</td>\n",
       "      <td>0</td>\n",
       "      <td>4</td>\n",
       "      <td>100.000000</td>\n",
       "      <td>100.000000</td>\n",
       "      <td>7</td>\n",
       "    </tr>\n",
       "    <tr>\n",
       "      <th>3</th>\n",
       "      <td>Apache Commons Pool</td>\n",
       "      <td>org.apache.commons.pool2.impl</td>\n",
       "      <td>AbandonedConfig</td>\n",
       "      <td>65</td>\n",
       "      <td>76</td>\n",
       "      <td>0</td>\n",
       "      <td>0</td>\n",
       "      <td>15</td>\n",
       "      <td>29</td>\n",
       "      <td>1</td>\n",
       "      <td>15</td>\n",
       "      <td>1</td>\n",
       "      <td>15</td>\n",
       "      <td>65.909091</td>\n",
       "      <td>NaN</td>\n",
       "      <td>16</td>\n",
       "    </tr>\n",
       "    <tr>\n",
       "      <th>4</th>\n",
       "      <td>Apache Commons Pool</td>\n",
       "      <td>org.apache.commons.pool2.impl</td>\n",
       "      <td>EvictionConfig</td>\n",
       "      <td>38</td>\n",
       "      <td>37</td>\n",
       "      <td>0</td>\n",
       "      <td>4</td>\n",
       "      <td>9</td>\n",
       "      <td>12</td>\n",
       "      <td>1</td>\n",
       "      <td>6</td>\n",
       "      <td>1</td>\n",
       "      <td>4</td>\n",
       "      <td>57.142857</td>\n",
       "      <td>100.000000</td>\n",
       "      <td>7</td>\n",
       "    </tr>\n",
       "  </tbody>\n",
       "</table>\n",
       "</div>"
      ],
      "text/plain": [
       "                 GROUP                        PACKAGE  \\\n",
       "0  Apache Commons Pool  org.apache.commons.pool2.impl   \n",
       "1  Apache Commons Pool  org.apache.commons.pool2.impl   \n",
       "2  Apache Commons Pool  org.apache.commons.pool2.impl   \n",
       "3  Apache Commons Pool  org.apache.commons.pool2.impl   \n",
       "4  Apache Commons Pool  org.apache.commons.pool2.impl   \n",
       "\n",
       "                     CLASS  INSTRUCTION_MISSED  INSTRUCTION_COVERED  \\\n",
       "0      DefaultPooledObject                  47                  261   \n",
       "1  LinkedBlockingDeque.Itr                   0                   14   \n",
       "2       ThrowableCallStack                   5                   64   \n",
       "3          AbandonedConfig                  65                   76   \n",
       "4           EvictionConfig                  38                   37   \n",
       "\n",
       "   BRANCH_MISSED  BRANCH_COVERED  LINE_MISSED  LINE_COVERED  \\\n",
       "0              4              24           10            78   \n",
       "1              0               0            0             3   \n",
       "2              0               6            0            19   \n",
       "3              0               0           15            29   \n",
       "4              0               4            9            12   \n",
       "\n",
       "   COMPLEXITY_MISSED  COMPLEXITY_COVERED  METHOD_MISSED  METHOD_COVERED  \\\n",
       "0                  6                  31              2              21   \n",
       "1                  0                   3              0               3   \n",
       "2                  0                   7              0               4   \n",
       "3                  1                  15              1              15   \n",
       "4                  1                   6              1               4   \n",
       "\n",
       "   StatementCoverage  BranchCoverage  CodeComplexity  \n",
       "0          88.636364       85.714286              37  \n",
       "1         100.000000             NaN               3  \n",
       "2         100.000000      100.000000               7  \n",
       "3          65.909091             NaN              16  \n",
       "4          57.142857      100.000000               7  "
      ]
     },
     "execution_count": 7,
     "metadata": {},
     "output_type": "execute_result"
    }
   ],
   "source": [
    "df_collection.head()"
   ]
  },
  {
   "cell_type": "code",
   "execution_count": 8,
   "metadata": {},
   "outputs": [
    {
     "data": {
      "text/plain": [
       "<matplotlib.axes._subplots.AxesSubplot at 0x7fe7432f3550>"
      ]
     },
     "execution_count": 8,
     "metadata": {},
     "output_type": "execute_result"
    },
    {
     "data": {
      "image/png": "[encoded data removed]",
      "text/plain": [
       "<Figure size 432x288 with 1 Axes>"
      ]
     },
     "metadata": {
      "needs_background": "light"
     },
     "output_type": "display_data"
    }
   ],
   "source": [
    "df_collection.plot(x='CodeComplexity', y='StatementCoverage', style='o')"
   ]
  },
  {
   "cell_type": "code",
   "execution_count": 9,
   "metadata": {},
   "outputs": [
    {
     "data": {
      "text/plain": [
       "<matplotlib.axes._subplots.AxesSubplot at 0x7fe7411b6668>"
      ]
     },
     "execution_count": 9,
     "metadata": {},
     "output_type": "execute_result"
    },
    {
     "data": {
      "image/png": "[encoded data removed]",
      "text/plain": [
       "<Figure size 432x288 with 1 Axes>"
      ]
     },
     "metadata": {
      "needs_background": "light"
     },
     "output_type": "display_data"
    }
   ],
   "source": [
    "df_collection.plot(x='CodeComplexity', y='BranchCoverage', style='o')"
   ]
  },
  {
   "cell_type": "code",
   "execution_count": 10,
   "metadata": {},
   "outputs": [
    {
     "data": {
      "image/png": "[encoded data removed]",
      "text/plain": [
       "<Figure size 432x288 with 1 Axes>"
      ]
     },
     "metadata": {
      "needs_background": "light"
     },
     "output_type": "display_data"
    }
   ],
   "source": [
    "plt.scatter(df_collection['CodeComplexity'], df_collection['StatementCoverage'])\n",
    "plt.show()"
   ]
  },
  {
   "cell_type": "code",
   "execution_count": 11,
   "metadata": {},
   "outputs": [
    {
     "data": {
      "text/html": [
       "<div>\n",
       "<style scoped>\n",
       "    .dataframe tbody tr th:only-of-type {\n",
       "        vertical-align: middle;\n",
       "    }\n",
       "\n",
       "    .dataframe tbody tr th {\n",
       "        vertical-align: top;\n",
       "    }\n",
       "\n",
       "    .dataframe thead th {\n",
       "        text-align: right;\n",
       "    }\n",
       "</style>\n",
       "<table border=\"1\" class=\"dataframe\">\n",
       "  <thead>\n",
       "    <tr style=\"text-align: right;\">\n",
       "      <th></th>\n",
       "      <th>INSTRUCTION_MISSED</th>\n",
       "      <th>INSTRUCTION_COVERED</th>\n",
       "      <th>BRANCH_MISSED</th>\n",
       "      <th>BRANCH_COVERED</th>\n",
       "      <th>LINE_MISSED</th>\n",
       "      <th>LINE_COVERED</th>\n",
       "      <th>COMPLEXITY_MISSED</th>\n",
       "      <th>COMPLEXITY_COVERED</th>\n",
       "      <th>METHOD_MISSED</th>\n",
       "      <th>METHOD_COVERED</th>\n",
       "      <th>StatementCoverage</th>\n",
       "      <th>BranchCoverage</th>\n",
       "      <th>CodeComplexity</th>\n",
       "    </tr>\n",
       "  </thead>\n",
       "  <tbody>\n",
       "    <tr>\n",
       "      <th>INSTRUCTION_MISSED</th>\n",
       "      <td>1.000000</td>\n",
       "      <td>0.542757</td>\n",
       "      <td>0.535658</td>\n",
       "      <td>0.306012</td>\n",
       "      <td>0.946935</td>\n",
       "      <td>0.607655</td>\n",
       "      <td>0.721527</td>\n",
       "      <td>0.558642</td>\n",
       "      <td>0.657810</td>\n",
       "      <td>0.596273</td>\n",
       "      <td>-0.688174</td>\n",
       "      <td>-0.396157</td>\n",
       "      <td>0.721071</td>\n",
       "    </tr>\n",
       "    <tr>\n",
       "      <th>INSTRUCTION_COVERED</th>\n",
       "      <td>0.542757</td>\n",
       "      <td>1.000000</td>\n",
       "      <td>0.484910</td>\n",
       "      <td>0.684653</td>\n",
       "      <td>0.459912</td>\n",
       "      <td>0.962434</td>\n",
       "      <td>0.424689</td>\n",
       "      <td>0.861133</td>\n",
       "      <td>0.163272</td>\n",
       "      <td>0.805541</td>\n",
       "      <td>0.022789</td>\n",
       "      <td>0.034813</td>\n",
       "      <td>0.826616</td>\n",
       "    </tr>\n",
       "    <tr>\n",
       "      <th>BRANCH_MISSED</th>\n",
       "      <td>0.535658</td>\n",
       "      <td>0.484910</td>\n",
       "      <td>1.000000</td>\n",
       "      <td>0.605812</td>\n",
       "      <td>0.559934</td>\n",
       "      <td>0.495663</td>\n",
       "      <td>0.807741</td>\n",
       "      <td>0.424806</td>\n",
       "      <td>0.400471</td>\n",
       "      <td>0.386901</td>\n",
       "      <td>-0.284698</td>\n",
       "      <td>-0.708236</td>\n",
       "      <td>0.643587</td>\n",
       "    </tr>\n",
       "    <tr>\n",
       "      <th>BRANCH_COVERED</th>\n",
       "      <td>0.306012</td>\n",
       "      <td>0.684653</td>\n",
       "      <td>0.605812</td>\n",
       "      <td>1.000000</td>\n",
       "      <td>0.303902</td>\n",
       "      <td>0.704943</td>\n",
       "      <td>0.415333</td>\n",
       "      <td>0.649499</td>\n",
       "      <td>0.081157</td>\n",
       "      <td>0.487693</td>\n",
       "      <td>0.031886</td>\n",
       "      <td>0.249206</td>\n",
       "      <td>0.670406</td>\n",
       "    </tr>\n",
       "    <tr>\n",
       "      <th>LINE_MISSED</th>\n",
       "      <td>0.946935</td>\n",
       "      <td>0.459912</td>\n",
       "      <td>0.559934</td>\n",
       "      <td>0.303902</td>\n",
       "      <td>1.000000</td>\n",
       "      <td>0.542580</td>\n",
       "      <td>0.793367</td>\n",
       "      <td>0.535496</td>\n",
       "      <td>0.751994</td>\n",
       "      <td>0.572851</td>\n",
       "      <td>-0.769145</td>\n",
       "      <td>-0.458117</td>\n",
       "      <td>0.704610</td>\n",
       "    </tr>\n",
       "    <tr>\n",
       "      <th>LINE_COVERED</th>\n",
       "      <td>0.607655</td>\n",
       "      <td>0.962434</td>\n",
       "      <td>0.495663</td>\n",
       "      <td>0.704943</td>\n",
       "      <td>0.542580</td>\n",
       "      <td>1.000000</td>\n",
       "      <td>0.448112</td>\n",
       "      <td>0.921952</td>\n",
       "      <td>0.180278</td>\n",
       "      <td>0.871333</td>\n",
       "      <td>-0.057918</td>\n",
       "      <td>0.032282</td>\n",
       "      <td>0.887978</td>\n",
       "    </tr>\n",
       "    <tr>\n",
       "      <th>COMPLEXITY_MISSED</th>\n",
       "      <td>0.721527</td>\n",
       "      <td>0.424689</td>\n",
       "      <td>0.807741</td>\n",
       "      <td>0.415333</td>\n",
       "      <td>0.793367</td>\n",
       "      <td>0.448112</td>\n",
       "      <td>1.000000</td>\n",
       "      <td>0.385102</td>\n",
       "      <td>0.804074</td>\n",
       "      <td>0.367647</td>\n",
       "      <td>-0.644275</td>\n",
       "      <td>-0.663928</td>\n",
       "      <td>0.642792</td>\n",
       "    </tr>\n",
       "    <tr>\n",
       "      <th>COMPLEXITY_COVERED</th>\n",
       "      <td>0.558642</td>\n",
       "      <td>0.861133</td>\n",
       "      <td>0.424806</td>\n",
       "      <td>0.649499</td>\n",
       "      <td>0.535496</td>\n",
       "      <td>0.921952</td>\n",
       "      <td>0.385102</td>\n",
       "      <td>1.000000</td>\n",
       "      <td>0.206019</td>\n",
       "      <td>0.959107</td>\n",
       "      <td>-0.056771</td>\n",
       "      <td>0.102541</td>\n",
       "      <td>0.921965</td>\n",
       "    </tr>\n",
       "    <tr>\n",
       "      <th>METHOD_MISSED</th>\n",
       "      <td>0.657810</td>\n",
       "      <td>0.163272</td>\n",
       "      <td>0.400471</td>\n",
       "      <td>0.081157</td>\n",
       "      <td>0.751994</td>\n",
       "      <td>0.180278</td>\n",
       "      <td>0.804074</td>\n",
       "      <td>0.206019</td>\n",
       "      <td>1.000000</td>\n",
       "      <td>0.231536</td>\n",
       "      <td>-0.752812</td>\n",
       "      <td>-0.446031</td>\n",
       "      <td>0.413730</td>\n",
       "    </tr>\n",
       "    <tr>\n",
       "      <th>METHOD_COVERED</th>\n",
       "      <td>0.596273</td>\n",
       "      <td>0.805541</td>\n",
       "      <td>0.386901</td>\n",
       "      <td>0.487693</td>\n",
       "      <td>0.572851</td>\n",
       "      <td>0.871333</td>\n",
       "      <td>0.367647</td>\n",
       "      <td>0.959107</td>\n",
       "      <td>0.231536</td>\n",
       "      <td>1.000000</td>\n",
       "      <td>-0.103263</td>\n",
       "      <td>0.007855</td>\n",
       "      <td>0.882013</td>\n",
       "    </tr>\n",
       "    <tr>\n",
       "      <th>StatementCoverage</th>\n",
       "      <td>-0.688174</td>\n",
       "      <td>0.022789</td>\n",
       "      <td>-0.284698</td>\n",
       "      <td>0.031886</td>\n",
       "      <td>-0.769145</td>\n",
       "      <td>-0.057918</td>\n",
       "      <td>-0.644275</td>\n",
       "      <td>-0.056771</td>\n",
       "      <td>-0.752812</td>\n",
       "      <td>-0.103263</td>\n",
       "      <td>1.000000</td>\n",
       "      <td>0.570888</td>\n",
       "      <td>-0.280860</td>\n",
       "    </tr>\n",
       "    <tr>\n",
       "      <th>BranchCoverage</th>\n",
       "      <td>-0.396157</td>\n",
       "      <td>0.034813</td>\n",
       "      <td>-0.708236</td>\n",
       "      <td>0.249206</td>\n",
       "      <td>-0.458117</td>\n",
       "      <td>0.032282</td>\n",
       "      <td>-0.663928</td>\n",
       "      <td>0.102541</td>\n",
       "      <td>-0.446031</td>\n",
       "      <td>0.007855</td>\n",
       "      <td>0.570888</td>\n",
       "      <td>1.000000</td>\n",
       "      <td>-0.209508</td>\n",
       "    </tr>\n",
       "    <tr>\n",
       "      <th>CodeComplexity</th>\n",
       "      <td>0.721071</td>\n",
       "      <td>0.826616</td>\n",
       "      <td>0.643587</td>\n",
       "      <td>0.670406</td>\n",
       "      <td>0.704610</td>\n",
       "      <td>0.887978</td>\n",
       "      <td>0.642792</td>\n",
       "      <td>0.921965</td>\n",
       "      <td>0.413730</td>\n",
       "      <td>0.882013</td>\n",
       "      <td>-0.280860</td>\n",
       "      <td>-0.209508</td>\n",
       "      <td>1.000000</td>\n",
       "    </tr>\n",
       "  </tbody>\n",
       "</table>\n",
       "</div>"
      ],
      "text/plain": [
       "                     INSTRUCTION_MISSED  INSTRUCTION_COVERED  BRANCH_MISSED  \\\n",
       "INSTRUCTION_MISSED             1.000000             0.542757       0.535658   \n",
       "INSTRUCTION_COVERED            0.542757             1.000000       0.484910   \n",
       "BRANCH_MISSED                  0.535658             0.484910       1.000000   \n",
       "BRANCH_COVERED                 0.306012             0.684653       0.605812   \n",
       "LINE_MISSED                    0.946935             0.459912       0.559934   \n",
       "LINE_COVERED                   0.607655             0.962434       0.495663   \n",
       "COMPLEXITY_MISSED              0.721527             0.424689       0.807741   \n",
       "COMPLEXITY_COVERED             0.558642             0.861133       0.424806   \n",
       "METHOD_MISSED                  0.657810             0.163272       0.400471   \n",
       "METHOD_COVERED                 0.596273             0.805541       0.386901   \n",
       "StatementCoverage             -0.688174             0.022789      -0.284698   \n",
       "BranchCoverage                -0.396157             0.034813      -0.708236   \n",
       "CodeComplexity                 0.721071             0.826616       0.643587   \n",
       "\n",
       "                     BRANCH_COVERED  LINE_MISSED  LINE_COVERED  \\\n",
       "INSTRUCTION_MISSED         0.306012     0.946935      0.607655   \n",
       "INSTRUCTION_COVERED        0.684653     0.459912      0.962434   \n",
       "BRANCH_MISSED              0.605812     0.559934      0.495663   \n",
       "BRANCH_COVERED             1.000000     0.303902      0.704943   \n",
       "LINE_MISSED                0.303902     1.000000      0.542580   \n",
       "LINE_COVERED               0.704943     0.542580      1.000000   \n",
       "COMPLEXITY_MISSED          0.415333     0.793367      0.448112   \n",
       "COMPLEXITY_COVERED         0.649499     0.535496      0.921952   \n",
       "METHOD_MISSED              0.081157     0.751994      0.180278   \n",
       "METHOD_COVERED             0.487693     0.572851      0.871333   \n",
       "StatementCoverage          0.031886    -0.769145     -0.057918   \n",
       "BranchCoverage             0.249206    -0.458117      0.032282   \n",
       "CodeComplexity             0.670406     0.704610      0.887978   \n",
       "\n",
       "                     COMPLEXITY_MISSED  COMPLEXITY_COVERED  METHOD_MISSED  \\\n",
       "INSTRUCTION_MISSED            0.721527            0.558642       0.657810   \n",
       "INSTRUCTION_COVERED           0.424689            0.861133       0.163272   \n",
       "BRANCH_MISSED                 0.807741            0.424806       0.400471   \n",
       "BRANCH_COVERED                0.415333            0.649499       0.081157   \n",
       "LINE_MISSED                   0.793367            0.535496       0.751994   \n",
       "LINE_COVERED                  0.448112            0.921952       0.180278   \n",
       "COMPLEXITY_MISSED             1.000000            0.385102       0.804074   \n",
       "COMPLEXITY_COVERED            0.385102            1.000000       0.206019   \n",
       "METHOD_MISSED                 0.804074            0.206019       1.000000   \n",
       "METHOD_COVERED                0.367647            0.959107       0.231536   \n",
       "StatementCoverage            -0.644275           -0.056771      -0.752812   \n",
       "BranchCoverage               -0.663928            0.102541      -0.446031   \n",
       "CodeComplexity                0.642792            0.921965       0.413730   \n",
       "\n",
       "                     METHOD_COVERED  StatementCoverage  BranchCoverage  \\\n",
       "INSTRUCTION_MISSED         0.596273          -0.688174       -0.396157   \n",
       "INSTRUCTION_COVERED        0.805541           0.022789        0.034813   \n",
       "BRANCH_MISSED              0.386901          -0.284698       -0.708236   \n",
       "BRANCH_COVERED             0.487693           0.031886        0.249206   \n",
       "LINE_MISSED                0.572851          -0.769145       -0.458117   \n",
       "LINE_COVERED               0.871333          -0.057918        0.032282   \n",
       "COMPLEXITY_MISSED          0.367647          -0.644275       -0.663928   \n",
       "COMPLEXITY_COVERED         0.959107          -0.056771        0.102541   \n",
       "METHOD_MISSED              0.231536          -0.752812       -0.446031   \n",
       "METHOD_COVERED             1.000000          -0.103263        0.007855   \n",
       "StatementCoverage         -0.103263           1.000000        0.570888   \n",
       "BranchCoverage             0.007855           0.570888        1.000000   \n",
       "CodeComplexity             0.882013          -0.280860       -0.209508   \n",
       "\n",
       "                     CodeComplexity  \n",
       "INSTRUCTION_MISSED         0.721071  \n",
       "INSTRUCTION_COVERED        0.826616  \n",
       "BRANCH_MISSED              0.643587  \n",
       "BRANCH_COVERED             0.670406  \n",
       "LINE_MISSED                0.704610  \n",
       "LINE_COVERED               0.887978  \n",
       "COMPLEXITY_MISSED          0.642792  \n",
       "COMPLEXITY_COVERED         0.921965  \n",
       "METHOD_MISSED              0.413730  \n",
       "METHOD_COVERED             0.882013  \n",
       "StatementCoverage         -0.280860  \n",
       "BranchCoverage            -0.209508  \n",
       "CodeComplexity             1.000000  "
      ]
     },
     "execution_count": 11,
     "metadata": {},
     "output_type": "execute_result"
    }
   ],
   "source": [
    "df_collection.corr(method ='spearman')"
   ]
  },
  {
   "cell_type": "code",
   "execution_count": 12,
   "metadata": {},
   "outputs": [
    {
     "data": {
      "text/html": [
       "<div>\n",
       "<style scoped>\n",
       "    .dataframe tbody tr th:only-of-type {\n",
       "        vertical-align: middle;\n",
       "    }\n",
       "\n",
       "    .dataframe tbody tr th {\n",
       "        vertical-align: top;\n",
       "    }\n",
       "\n",
       "    .dataframe thead th {\n",
       "        text-align: right;\n",
       "    }\n",
       "</style>\n",
       "<table border=\"1\" class=\"dataframe\">\n",
       "  <thead>\n",
       "    <tr style=\"text-align: right;\">\n",
       "      <th></th>\n",
       "      <th>CodeComplexity</th>\n",
       "      <th>StatementCoverage</th>\n",
       "    </tr>\n",
       "  </thead>\n",
       "  <tbody>\n",
       "    <tr>\n",
       "      <th>CodeComplexity</th>\n",
       "      <td>1.00000</td>\n",
       "      <td>-0.28086</td>\n",
       "    </tr>\n",
       "    <tr>\n",
       "      <th>StatementCoverage</th>\n",
       "      <td>-0.28086</td>\n",
       "      <td>1.00000</td>\n",
       "    </tr>\n",
       "  </tbody>\n",
       "</table>\n",
       "</div>"
      ],
      "text/plain": [
       "                   CodeComplexity  StatementCoverage\n",
       "CodeComplexity            1.00000           -0.28086\n",
       "StatementCoverage        -0.28086            1.00000"
      ]
     },
     "execution_count": 12,
     "metadata": {},
     "output_type": "execute_result"
    }
   ],
   "source": [
    "df_collection[['CodeComplexity','StatementCoverage']].corr(method ='spearman')"
   ]
  },
  {
   "cell_type": "code",
   "execution_count": 13,
   "metadata": {},
   "outputs": [
    {
     "data": {
      "text/plain": [
       "SpearmanrResult(correlation=0.04814122184034373, pvalue=0.7836058545038637)"
      ]
     },
     "execution_count": 13,
     "metadata": {},
     "output_type": "execute_result"
    }
   ],
   "source": [
    "df_clean = df_collection.dropna()\n",
    "stats.spearmanr(df_clean['StatementCoverage'], df_clean['CodeComplexity'])"
   ]
  },
  {
   "cell_type": "code",
   "execution_count": 14,
   "metadata": {},
   "outputs": [
    {
     "data": {
      "text/html": [
       "<div>\n",
       "<style scoped>\n",
       "    .dataframe tbody tr th:only-of-type {\n",
       "        vertical-align: middle;\n",
       "    }\n",
       "\n",
       "    .dataframe tbody tr th {\n",
       "        vertical-align: top;\n",
       "    }\n",
       "\n",
       "    .dataframe thead th {\n",
       "        text-align: right;\n",
       "    }\n",
       "</style>\n",
       "<table border=\"1\" class=\"dataframe\">\n",
       "  <thead>\n",
       "    <tr style=\"text-align: right;\">\n",
       "      <th></th>\n",
       "      <th>CodeComplexity</th>\n",
       "      <th>BranchCoverage</th>\n",
       "    </tr>\n",
       "  </thead>\n",
       "  <tbody>\n",
       "    <tr>\n",
       "      <th>CodeComplexity</th>\n",
       "      <td>1.000000</td>\n",
       "      <td>-0.209508</td>\n",
       "    </tr>\n",
       "    <tr>\n",
       "      <th>BranchCoverage</th>\n",
       "      <td>-0.209508</td>\n",
       "      <td>1.000000</td>\n",
       "    </tr>\n",
       "  </tbody>\n",
       "</table>\n",
       "</div>"
      ],
      "text/plain": [
       "                CodeComplexity  BranchCoverage\n",
       "CodeComplexity        1.000000       -0.209508\n",
       "BranchCoverage       -0.209508        1.000000"
      ]
     },
     "execution_count": 14,
     "metadata": {},
     "output_type": "execute_result"
    }
   ],
   "source": [
    "df_collection[['CodeComplexity','BranchCoverage']].corr(method ='spearman')"
   ]
  },
  {
   "cell_type": "code",
   "execution_count": 15,
   "metadata": {},
   "outputs": [
    {
     "data": {
      "text/plain": [
       "SpearmanrResult(correlation=-0.20950822632788005, pvalue=0.22708019185397552)"
      ]
     },
     "execution_count": 15,
     "metadata": {},
     "output_type": "execute_result"
    }
   ],
   "source": [
    "df_clean = df_collection.dropna()\n",
    "stats.spearmanr(df_clean['BranchCoverage'], df_clean['CodeComplexity'])"
   ]
  },
  {
   "cell_type": "code",
   "execution_count": 16,
   "metadata": {},
   "outputs": [
    {
     "name": "stdout",
     "output_type": "stream",
     "text": [
      "Statment Coverage 84.08408408408408\n"
     ]
    }
   ],
   "source": [
    "print('Statment Coverage '+str((df_collection.LINE_COVERED.sum()/(df_collection.LINE_MISSED.sum() + df_collection.LINE_COVERED.sum()))*100))"
   ]
  },
  {
   "cell_type": "code",
   "execution_count": 17,
   "metadata": {},
   "outputs": [
    {
     "name": "stdout",
     "output_type": "stream",
     "text": [
      "Branch Coverage 78.3410138248848\n"
     ]
    }
   ],
   "source": [
    "print('Branch Coverage '+str((df_collection.BRANCH_COVERED.sum()/(df_collection.BRANCH_MISSED.sum() + df_collection.BRANCH_COVERED.sum()))*100))"
   ]
  },
  {
   "cell_type": "code",
   "execution_count": null,
   "metadata": {},
   "outputs": [],
   "source": []
  }
 ],
 "metadata": {
  "kernelspec": {
   "display_name": "Python 3",
   "language": "python",
   "name": "python3"
  },
  "language_info": {
   "codemirror_mode": {
    "name": "ipython",
    "version": 3
   },
   "file_extension": ".py",
   "mimetype": "text/x-python",
   "name": "python",
   "nbconvert_exporter": "python",
   "pygments_lexer": "ipython3",
   "version": "3.6.7"
  }
 },
 "nbformat": 4,
 "nbformat_minor": 2
}
