{
 "cells": [
  {
   "cell_type": "code",
   "execution_count": 1,
   "metadata": {},
   "outputs": [],
   "source": [
    "import pandas as pd\n",
    "import scipy.stats  as stats"
   ]
  },
  {
   "cell_type": "code",
   "execution_count": 2,
   "metadata": {},
   "outputs": [],
   "source": [
    "df_collection = pd.read_csv('pool262.csv', error_bad_lines=False)"
   ]
  },
  {
   "cell_type": "code",
   "execution_count": 3,
   "metadata": {},
   "outputs": [],
   "source": [
    "import matplotlib.pyplot as plt"
   ]
  },
  {
   "cell_type": "code",
   "execution_count": 4,
   "metadata": {},
   "outputs": [],
   "source": [
    "df_collection['StatementCoverage'] =  (df_collection['LINE_COVERED'] / (df_collection['LINE_COVERED'] + df_collection['LINE_MISSED'])) * 100"
   ]
  },
  {
   "cell_type": "code",
   "execution_count": 5,
   "metadata": {},
   "outputs": [],
   "source": [
    "df_collection['BranchCoverage'] =  (df_collection['BRANCH_COVERED'] / (df_collection['BRANCH_COVERED'] + df_collection['BRANCH_MISSED'])) * 100"
   ]
  },
  {
   "cell_type": "code",
   "execution_count": 6,
   "metadata": {},
   "outputs": [],
   "source": [
    "df_collection['CodeComplexity'] =  df_collection['COMPLEXITY_COVERED'] + df_collection['COMPLEXITY_MISSED'];"
   ]
  },
  {
   "cell_type": "code",
   "execution_count": 7,
   "metadata": {},
   "outputs": [
    {
     "data": {
      "text/html": [
       "<div>\n",
       "<style scoped>\n",
       "    .dataframe tbody tr th:only-of-type {\n",
       "        vertical-align: middle;\n",
       "    }\n",
       "\n",
       "    .dataframe tbody tr th {\n",
       "        vertical-align: top;\n",
       "    }\n",
       "\n",
       "    .dataframe thead th {\n",
       "        text-align: right;\n",
       "    }\n",
       "</style>\n",
       "<table border=\"1\" class=\"dataframe\">\n",
       "  <thead>\n",
       "    <tr style=\"text-align: right;\">\n",
       "      <th></th>\n",
       "      <th>GROUP</th>\n",
       "      <th>PACKAGE</th>\n",
       "      <th>CLASS</th>\n",
       "      <th>INSTRUCTION_MISSED</th>\n",
       "      <th>INSTRUCTION_COVERED</th>\n",
       "      <th>BRANCH_MISSED</th>\n",
       "      <th>BRANCH_COVERED</th>\n",
       "      <th>LINE_MISSED</th>\n",
       "      <th>LINE_COVERED</th>\n",
       "      <th>COMPLEXITY_MISSED</th>\n",
       "      <th>COMPLEXITY_COVERED</th>\n",
       "      <th>METHOD_MISSED</th>\n",
       "      <th>METHOD_COVERED</th>\n",
       "      <th>StatementCoverage</th>\n",
       "      <th>BranchCoverage</th>\n",
       "      <th>CodeComplexity</th>\n",
       "    </tr>\n",
       "  </thead>\n",
       "  <tbody>\n",
       "    <tr>\n",
       "      <th>0</th>\n",
       "      <td>Apache Commons Pool</td>\n",
       "      <td>org.apache.commons.pool2.impl</td>\n",
       "      <td>DefaultPooledObject</td>\n",
       "      <td>46</td>\n",
       "      <td>262</td>\n",
       "      <td>3</td>\n",
       "      <td>25</td>\n",
       "      <td>10</td>\n",
       "      <td>78</td>\n",
       "      <td>5</td>\n",
       "      <td>32</td>\n",
       "      <td>2</td>\n",
       "      <td>21</td>\n",
       "      <td>88.636364</td>\n",
       "      <td>89.285714</td>\n",
       "      <td>37</td>\n",
       "    </tr>\n",
       "    <tr>\n",
       "      <th>1</th>\n",
       "      <td>Apache Commons Pool</td>\n",
       "      <td>org.apache.commons.pool2.impl</td>\n",
       "      <td>LinkedBlockingDeque.Itr</td>\n",
       "      <td>0</td>\n",
       "      <td>14</td>\n",
       "      <td>0</td>\n",
       "      <td>0</td>\n",
       "      <td>0</td>\n",
       "      <td>3</td>\n",
       "      <td>0</td>\n",
       "      <td>3</td>\n",
       "      <td>0</td>\n",
       "      <td>3</td>\n",
       "      <td>100.000000</td>\n",
       "      <td>NaN</td>\n",
       "      <td>3</td>\n",
       "    </tr>\n",
       "    <tr>\n",
       "      <th>2</th>\n",
       "      <td>Apache Commons Pool</td>\n",
       "      <td>org.apache.commons.pool2.impl</td>\n",
       "      <td>ThrowableCallStack</td>\n",
       "      <td>5</td>\n",
       "      <td>64</td>\n",
       "      <td>0</td>\n",
       "      <td>6</td>\n",
       "      <td>0</td>\n",
       "      <td>19</td>\n",
       "      <td>0</td>\n",
       "      <td>7</td>\n",
       "      <td>0</td>\n",
       "      <td>4</td>\n",
       "      <td>100.000000</td>\n",
       "      <td>100.000000</td>\n",
       "      <td>7</td>\n",
       "    </tr>\n",
       "    <tr>\n",
       "      <th>3</th>\n",
       "      <td>Apache Commons Pool</td>\n",
       "      <td>org.apache.commons.pool2.impl</td>\n",
       "      <td>AbandonedConfig</td>\n",
       "      <td>65</td>\n",
       "      <td>76</td>\n",
       "      <td>0</td>\n",
       "      <td>0</td>\n",
       "      <td>15</td>\n",
       "      <td>29</td>\n",
       "      <td>1</td>\n",
       "      <td>15</td>\n",
       "      <td>1</td>\n",
       "      <td>15</td>\n",
       "      <td>65.909091</td>\n",
       "      <td>NaN</td>\n",
       "      <td>16</td>\n",
       "    </tr>\n",
       "    <tr>\n",
       "      <th>4</th>\n",
       "      <td>Apache Commons Pool</td>\n",
       "      <td>org.apache.commons.pool2.impl</td>\n",
       "      <td>EvictionConfig</td>\n",
       "      <td>38</td>\n",
       "      <td>37</td>\n",
       "      <td>0</td>\n",
       "      <td>4</td>\n",
       "      <td>9</td>\n",
       "      <td>12</td>\n",
       "      <td>1</td>\n",
       "      <td>6</td>\n",
       "      <td>1</td>\n",
       "      <td>4</td>\n",
       "      <td>57.142857</td>\n",
       "      <td>100.000000</td>\n",
       "      <td>7</td>\n",
       "    </tr>\n",
       "  </tbody>\n",
       "</table>\n",
       "</div>"
      ],
      "text/plain": [
       "                 GROUP                        PACKAGE  \\\n",
       "0  Apache Commons Pool  org.apache.commons.pool2.impl   \n",
       "1  Apache Commons Pool  org.apache.commons.pool2.impl   \n",
       "2  Apache Commons Pool  org.apache.commons.pool2.impl   \n",
       "3  Apache Commons Pool  org.apache.commons.pool2.impl   \n",
       "4  Apache Commons Pool  org.apache.commons.pool2.impl   \n",
       "\n",
       "                     CLASS  INSTRUCTION_MISSED  INSTRUCTION_COVERED  \\\n",
       "0      DefaultPooledObject                  46                  262   \n",
       "1  LinkedBlockingDeque.Itr                   0                   14   \n",
       "2       ThrowableCallStack                   5                   64   \n",
       "3          AbandonedConfig                  65                   76   \n",
       "4           EvictionConfig                  38                   37   \n",
       "\n",
       "   BRANCH_MISSED  BRANCH_COVERED  LINE_MISSED  LINE_COVERED  \\\n",
       "0              3              25           10            78   \n",
       "1              0               0            0             3   \n",
       "2              0               6            0            19   \n",
       "3              0               0           15            29   \n",
       "4              0               4            9            12   \n",
       "\n",
       "   COMPLEXITY_MISSED  COMPLEXITY_COVERED  METHOD_MISSED  METHOD_COVERED  \\\n",
       "0                  5                  32              2              21   \n",
       "1                  0                   3              0               3   \n",
       "2                  0                   7              0               4   \n",
       "3                  1                  15              1              15   \n",
       "4                  1                   6              1               4   \n",
       "\n",
       "   StatementCoverage  BranchCoverage  CodeComplexity  \n",
       "0          88.636364       89.285714              37  \n",
       "1         100.000000             NaN               3  \n",
       "2         100.000000      100.000000               7  \n",
       "3          65.909091             NaN              16  \n",
       "4          57.142857      100.000000               7  "
      ]
     },
     "execution_count": 7,
     "metadata": {},
     "output_type": "execute_result"
    }
   ],
   "source": [
    "df_collection.head()"
   ]
  },
  {
   "cell_type": "code",
   "execution_count": 8,
   "metadata": {},
   "outputs": [
    {
     "data": {
      "text/plain": [
       "<matplotlib.axes._subplots.AxesSubplot at 0x7fc3d70e9320>"
      ]
     },
     "execution_count": 8,
     "metadata": {},
     "output_type": "execute_result"
    },
    {
     "data": {
      "image/png": "[encoded data removed]",
      "text/plain": [
       "<Figure size 432x288 with 1 Axes>"
      ]
     },
     "metadata": {
      "needs_background": "light"
     },
     "output_type": "display_data"
    }
   ],
   "source": [
    "df_collection.plot(x='CodeComplexity', y='StatementCoverage', style='o')"
   ]
  },
  {
   "cell_type": "code",
   "execution_count": 9,
   "metadata": {},
   "outputs": [
    {
     "data": {
      "text/plain": [
       "<matplotlib.axes._subplots.AxesSubplot at 0x7fc3d5033128>"
      ]
     },
     "execution_count": 9,
     "metadata": {},
     "output_type": "execute_result"
    },
    {
     "data": {
      "image/png": "[encoded data removed]",
      "text/plain": [
       "<Figure size 432x288 with 1 Axes>"
      ]
     },
     "metadata": {
      "needs_background": "light"
     },
     "output_type": "display_data"
    }
   ],
   "source": [
    "df_collection.plot(x='CodeComplexity', y='BranchCoverage', style='o')"
   ]
  },
  {
   "cell_type": "code",
   "execution_count": 10,
   "metadata": {},
   "outputs": [
    {
     "data": {
      "image/png": "[encoded data removed]",
      "text/plain": [
       "<Figure size 432x288 with 1 Axes>"
      ]
     },
     "metadata": {
      "needs_background": "light"
     },
     "output_type": "display_data"
    }
   ],
   "source": [
    "plt.scatter(df_collection['CodeComplexity'], df_collection['StatementCoverage'])\n",
    "plt.show()"
   ]
  },
  {
   "cell_type": "code",
   "execution_count": 11,
   "metadata": {},
   "outputs": [
    {
     "data": {
      "text/html": [
       "<div>\n",
       "<style scoped>\n",
       "    .dataframe tbody tr th:only-of-type {\n",
       "        vertical-align: middle;\n",
       "    }\n",
       "\n",
       "    .dataframe tbody tr th {\n",
       "        vertical-align: top;\n",
       "    }\n",
       "\n",
       "    .dataframe thead th {\n",
       "        text-align: right;\n",
       "    }\n",
       "</style>\n",
       "<table border=\"1\" class=\"dataframe\">\n",
       "  <thead>\n",
       "    <tr style=\"text-align: right;\">\n",
       "      <th></th>\n",
       "      <th>INSTRUCTION_MISSED</th>\n",
       "      <th>INSTRUCTION_COVERED</th>\n",
       "      <th>BRANCH_MISSED</th>\n",
       "      <th>BRANCH_COVERED</th>\n",
       "      <th>LINE_MISSED</th>\n",
       "      <th>LINE_COVERED</th>\n",
       "      <th>COMPLEXITY_MISSED</th>\n",
       "      <th>COMPLEXITY_COVERED</th>\n",
       "      <th>METHOD_MISSED</th>\n",
       "      <th>METHOD_COVERED</th>\n",
       "      <th>StatementCoverage</th>\n",
       "      <th>BranchCoverage</th>\n",
       "      <th>CodeComplexity</th>\n",
       "    </tr>\n",
       "  </thead>\n",
       "  <tbody>\n",
       "    <tr>\n",
       "      <th>INSTRUCTION_MISSED</th>\n",
       "      <td>1.000000</td>\n",
       "      <td>0.540943</td>\n",
       "      <td>0.537292</td>\n",
       "      <td>0.307386</td>\n",
       "      <td>0.947037</td>\n",
       "      <td>0.603032</td>\n",
       "      <td>0.720242</td>\n",
       "      <td>0.555060</td>\n",
       "      <td>0.656721</td>\n",
       "      <td>0.588298</td>\n",
       "      <td>-0.684974</td>\n",
       "      <td>-0.398304</td>\n",
       "      <td>0.720114</td>\n",
       "    </tr>\n",
       "    <tr>\n",
       "      <th>INSTRUCTION_COVERED</th>\n",
       "      <td>0.540943</td>\n",
       "      <td>1.000000</td>\n",
       "      <td>0.480882</td>\n",
       "      <td>0.681731</td>\n",
       "      <td>0.457500</td>\n",
       "      <td>0.962142</td>\n",
       "      <td>0.419299</td>\n",
       "      <td>0.862303</td>\n",
       "      <td>0.163665</td>\n",
       "      <td>0.804953</td>\n",
       "      <td>0.029759</td>\n",
       "      <td>0.038718</td>\n",
       "      <td>0.831343</td>\n",
       "    </tr>\n",
       "    <tr>\n",
       "      <th>BRANCH_MISSED</th>\n",
       "      <td>0.537292</td>\n",
       "      <td>0.480882</td>\n",
       "      <td>1.000000</td>\n",
       "      <td>0.598912</td>\n",
       "      <td>0.561138</td>\n",
       "      <td>0.487081</td>\n",
       "      <td>0.811237</td>\n",
       "      <td>0.409200</td>\n",
       "      <td>0.401163</td>\n",
       "      <td>0.371573</td>\n",
       "      <td>-0.284069</td>\n",
       "      <td>-0.711250</td>\n",
       "      <td>0.629901</td>\n",
       "    </tr>\n",
       "    <tr>\n",
       "      <th>BRANCH_COVERED</th>\n",
       "      <td>0.307386</td>\n",
       "      <td>0.681731</td>\n",
       "      <td>0.598912</td>\n",
       "      <td>1.000000</td>\n",
       "      <td>0.308654</td>\n",
       "      <td>0.697184</td>\n",
       "      <td>0.420479</td>\n",
       "      <td>0.644261</td>\n",
       "      <td>0.093397</td>\n",
       "      <td>0.469245</td>\n",
       "      <td>0.027004</td>\n",
       "      <td>0.267565</td>\n",
       "      <td>0.673693</td>\n",
       "    </tr>\n",
       "    <tr>\n",
       "      <th>LINE_MISSED</th>\n",
       "      <td>0.947037</td>\n",
       "      <td>0.457500</td>\n",
       "      <td>0.561138</td>\n",
       "      <td>0.308654</td>\n",
       "      <td>1.000000</td>\n",
       "      <td>0.537627</td>\n",
       "      <td>0.792938</td>\n",
       "      <td>0.533026</td>\n",
       "      <td>0.751068</td>\n",
       "      <td>0.562468</td>\n",
       "      <td>-0.766053</td>\n",
       "      <td>-0.453792</td>\n",
       "      <td>0.705275</td>\n",
       "    </tr>\n",
       "    <tr>\n",
       "      <th>LINE_COVERED</th>\n",
       "      <td>0.603032</td>\n",
       "      <td>0.962142</td>\n",
       "      <td>0.487081</td>\n",
       "      <td>0.697184</td>\n",
       "      <td>0.537627</td>\n",
       "      <td>1.000000</td>\n",
       "      <td>0.437996</td>\n",
       "      <td>0.924769</td>\n",
       "      <td>0.175137</td>\n",
       "      <td>0.871674</td>\n",
       "      <td>-0.046635</td>\n",
       "      <td>0.033655</td>\n",
       "      <td>0.890257</td>\n",
       "    </tr>\n",
       "    <tr>\n",
       "      <th>COMPLEXITY_MISSED</th>\n",
       "      <td>0.720242</td>\n",
       "      <td>0.419299</td>\n",
       "      <td>0.811237</td>\n",
       "      <td>0.420479</td>\n",
       "      <td>0.792938</td>\n",
       "      <td>0.437996</td>\n",
       "      <td>1.000000</td>\n",
       "      <td>0.377574</td>\n",
       "      <td>0.803311</td>\n",
       "      <td>0.350120</td>\n",
       "      <td>-0.642490</td>\n",
       "      <td>-0.668416</td>\n",
       "      <td>0.640180</td>\n",
       "    </tr>\n",
       "    <tr>\n",
       "      <th>COMPLEXITY_COVERED</th>\n",
       "      <td>0.555060</td>\n",
       "      <td>0.862303</td>\n",
       "      <td>0.409200</td>\n",
       "      <td>0.644261</td>\n",
       "      <td>0.533026</td>\n",
       "      <td>0.924769</td>\n",
       "      <td>0.377574</td>\n",
       "      <td>1.000000</td>\n",
       "      <td>0.209953</td>\n",
       "      <td>0.952981</td>\n",
       "      <td>-0.047633</td>\n",
       "      <td>0.113765</td>\n",
       "      <td>0.921384</td>\n",
       "    </tr>\n",
       "    <tr>\n",
       "      <th>METHOD_MISSED</th>\n",
       "      <td>0.656721</td>\n",
       "      <td>0.163665</td>\n",
       "      <td>0.401163</td>\n",
       "      <td>0.093397</td>\n",
       "      <td>0.751068</td>\n",
       "      <td>0.175137</td>\n",
       "      <td>0.803311</td>\n",
       "      <td>0.209953</td>\n",
       "      <td>1.000000</td>\n",
       "      <td>0.217873</td>\n",
       "      <td>-0.749499</td>\n",
       "      <td>-0.436736</td>\n",
       "      <td>0.419067</td>\n",
       "    </tr>\n",
       "    <tr>\n",
       "      <th>METHOD_COVERED</th>\n",
       "      <td>0.588298</td>\n",
       "      <td>0.804953</td>\n",
       "      <td>0.371573</td>\n",
       "      <td>0.469245</td>\n",
       "      <td>0.562468</td>\n",
       "      <td>0.871674</td>\n",
       "      <td>0.350120</td>\n",
       "      <td>0.952981</td>\n",
       "      <td>0.217873</td>\n",
       "      <td>1.000000</td>\n",
       "      <td>-0.083473</td>\n",
       "      <td>0.020358</td>\n",
       "      <td>0.867561</td>\n",
       "    </tr>\n",
       "    <tr>\n",
       "      <th>StatementCoverage</th>\n",
       "      <td>-0.684974</td>\n",
       "      <td>0.029759</td>\n",
       "      <td>-0.284069</td>\n",
       "      <td>0.027004</td>\n",
       "      <td>-0.766053</td>\n",
       "      <td>-0.046635</td>\n",
       "      <td>-0.642490</td>\n",
       "      <td>-0.047633</td>\n",
       "      <td>-0.749499</td>\n",
       "      <td>-0.083473</td>\n",
       "      <td>1.000000</td>\n",
       "      <td>0.564504</td>\n",
       "      <td>-0.274633</td>\n",
       "    </tr>\n",
       "    <tr>\n",
       "      <th>BranchCoverage</th>\n",
       "      <td>-0.398304</td>\n",
       "      <td>0.038718</td>\n",
       "      <td>-0.711250</td>\n",
       "      <td>0.267565</td>\n",
       "      <td>-0.453792</td>\n",
       "      <td>0.033655</td>\n",
       "      <td>-0.668416</td>\n",
       "      <td>0.113765</td>\n",
       "      <td>-0.436736</td>\n",
       "      <td>0.020358</td>\n",
       "      <td>0.564504</td>\n",
       "      <td>1.000000</td>\n",
       "      <td>-0.167438</td>\n",
       "    </tr>\n",
       "    <tr>\n",
       "      <th>CodeComplexity</th>\n",
       "      <td>0.720114</td>\n",
       "      <td>0.831343</td>\n",
       "      <td>0.629901</td>\n",
       "      <td>0.673693</td>\n",
       "      <td>0.705275</td>\n",
       "      <td>0.890257</td>\n",
       "      <td>0.640180</td>\n",
       "      <td>0.921384</td>\n",
       "      <td>0.419067</td>\n",
       "      <td>0.867561</td>\n",
       "      <td>-0.274633</td>\n",
       "      <td>-0.167438</td>\n",
       "      <td>1.000000</td>\n",
       "    </tr>\n",
       "  </tbody>\n",
       "</table>\n",
       "</div>"
      ],
      "text/plain": [
       "                     INSTRUCTION_MISSED  INSTRUCTION_COVERED  BRANCH_MISSED  \\\n",
       "INSTRUCTION_MISSED             1.000000             0.540943       0.537292   \n",
       "INSTRUCTION_COVERED            0.540943             1.000000       0.480882   \n",
       "BRANCH_MISSED                  0.537292             0.480882       1.000000   \n",
       "BRANCH_COVERED                 0.307386             0.681731       0.598912   \n",
       "LINE_MISSED                    0.947037             0.457500       0.561138   \n",
       "LINE_COVERED                   0.603032             0.962142       0.487081   \n",
       "COMPLEXITY_MISSED              0.720242             0.419299       0.811237   \n",
       "COMPLEXITY_COVERED             0.555060             0.862303       0.409200   \n",
       "METHOD_MISSED                  0.656721             0.163665       0.401163   \n",
       "METHOD_COVERED                 0.588298             0.804953       0.371573   \n",
       "StatementCoverage             -0.684974             0.029759      -0.284069   \n",
       "BranchCoverage                -0.398304             0.038718      -0.711250   \n",
       "CodeComplexity                 0.720114             0.831343       0.629901   \n",
       "\n",
       "                     BRANCH_COVERED  LINE_MISSED  LINE_COVERED  \\\n",
       "INSTRUCTION_MISSED         0.307386     0.947037      0.603032   \n",
       "INSTRUCTION_COVERED        0.681731     0.457500      0.962142   \n",
       "BRANCH_MISSED              0.598912     0.561138      0.487081   \n",
       "BRANCH_COVERED             1.000000     0.308654      0.697184   \n",
       "LINE_MISSED                0.308654     1.000000      0.537627   \n",
       "LINE_COVERED               0.697184     0.537627      1.000000   \n",
       "COMPLEXITY_MISSED          0.420479     0.792938      0.437996   \n",
       "COMPLEXITY_COVERED         0.644261     0.533026      0.924769   \n",
       "METHOD_MISSED              0.093397     0.751068      0.175137   \n",
       "METHOD_COVERED             0.469245     0.562468      0.871674   \n",
       "StatementCoverage          0.027004    -0.766053     -0.046635   \n",
       "BranchCoverage             0.267565    -0.453792      0.033655   \n",
       "CodeComplexity             0.673693     0.705275      0.890257   \n",
       "\n",
       "                     COMPLEXITY_MISSED  COMPLEXITY_COVERED  METHOD_MISSED  \\\n",
       "INSTRUCTION_MISSED            0.720242            0.555060       0.656721   \n",
       "INSTRUCTION_COVERED           0.419299            0.862303       0.163665   \n",
       "BRANCH_MISSED                 0.811237            0.409200       0.401163   \n",
       "BRANCH_COVERED                0.420479            0.644261       0.093397   \n",
       "LINE_MISSED                   0.792938            0.533026       0.751068   \n",
       "LINE_COVERED                  0.437996            0.924769       0.175137   \n",
       "COMPLEXITY_MISSED             1.000000            0.377574       0.803311   \n",
       "COMPLEXITY_COVERED            0.377574            1.000000       0.209953   \n",
       "METHOD_MISSED                 0.803311            0.209953       1.000000   \n",
       "METHOD_COVERED                0.350120            0.952981       0.217873   \n",
       "StatementCoverage            -0.642490           -0.047633      -0.749499   \n",
       "BranchCoverage               -0.668416            0.113765      -0.436736   \n",
       "CodeComplexity                0.640180            0.921384       0.419067   \n",
       "\n",
       "                     METHOD_COVERED  StatementCoverage  BranchCoverage  \\\n",
       "INSTRUCTION_MISSED         0.588298          -0.684974       -0.398304   \n",
       "INSTRUCTION_COVERED        0.804953           0.029759        0.038718   \n",
       "BRANCH_MISSED              0.371573          -0.284069       -0.711250   \n",
       "BRANCH_COVERED             0.469245           0.027004        0.267565   \n",
       "LINE_MISSED                0.562468          -0.766053       -0.453792   \n",
       "LINE_COVERED               0.871674          -0.046635        0.033655   \n",
       "COMPLEXITY_MISSED          0.350120          -0.642490       -0.668416   \n",
       "COMPLEXITY_COVERED         0.952981          -0.047633        0.113765   \n",
       "METHOD_MISSED              0.217873          -0.749499       -0.436736   \n",
       "METHOD_COVERED             1.000000          -0.083473        0.020358   \n",
       "StatementCoverage         -0.083473           1.000000        0.564504   \n",
       "BranchCoverage             0.020358           0.564504        1.000000   \n",
       "CodeComplexity             0.867561          -0.274633       -0.167438   \n",
       "\n",
       "                     CodeComplexity  \n",
       "INSTRUCTION_MISSED         0.720114  \n",
       "INSTRUCTION_COVERED        0.831343  \n",
       "BRANCH_MISSED              0.629901  \n",
       "BRANCH_COVERED             0.673693  \n",
       "LINE_MISSED                0.705275  \n",
       "LINE_COVERED               0.890257  \n",
       "COMPLEXITY_MISSED          0.640180  \n",
       "COMPLEXITY_COVERED         0.921384  \n",
       "METHOD_MISSED              0.419067  \n",
       "METHOD_COVERED             0.867561  \n",
       "StatementCoverage         -0.274633  \n",
       "BranchCoverage            -0.167438  \n",
       "CodeComplexity             1.000000  "
      ]
     },
     "execution_count": 11,
     "metadata": {},
     "output_type": "execute_result"
    }
   ],
   "source": [
    "df_collection.corr(method ='spearman')"
   ]
  },
  {
   "cell_type": "code",
   "execution_count": 12,
   "metadata": {},
   "outputs": [
    {
     "data": {
      "text/html": [
       "<div>\n",
       "<style scoped>\n",
       "    .dataframe tbody tr th:only-of-type {\n",
       "        vertical-align: middle;\n",
       "    }\n",
       "\n",
       "    .dataframe tbody tr th {\n",
       "        vertical-align: top;\n",
       "    }\n",
       "\n",
       "    .dataframe thead th {\n",
       "        text-align: right;\n",
       "    }\n",
       "</style>\n",
       "<table border=\"1\" class=\"dataframe\">\n",
       "  <thead>\n",
       "    <tr style=\"text-align: right;\">\n",
       "      <th></th>\n",
       "      <th>CodeComplexity</th>\n",
       "      <th>StatementCoverage</th>\n",
       "    </tr>\n",
       "  </thead>\n",
       "  <tbody>\n",
       "    <tr>\n",
       "      <th>CodeComplexity</th>\n",
       "      <td>1.000000</td>\n",
       "      <td>-0.274633</td>\n",
       "    </tr>\n",
       "    <tr>\n",
       "      <th>StatementCoverage</th>\n",
       "      <td>-0.274633</td>\n",
       "      <td>1.000000</td>\n",
       "    </tr>\n",
       "  </tbody>\n",
       "</table>\n",
       "</div>"
      ],
      "text/plain": [
       "                   CodeComplexity  StatementCoverage\n",
       "CodeComplexity           1.000000          -0.274633\n",
       "StatementCoverage       -0.274633           1.000000"
      ]
     },
     "execution_count": 12,
     "metadata": {},
     "output_type": "execute_result"
    }
   ],
   "source": [
    "df_collection[['CodeComplexity','StatementCoverage']].corr(method ='spearman')"
   ]
  },
  {
   "cell_type": "code",
   "execution_count": 13,
   "metadata": {},
   "outputs": [
    {
     "data": {
      "text/plain": [
       "SpearmanrResult(correlation=0.058050458638586676, pvalue=0.7404646058952291)"
      ]
     },
     "execution_count": 13,
     "metadata": {},
     "output_type": "execute_result"
    }
   ],
   "source": [
    "df_clean = df_collection.dropna()\n",
    "stats.spearmanr(df_clean['StatementCoverage'], df_clean['CodeComplexity'])"
   ]
  },
  {
   "cell_type": "code",
   "execution_count": 14,
   "metadata": {},
   "outputs": [
    {
     "data": {
      "text/html": [
       "<div>\n",
       "<style scoped>\n",
       "    .dataframe tbody tr th:only-of-type {\n",
       "        vertical-align: middle;\n",
       "    }\n",
       "\n",
       "    .dataframe tbody tr th {\n",
       "        vertical-align: top;\n",
       "    }\n",
       "\n",
       "    .dataframe thead th {\n",
       "        text-align: right;\n",
       "    }\n",
       "</style>\n",
       "<table border=\"1\" class=\"dataframe\">\n",
       "  <thead>\n",
       "    <tr style=\"text-align: right;\">\n",
       "      <th></th>\n",
       "      <th>CodeComplexity</th>\n",
       "      <th>BranchCoverage</th>\n",
       "    </tr>\n",
       "  </thead>\n",
       "  <tbody>\n",
       "    <tr>\n",
       "      <th>CodeComplexity</th>\n",
       "      <td>1.000000</td>\n",
       "      <td>-0.167438</td>\n",
       "    </tr>\n",
       "    <tr>\n",
       "      <th>BranchCoverage</th>\n",
       "      <td>-0.167438</td>\n",
       "      <td>1.000000</td>\n",
       "    </tr>\n",
       "  </tbody>\n",
       "</table>\n",
       "</div>"
      ],
      "text/plain": [
       "                CodeComplexity  BranchCoverage\n",
       "CodeComplexity        1.000000       -0.167438\n",
       "BranchCoverage       -0.167438        1.000000"
      ]
     },
     "execution_count": 14,
     "metadata": {},
     "output_type": "execute_result"
    }
   ],
   "source": [
    "df_collection[['CodeComplexity','BranchCoverage']].corr(method ='spearman')"
   ]
  },
  {
   "cell_type": "code",
   "execution_count": 15,
   "metadata": {},
   "outputs": [
    {
     "data": {
      "text/plain": [
       "SpearmanrResult(correlation=-0.16743826852050447, pvalue=0.3363444388131077)"
      ]
     },
     "execution_count": 15,
     "metadata": {},
     "output_type": "execute_result"
    }
   ],
   "source": [
    "df_clean = df_collection.dropna()\n",
    "stats.spearmanr(df_clean['BranchCoverage'], df_clean['CodeComplexity'])"
   ]
  },
  {
   "cell_type": "code",
   "execution_count": 16,
   "metadata": {},
   "outputs": [
    {
     "name": "stdout",
     "output_type": "stream",
     "text": [
      "Statment Coverage 84.2737896494157\n"
     ]
    }
   ],
   "source": [
    "print('Statment Coverage '+str((df_collection.LINE_COVERED.sum()/(df_collection.LINE_MISSED.sum() + df_collection.LINE_COVERED.sum()))*100))"
   ]
  },
  {
   "cell_type": "code",
   "execution_count": 17,
   "metadata": {},
   "outputs": [
    {
     "name": "stdout",
     "output_type": "stream",
     "text": [
      "Branch Coverage 78.81548974943053\n"
     ]
    }
   ],
   "source": [
    "print('Branch Coverage '+str((df_collection.BRANCH_COVERED.sum()/(df_collection.BRANCH_MISSED.sum() + df_collection.BRANCH_COVERED.sum()))*100))"
   ]
  },
  {
   "cell_type": "code",
   "execution_count": null,
   "metadata": {},
   "outputs": [],
   "source": []
  }
 ],
 "metadata": {
  "kernelspec": {
   "display_name": "Python 3",
   "language": "python",
   "name": "python3"
  },
  "language_info": {
   "codemirror_mode": {
    "name": "ipython",
    "version": 3
   },
   "file_extension": ".py",
   "mimetype": "text/x-python",
   "name": "python",
   "nbconvert_exporter": "python",
   "pygments_lexer": "ipython3",
   "version": "3.6.7"
  }
 },
 "nbformat": 4,
 "nbformat_minor": 2
}
