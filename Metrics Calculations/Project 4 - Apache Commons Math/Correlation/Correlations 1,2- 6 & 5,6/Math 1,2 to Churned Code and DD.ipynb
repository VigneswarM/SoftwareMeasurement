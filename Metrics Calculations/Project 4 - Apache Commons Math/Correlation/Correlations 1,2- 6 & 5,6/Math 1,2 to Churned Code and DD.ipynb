{
 "cells": [
  {
   "cell_type": "code",
   "execution_count": 0,
   "metadata": {
    "colab": {},
    "colab_type": "code",
    "id": "8Xdmm79IChoP"
   },
   "outputs": [],
   "source": [
    "import pandas as pd\n",
    "import scipy.stats  as stats"
   ]
  },
  {
   "cell_type": "code",
   "execution_count": 0,
   "metadata": {
    "colab": {},
    "colab_type": "code",
    "id": "6o9H0nwZCkJk"
   },
   "outputs": [],
   "source": [
    "df = pd.read_csv('https://raw.githubusercontent.com/niravjdn/Software-Measurement-Project/master/data/DD-CC-Churned_Code/Coverage-Statement_Branch-COV-DD%20-%20COV-DD.csv', error_bad_lines=False)"
   ]
  },
  {
   "cell_type": "code",
   "execution_count": 0,
   "metadata": {
    "colab": {},
    "colab_type": "code",
    "id": "F4Zm04R7Dir8"
   },
   "outputs": [],
   "source": [
    "import matplotlib.pyplot as plt"
   ]
  },
  {
   "cell_type": "code",
   "execution_count": 0,
   "metadata": {
    "colab": {},
    "colab_type": "code",
    "id": "wOAGeiMr_MUT"
   },
   "outputs": [],
   "source": [
    "is_true = df['Project_Name']=='Math'\n",
    "df = df[is_true]\n",
    "df.head()\n",
    "df['DD'] =  ((df['bugs'] / df['LOC'] )) * 1000\n",
    "df['Relative_Churned'] =  ((df['Churned_Code'] / df['LOC'] ))"
   ]
  },
  {
   "cell_type": "code",
   "execution_count": 5,
   "metadata": {
    "colab": {
     "base_uri": "https://localhost:8080/",
     "height": 206
    },
    "colab_type": "code",
    "executionInfo": {
     "elapsed": 11692,
     "status": "ok",
     "timestamp": 1555453977520,
     "user": {
      "displayName": "Nirav Patel",
      "photoUrl": "https://lh4.googleusercontent.com/-MXavU57lU4k/AAAAAAAAAAI/AAAAAAAAMFw/tzJ-F4ETDCM/s64/photo.jpg",
      "userId": "16537180351831762327"
     },
     "user_tz": 240
    },
    "id": "_t_34s_ZJyhP",
    "outputId": "4fdce357-9cf4-4b7a-b9ea-5e6c02b6eee9"
   },
   "outputs": [
    {
     "data": {
      "text/html": [
       "<div>\n",
       "<style scoped>\n",
       "    .dataframe tbody tr th:only-of-type {\n",
       "        vertical-align: middle;\n",
       "    }\n",
       "\n",
       "    .dataframe tbody tr th {\n",
       "        vertical-align: top;\n",
       "    }\n",
       "\n",
       "    .dataframe thead th {\n",
       "        text-align: right;\n",
       "    }\n",
       "</style>\n",
       "<table border=\"1\" class=\"dataframe\">\n",
       "  <thead>\n",
       "    <tr style=\"text-align: right;\">\n",
       "      <th></th>\n",
       "      <th>Project_Name</th>\n",
       "      <th>Version</th>\n",
       "      <th>commit id</th>\n",
       "      <th>bugs</th>\n",
       "      <th>Statement_Coverage</th>\n",
       "      <th>Branch_Coverage</th>\n",
       "      <th>LOC</th>\n",
       "      <th>Churned_Code</th>\n",
       "      <th>DD</th>\n",
       "      <th>Relative_Churned</th>\n",
       "    </tr>\n",
       "  </thead>\n",
       "  <tbody>\n",
       "    <tr>\n",
       "      <th>20</th>\n",
       "      <td>Math</td>\n",
       "      <td>3.3</td>\n",
       "      <td>38a48e2</td>\n",
       "      <td>36</td>\n",
       "      <td>90.66</td>\n",
       "      <td>85.42</td>\n",
       "      <td>199122</td>\n",
       "      <td>28988</td>\n",
       "      <td>0.180794</td>\n",
       "      <td>0.145579</td>\n",
       "    </tr>\n",
       "    <tr>\n",
       "      <th>21</th>\n",
       "      <td>Math</td>\n",
       "      <td>3.4</td>\n",
       "      <td>befd8eb</td>\n",
       "      <td>10</td>\n",
       "      <td>90.66</td>\n",
       "      <td>85.42</td>\n",
       "      <td>207686</td>\n",
       "      <td>9858</td>\n",
       "      <td>0.048150</td>\n",
       "      <td>0.047466</td>\n",
       "    </tr>\n",
       "    <tr>\n",
       "      <th>22</th>\n",
       "      <td>Math</td>\n",
       "      <td>3.5</td>\n",
       "      <td>b3c5dae</td>\n",
       "      <td>38</td>\n",
       "      <td>90.53</td>\n",
       "      <td>84.96</td>\n",
       "      <td>208918</td>\n",
       "      <td>2418</td>\n",
       "      <td>0.181890</td>\n",
       "      <td>0.011574</td>\n",
       "    </tr>\n",
       "    <tr>\n",
       "      <th>23</th>\n",
       "      <td>Math</td>\n",
       "      <td>3.6</td>\n",
       "      <td>95a9d35</td>\n",
       "      <td>13</td>\n",
       "      <td>90.61</td>\n",
       "      <td>83.79</td>\n",
       "      <td>222070</td>\n",
       "      <td>15549</td>\n",
       "      <td>0.058540</td>\n",
       "      <td>0.070018</td>\n",
       "    </tr>\n",
       "    <tr>\n",
       "      <th>24</th>\n",
       "      <td>Math</td>\n",
       "      <td>3.6.1</td>\n",
       "      <td>16abfe5</td>\n",
       "      <td>35</td>\n",
       "      <td>89.62</td>\n",
       "      <td>84.86</td>\n",
       "      <td>222133</td>\n",
       "      <td>122</td>\n",
       "      <td>0.157563</td>\n",
       "      <td>0.000549</td>\n",
       "    </tr>\n",
       "  </tbody>\n",
       "</table>\n",
       "</div>"
      ],
      "text/plain": [
       "   Project_Name Version  commit id  bugs  Statement_Coverage  Branch_Coverage  \\\n",
       "20         Math      3.3   38a48e2    36               90.66            85.42   \n",
       "21         Math      3.4   befd8eb    10               90.66            85.42   \n",
       "22         Math      3.5   b3c5dae    38               90.53            84.96   \n",
       "23         Math      3.6   95a9d35    13               90.61            83.79   \n",
       "24         Math    3.6.1   16abfe5    35               89.62            84.86   \n",
       "\n",
       "       LOC  Churned_Code        DD  Relative_Churned  \n",
       "20  199122         28988  0.180794          0.145579  \n",
       "21  207686          9858  0.048150          0.047466  \n",
       "22  208918          2418  0.181890          0.011574  \n",
       "23  222070         15549  0.058540          0.070018  \n",
       "24  222133           122  0.157563          0.000549  "
      ]
     },
     "execution_count": 5,
     "metadata": {
      "tags": []
     },
     "output_type": "execute_result"
    }
   ],
   "source": [
    "df.head(25)"
   ]
  },
  {
   "cell_type": "code",
   "execution_count": 6,
   "metadata": {
    "colab": {
     "base_uri": "https://localhost:8080/",
     "height": 269
    },
    "colab_type": "code",
    "executionInfo": {
     "elapsed": 11552,
     "status": "ok",
     "timestamp": 1555453977532,
     "user": {
      "displayName": "Nirav Patel",
      "photoUrl": "https://lh4.googleusercontent.com/-MXavU57lU4k/AAAAAAAAAAI/AAAAAAAAMFw/tzJ-F4ETDCM/s64/photo.jpg",
      "userId": "16537180351831762327"
     },
     "user_tz": 240
    },
    "id": "qa_PMTBaAmJw",
    "outputId": "f3efb88f-58ec-4b22-f9a9-d795a9be949a"
   },
   "outputs": [
    {
     "data": {
      "image/png": "[encoded data removed]",
      "text/plain": [
       "<Figure size 432x288 with 1 Axes>"
      ]
     },
     "metadata": {
      "tags": []
     },
     "output_type": "display_data"
    }
   ],
   "source": [
    "boxplot = df.boxplot(column=['bugs'])"
   ]
  },
  {
   "cell_type": "code",
   "execution_count": 7,
   "metadata": {
    "colab": {
     "base_uri": "https://localhost:8080/",
     "height": 270
    },
    "colab_type": "code",
    "executionInfo": {
     "elapsed": 11481,
     "status": "ok",
     "timestamp": 1555453977542,
     "user": {
      "displayName": "Nirav Patel",
      "photoUrl": "https://lh4.googleusercontent.com/-MXavU57lU4k/AAAAAAAAAAI/AAAAAAAAMFw/tzJ-F4ETDCM/s64/photo.jpg",
      "userId": "16537180351831762327"
     },
     "user_tz": 240
    },
    "id": "hiZi8v8x_oUI",
    "outputId": "a3ada7c6-59db-4a8d-f619-ed4682ebff66"
   },
   "outputs": [
    {
     "data": {
      "image/png": "[encoded data removed]",
      "text/plain": [
       "<Figure size 432x288 with 1 Axes>"
      ]
     },
     "metadata": {
      "tags": []
     },
     "output_type": "display_data"
    }
   ],
   "source": [
    "boxplot = df.boxplot(column=['Relative_Churned'])"
   ]
  },
  {
   "cell_type": "code",
   "execution_count": 8,
   "metadata": {
    "colab": {
     "base_uri": "https://localhost:8080/",
     "height": 269
    },
    "colab_type": "code",
    "executionInfo": {
     "elapsed": 11430,
     "status": "ok",
     "timestamp": 1555453977547,
     "user": {
      "displayName": "Nirav Patel",
      "photoUrl": "https://lh4.googleusercontent.com/-MXavU57lU4k/AAAAAAAAAAI/AAAAAAAAMFw/tzJ-F4ETDCM/s64/photo.jpg",
      "userId": "16537180351831762327"
     },
     "user_tz": 240
    },
    "id": "NHEtukuo_oj0",
    "outputId": "185f6314-d530-43b1-8a90-e93ad30bc81a"
   },
   "outputs": [
    {
     "data": {
      "image/png": "[encoded data removed]",
      "text/plain": [
       "<Figure size 432x288 with 1 Axes>"
      ]
     },
     "metadata": {
      "tags": []
     },
     "output_type": "display_data"
    }
   ],
   "source": [
    "boxplot = df.boxplot(column=['DD'])"
   ]
  },
  {
   "cell_type": "code",
   "execution_count": 9,
   "metadata": {
    "colab": {
     "base_uri": "https://localhost:8080/",
     "height": 301
    },
    "colab_type": "code",
    "executionInfo": {
     "elapsed": 12426,
     "status": "ok",
     "timestamp": 1555453978579,
     "user": {
      "displayName": "Nirav Patel",
      "photoUrl": "https://lh4.googleusercontent.com/-MXavU57lU4k/AAAAAAAAAAI/AAAAAAAAMFw/tzJ-F4ETDCM/s64/photo.jpg",
      "userId": "16537180351831762327"
     },
     "user_tz": 240
    },
    "id": "Ztm1rZvLEeyS",
    "outputId": "8f8f1b1b-773b-4de1-f6a4-628f6e54554d"
   },
   "outputs": [
    {
     "data": {
      "text/plain": [
       "<matplotlib.axes._subplots.AxesSubplot at 0x7f66e6c7a080>"
      ]
     },
     "execution_count": 9,
     "metadata": {
      "tags": []
     },
     "output_type": "execute_result"
    },
    {
     "data": {
      "image/png": "[encoded data removed]",
      "text/plain": [
       "<Figure size 432x288 with 1 Axes>"
      ]
     },
     "metadata": {
      "tags": []
     },
     "output_type": "display_data"
    }
   ],
   "source": [
    "df.plot(x='Relative_Churned', y='DD', style='o')"
   ]
  },
  {
   "cell_type": "code",
   "execution_count": 10,
   "metadata": {
    "colab": {
     "base_uri": "https://localhost:8080/",
     "height": 269
    },
    "colab_type": "code",
    "executionInfo": {
     "elapsed": 12406,
     "status": "ok",
     "timestamp": 1555453978583,
     "user": {
      "displayName": "Nirav Patel",
      "photoUrl": "https://lh4.googleusercontent.com/-MXavU57lU4k/AAAAAAAAAAI/AAAAAAAAMFw/tzJ-F4ETDCM/s64/photo.jpg",
      "userId": "16537180351831762327"
     },
     "user_tz": 240
    },
    "id": "yXwX1zpHHhOU",
    "outputId": "777621e7-8664-4515-8650-3ab938cd3fd6"
   },
   "outputs": [
    {
     "data": {
      "text/html": [
       "<div>\n",
       "<style scoped>\n",
       "    .dataframe tbody tr th:only-of-type {\n",
       "        vertical-align: middle;\n",
       "    }\n",
       "\n",
       "    .dataframe tbody tr th {\n",
       "        vertical-align: top;\n",
       "    }\n",
       "\n",
       "    .dataframe thead th {\n",
       "        text-align: right;\n",
       "    }\n",
       "</style>\n",
       "<table border=\"1\" class=\"dataframe\">\n",
       "  <thead>\n",
       "    <tr style=\"text-align: right;\">\n",
       "      <th></th>\n",
       "      <th>bugs</th>\n",
       "      <th>Statement_Coverage</th>\n",
       "      <th>Branch_Coverage</th>\n",
       "      <th>LOC</th>\n",
       "      <th>Churned_Code</th>\n",
       "      <th>DD</th>\n",
       "      <th>Relative_Churned</th>\n",
       "    </tr>\n",
       "  </thead>\n",
       "  <tbody>\n",
       "    <tr>\n",
       "      <th>bugs</th>\n",
       "      <td>1.000000</td>\n",
       "      <td>-0.359092</td>\n",
       "      <td>0.051299</td>\n",
       "      <td>-0.100000</td>\n",
       "      <td>-0.100000</td>\n",
       "      <td>1.000000</td>\n",
       "      <td>-0.100000</td>\n",
       "    </tr>\n",
       "    <tr>\n",
       "      <th>Statement_Coverage</th>\n",
       "      <td>-0.359092</td>\n",
       "      <td>1.000000</td>\n",
       "      <td>0.684211</td>\n",
       "      <td>-0.872082</td>\n",
       "      <td>0.820783</td>\n",
       "      <td>-0.359092</td>\n",
       "      <td>0.820783</td>\n",
       "    </tr>\n",
       "    <tr>\n",
       "      <th>Branch_Coverage</th>\n",
       "      <td>0.051299</td>\n",
       "      <td>0.684211</td>\n",
       "      <td>1.000000</td>\n",
       "      <td>-0.872082</td>\n",
       "      <td>0.307794</td>\n",
       "      <td>0.051299</td>\n",
       "      <td>0.307794</td>\n",
       "    </tr>\n",
       "    <tr>\n",
       "      <th>LOC</th>\n",
       "      <td>-0.100000</td>\n",
       "      <td>-0.872082</td>\n",
       "      <td>-0.872082</td>\n",
       "      <td>1.000000</td>\n",
       "      <td>-0.700000</td>\n",
       "      <td>-0.100000</td>\n",
       "      <td>-0.700000</td>\n",
       "    </tr>\n",
       "    <tr>\n",
       "      <th>Churned_Code</th>\n",
       "      <td>-0.100000</td>\n",
       "      <td>0.820783</td>\n",
       "      <td>0.307794</td>\n",
       "      <td>-0.700000</td>\n",
       "      <td>1.000000</td>\n",
       "      <td>-0.100000</td>\n",
       "      <td>1.000000</td>\n",
       "    </tr>\n",
       "    <tr>\n",
       "      <th>DD</th>\n",
       "      <td>1.000000</td>\n",
       "      <td>-0.359092</td>\n",
       "      <td>0.051299</td>\n",
       "      <td>-0.100000</td>\n",
       "      <td>-0.100000</td>\n",
       "      <td>1.000000</td>\n",
       "      <td>-0.100000</td>\n",
       "    </tr>\n",
       "    <tr>\n",
       "      <th>Relative_Churned</th>\n",
       "      <td>-0.100000</td>\n",
       "      <td>0.820783</td>\n",
       "      <td>0.307794</td>\n",
       "      <td>-0.700000</td>\n",
       "      <td>1.000000</td>\n",
       "      <td>-0.100000</td>\n",
       "      <td>1.000000</td>\n",
       "    </tr>\n",
       "  </tbody>\n",
       "</table>\n",
       "</div>"
      ],
      "text/plain": [
       "                        bugs  Statement_Coverage  Branch_Coverage       LOC  \\\n",
       "bugs                1.000000           -0.359092         0.051299 -0.100000   \n",
       "Statement_Coverage -0.359092            1.000000         0.684211 -0.872082   \n",
       "Branch_Coverage     0.051299            0.684211         1.000000 -0.872082   \n",
       "LOC                -0.100000           -0.872082        -0.872082  1.000000   \n",
       "Churned_Code       -0.100000            0.820783         0.307794 -0.700000   \n",
       "DD                  1.000000           -0.359092         0.051299 -0.100000   \n",
       "Relative_Churned   -0.100000            0.820783         0.307794 -0.700000   \n",
       "\n",
       "                    Churned_Code        DD  Relative_Churned  \n",
       "bugs                   -0.100000  1.000000         -0.100000  \n",
       "Statement_Coverage      0.820783 -0.359092          0.820783  \n",
       "Branch_Coverage         0.307794  0.051299          0.307794  \n",
       "LOC                    -0.700000 -0.100000         -0.700000  \n",
       "Churned_Code            1.000000 -0.100000          1.000000  \n",
       "DD                     -0.100000  1.000000         -0.100000  \n",
       "Relative_Churned        1.000000 -0.100000          1.000000  "
      ]
     },
     "execution_count": 10,
     "metadata": {
      "tags": []
     },
     "output_type": "execute_result"
    }
   ],
   "source": [
    "df.corr(method ='spearman') "
   ]
  },
  {
   "cell_type": "code",
   "execution_count": 11,
   "metadata": {
    "colab": {
     "base_uri": "https://localhost:8080/",
     "height": 112
    },
    "colab_type": "code",
    "executionInfo": {
     "elapsed": 12374,
     "status": "ok",
     "timestamp": 1555453978592,
     "user": {
      "displayName": "Nirav Patel",
      "photoUrl": "https://lh4.googleusercontent.com/-MXavU57lU4k/AAAAAAAAAAI/AAAAAAAAMFw/tzJ-F4ETDCM/s64/photo.jpg",
      "userId": "16537180351831762327"
     },
     "user_tz": 240
    },
    "id": "1DAV9QEjIxpy",
    "outputId": "9fbdab84-3366-4afb-ad86-e320c3600735"
   },
   "outputs": [
    {
     "data": {
      "text/html": [
       "<div>\n",
       "<style scoped>\n",
       "    .dataframe tbody tr th:only-of-type {\n",
       "        vertical-align: middle;\n",
       "    }\n",
       "\n",
       "    .dataframe tbody tr th {\n",
       "        vertical-align: top;\n",
       "    }\n",
       "\n",
       "    .dataframe thead th {\n",
       "        text-align: right;\n",
       "    }\n",
       "</style>\n",
       "<table border=\"1\" class=\"dataframe\">\n",
       "  <thead>\n",
       "    <tr style=\"text-align: right;\">\n",
       "      <th></th>\n",
       "      <th>Relative_Churned</th>\n",
       "      <th>DD</th>\n",
       "    </tr>\n",
       "  </thead>\n",
       "  <tbody>\n",
       "    <tr>\n",
       "      <th>Relative_Churned</th>\n",
       "      <td>1.0</td>\n",
       "      <td>-0.1</td>\n",
       "    </tr>\n",
       "    <tr>\n",
       "      <th>DD</th>\n",
       "      <td>-0.1</td>\n",
       "      <td>1.0</td>\n",
       "    </tr>\n",
       "  </tbody>\n",
       "</table>\n",
       "</div>"
      ],
      "text/plain": [
       "                  Relative_Churned   DD\n",
       "Relative_Churned               1.0 -0.1\n",
       "DD                            -0.1  1.0"
      ]
     },
     "execution_count": 11,
     "metadata": {
      "tags": []
     },
     "output_type": "execute_result"
    }
   ],
   "source": [
    "df[['Relative_Churned','DD']].corr(method ='spearman')"
   ]
  },
  {
   "cell_type": "code",
   "execution_count": 0,
   "metadata": {
    "colab": {},
    "colab_type": "code",
    "id": "8FPfLjNf_gDC"
   },
   "outputs": [],
   "source": [
    "#df.to_csv('data.csv')\n",
    "#from google.colab import files\n",
    "#files.download(\"data.csv\")"
   ]
  },
  {
   "cell_type": "code",
   "execution_count": 13,
   "metadata": {
    "colab": {
     "base_uri": "https://localhost:8080/",
     "height": 301
    },
    "colab_type": "code",
    "executionInfo": {
     "elapsed": 12259,
     "status": "ok",
     "timestamp": 1555453978607,
     "user": {
      "displayName": "Nirav Patel",
      "photoUrl": "https://lh4.googleusercontent.com/-MXavU57lU4k/AAAAAAAAAAI/AAAAAAAAMFw/tzJ-F4ETDCM/s64/photo.jpg",
      "userId": "16537180351831762327"
     },
     "user_tz": 240
    },
    "id": "DAvjvufaQbkP",
    "outputId": "3f988b5b-754e-47be-9c90-49a31c58d4a5"
   },
   "outputs": [
    {
     "data": {
      "text/plain": [
       "<matplotlib.axes._subplots.AxesSubplot at 0x7f66e6b904a8>"
      ]
     },
     "execution_count": 13,
     "metadata": {
      "tags": []
     },
     "output_type": "execute_result"
    },
    {
     "data": {
      "image/png": "[encoded data removed]",
      "text/plain": [
       "<Figure size 432x288 with 1 Axes>"
      ]
     },
     "metadata": {
      "tags": []
     },
     "output_type": "display_data"
    }
   ],
   "source": [
    "df.plot(x='Statement_Coverage', y='DD', style='o')"
   ]
  },
  {
   "cell_type": "code",
   "execution_count": 14,
   "metadata": {
    "colab": {
     "base_uri": "https://localhost:8080/",
     "height": 34
    },
    "colab_type": "code",
    "executionInfo": {
     "elapsed": 12166,
     "status": "ok",
     "timestamp": 1555453978609,
     "user": {
      "displayName": "Nirav Patel",
      "photoUrl": "https://lh4.googleusercontent.com/-MXavU57lU4k/AAAAAAAAAAI/AAAAAAAAMFw/tzJ-F4ETDCM/s64/photo.jpg",
      "userId": "16537180351831762327"
     },
     "user_tz": 240
    },
    "id": "Ldqxe-X1JaBA",
    "outputId": "270fee30-c582-4fab-e1e8-ebca4e50c1c8"
   },
   "outputs": [
    {
     "data": {
      "text/plain": [
       "SpearmanrResult(correlation=-0.35909242322980395, pvalue=0.5528147466433505)"
      ]
     },
     "execution_count": 14,
     "metadata": {
      "tags": []
     },
     "output_type": "execute_result"
    }
   ],
   "source": [
    "df_clean = df.dropna()\n",
    "stats.spearmanr(df_clean['Statement_Coverage'], df_clean['DD'])"
   ]
  },
  {
   "cell_type": "code",
   "execution_count": 15,
   "metadata": {
    "colab": {
     "base_uri": "https://localhost:8080/",
     "height": 112
    },
    "colab_type": "code",
    "executionInfo": {
     "elapsed": 12116,
     "status": "ok",
     "timestamp": 1555453978613,
     "user": {
      "displayName": "Nirav Patel",
      "photoUrl": "https://lh4.googleusercontent.com/-MXavU57lU4k/AAAAAAAAAAI/AAAAAAAAMFw/tzJ-F4ETDCM/s64/photo.jpg",
      "userId": "16537180351831762327"
     },
     "user_tz": 240
    },
    "id": "drPtlCGkAb9q",
    "outputId": "84ac9d91-3894-4d66-a1be-b653e4a56e98"
   },
   "outputs": [
    {
     "data": {
      "text/html": [
       "<div>\n",
       "<style scoped>\n",
       "    .dataframe tbody tr th:only-of-type {\n",
       "        vertical-align: middle;\n",
       "    }\n",
       "\n",
       "    .dataframe tbody tr th {\n",
       "        vertical-align: top;\n",
       "    }\n",
       "\n",
       "    .dataframe thead th {\n",
       "        text-align: right;\n",
       "    }\n",
       "</style>\n",
       "<table border=\"1\" class=\"dataframe\">\n",
       "  <thead>\n",
       "    <tr style=\"text-align: right;\">\n",
       "      <th></th>\n",
       "      <th>Statement_Coverage</th>\n",
       "      <th>DD</th>\n",
       "    </tr>\n",
       "  </thead>\n",
       "  <tbody>\n",
       "    <tr>\n",
       "      <th>Statement_Coverage</th>\n",
       "      <td>1.000000</td>\n",
       "      <td>-0.359092</td>\n",
       "    </tr>\n",
       "    <tr>\n",
       "      <th>DD</th>\n",
       "      <td>-0.359092</td>\n",
       "      <td>1.000000</td>\n",
       "    </tr>\n",
       "  </tbody>\n",
       "</table>\n",
       "</div>"
      ],
      "text/plain": [
       "                    Statement_Coverage        DD\n",
       "Statement_Coverage            1.000000 -0.359092\n",
       "DD                           -0.359092  1.000000"
      ]
     },
     "execution_count": 15,
     "metadata": {
      "tags": []
     },
     "output_type": "execute_result"
    }
   ],
   "source": [
    "df[['Statement_Coverage','DD']].corr(method ='spearman')"
   ]
  },
  {
   "cell_type": "code",
   "execution_count": 16,
   "metadata": {
    "colab": {
     "base_uri": "https://localhost:8080/",
     "height": 301
    },
    "colab_type": "code",
    "executionInfo": {
     "elapsed": 12815,
     "status": "ok",
     "timestamp": 1555453979378,
     "user": {
      "displayName": "Nirav Patel",
      "photoUrl": "https://lh4.googleusercontent.com/-MXavU57lU4k/AAAAAAAAAAI/AAAAAAAAMFw/tzJ-F4ETDCM/s64/photo.jpg",
      "userId": "16537180351831762327"
     },
     "user_tz": 240
    },
    "id": "Kz5FvlEbQcbT",
    "outputId": "158b26dd-d45d-48c4-b1c4-d1a622f2a5c1"
   },
   "outputs": [
    {
     "data": {
      "text/plain": [
       "<matplotlib.axes._subplots.AxesSubplot at 0x7f66e6b60cf8>"
      ]
     },
     "execution_count": 16,
     "metadata": {
      "tags": []
     },
     "output_type": "execute_result"
    },
    {
     "data": {
      "image/png": "[encoded data removed]",
      "text/plain": [
       "<Figure size 432x288 with 1 Axes>"
      ]
     },
     "metadata": {
      "tags": []
     },
     "output_type": "display_data"
    }
   ],
   "source": [
    "df.plot(x='Branch_Coverage', y='DD', style='o')"
   ]
  },
  {
   "cell_type": "code",
   "execution_count": 17,
   "metadata": {
    "colab": {
     "base_uri": "https://localhost:8080/",
     "height": 34
    },
    "colab_type": "code",
    "executionInfo": {
     "elapsed": 12782,
     "status": "ok",
     "timestamp": 1555453979386,
     "user": {
      "displayName": "Nirav Patel",
      "photoUrl": "https://lh4.googleusercontent.com/-MXavU57lU4k/AAAAAAAAAAI/AAAAAAAAMFw/tzJ-F4ETDCM/s64/photo.jpg",
      "userId": "16537180351831762327"
     },
     "user_tz": 240
    },
    "id": "u0PUDKBTJYXt",
    "outputId": "3109a26d-ecf9-4aed-c07f-9f12089bcf3b"
   },
   "outputs": [
    {
     "data": {
      "text/plain": [
       "SpearmanrResult(correlation=0.05129891760425771, pvalue=0.934712848108234)"
      ]
     },
     "execution_count": 17,
     "metadata": {
      "tags": []
     },
     "output_type": "execute_result"
    }
   ],
   "source": [
    "df_clean = df.dropna()\n",
    "stats.spearmanr(df_clean['Branch_Coverage'], df_clean['DD'])"
   ]
  },
  {
   "cell_type": "code",
   "execution_count": 19,
   "metadata": {
    "colab": {
     "base_uri": "https://localhost:8080/",
     "height": 112
    },
    "colab_type": "code",
    "executionInfo": {
     "elapsed": 507,
     "status": "ok",
     "timestamp": 1555454010206,
     "user": {
      "displayName": "Nirav Patel",
      "photoUrl": "https://lh4.googleusercontent.com/-MXavU57lU4k/AAAAAAAAAAI/AAAAAAAAMFw/tzJ-F4ETDCM/s64/photo.jpg",
      "userId": "16537180351831762327"
     },
     "user_tz": 240
    },
    "id": "9Z_N-APzP96s",
    "outputId": "94e9d956-bbb5-495f-d1ee-ff65685f4878"
   },
   "outputs": [
    {
     "data": {
      "text/html": [
       "<div>\n",
       "<style scoped>\n",
       "    .dataframe tbody tr th:only-of-type {\n",
       "        vertical-align: middle;\n",
       "    }\n",
       "\n",
       "    .dataframe tbody tr th {\n",
       "        vertical-align: top;\n",
       "    }\n",
       "\n",
       "    .dataframe thead th {\n",
       "        text-align: right;\n",
       "    }\n",
       "</style>\n",
       "<table border=\"1\" class=\"dataframe\">\n",
       "  <thead>\n",
       "    <tr style=\"text-align: right;\">\n",
       "      <th></th>\n",
       "      <th>Branch_Coverage</th>\n",
       "      <th>DD</th>\n",
       "    </tr>\n",
       "  </thead>\n",
       "  <tbody>\n",
       "    <tr>\n",
       "      <th>Branch_Coverage</th>\n",
       "      <td>1.000000</td>\n",
       "      <td>0.051299</td>\n",
       "    </tr>\n",
       "    <tr>\n",
       "      <th>DD</th>\n",
       "      <td>0.051299</td>\n",
       "      <td>1.000000</td>\n",
       "    </tr>\n",
       "  </tbody>\n",
       "</table>\n",
       "</div>"
      ],
      "text/plain": [
       "                 Branch_Coverage        DD\n",
       "Branch_Coverage         1.000000  0.051299\n",
       "DD                      0.051299  1.000000"
      ]
     },
     "execution_count": 19,
     "metadata": {
      "tags": []
     },
     "output_type": "execute_result"
    }
   ],
   "source": [
    "df[['Branch_Coverage','DD']].corr(method ='spearman')"
   ]
  },
  {
   "cell_type": "code",
   "execution_count": 0,
   "metadata": {
    "colab": {},
    "colab_type": "code",
    "id": "8xZImaZAQDps"
   },
   "outputs": [],
   "source": []
  }
 ],
 "metadata": {
  "colab": {
   "collapsed_sections": [],
   "name": "Math CC-Churned_CODE-DD.ipynb",
   "provenance": [],
   "version": "0.3.2"
  },
  "kernelspec": {
   "display_name": "Python 3",
   "language": "python",
   "name": "python3"
  },
  "language_info": {
   "codemirror_mode": {
    "name": "ipython",
    "version": 3
   },
   "file_extension": ".py",
   "mimetype": "text/x-python",
   "name": "python",
   "nbconvert_exporter": "python",
   "pygments_lexer": "ipython3",
   "version": "3.6.7"
  }
 },
 "nbformat": 4,
 "nbformat_minor": 1
}
