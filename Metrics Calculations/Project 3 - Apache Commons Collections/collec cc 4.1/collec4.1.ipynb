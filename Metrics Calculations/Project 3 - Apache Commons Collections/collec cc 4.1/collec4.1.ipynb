{
 "cells": [
  {
   "cell_type": "code",
   "execution_count": 1,
   "metadata": {},
   "outputs": [],
   "source": [
    "import pandas as pd\n",
    "import scipy.stats  as stats"
   ]
  },
  {
   "cell_type": "code",
   "execution_count": 2,
   "metadata": {},
   "outputs": [],
   "source": [
    "df_collection = pd.read_csv('collec41.csv', error_bad_lines=False)"
   ]
  },
  {
   "cell_type": "code",
   "execution_count": 3,
   "metadata": {},
   "outputs": [],
   "source": [
    "import matplotlib.pyplot as plt"
   ]
  },
  {
   "cell_type": "code",
   "execution_count": 4,
   "metadata": {},
   "outputs": [],
   "source": [
    "df_collection['StatementCoverage'] =  (df_collection['LINE_COVERED'] / (df_collection['LINE_COVERED'] + df_collection['LINE_MISSED'])) * 100"
   ]
  },
  {
   "cell_type": "code",
   "execution_count": 5,
   "metadata": {},
   "outputs": [],
   "source": [
    "df_collection['BranchCoverage'] =  (df_collection['BRANCH_COVERED'] / (df_collection['BRANCH_COVERED'] + df_collection['BRANCH_MISSED'])) * 100"
   ]
  },
  {
   "cell_type": "code",
   "execution_count": 6,
   "metadata": {},
   "outputs": [],
   "source": [
    "df_collection['CodeComplexity'] =  df_collection['COMPLEXITY_COVERED'] + df_collection['COMPLEXITY_MISSED'];"
   ]
  },
  {
   "cell_type": "code",
   "execution_count": 7,
   "metadata": {},
   "outputs": [
    {
     "data": {
      "text/html": [
       "<div>\n",
       "<style scoped>\n",
       "    .dataframe tbody tr th:only-of-type {\n",
       "        vertical-align: middle;\n",
       "    }\n",
       "\n",
       "    .dataframe tbody tr th {\n",
       "        vertical-align: top;\n",
       "    }\n",
       "\n",
       "    .dataframe thead th {\n",
       "        text-align: right;\n",
       "    }\n",
       "</style>\n",
       "<table border=\"1\" class=\"dataframe\">\n",
       "  <thead>\n",
       "    <tr style=\"text-align: right;\">\n",
       "      <th></th>\n",
       "      <th>GROUP</th>\n",
       "      <th>PACKAGE</th>\n",
       "      <th>CLASS</th>\n",
       "      <th>INSTRUCTION_MISSED</th>\n",
       "      <th>INSTRUCTION_COVERED</th>\n",
       "      <th>BRANCH_MISSED</th>\n",
       "      <th>BRANCH_COVERED</th>\n",
       "      <th>LINE_MISSED</th>\n",
       "      <th>LINE_COVERED</th>\n",
       "      <th>COMPLEXITY_MISSED</th>\n",
       "      <th>COMPLEXITY_COVERED</th>\n",
       "      <th>METHOD_MISSED</th>\n",
       "      <th>METHOD_COVERED</th>\n",
       "      <th>StatementCoverage</th>\n",
       "      <th>BranchCoverage</th>\n",
       "      <th>CodeComplexity</th>\n",
       "    </tr>\n",
       "  </thead>\n",
       "  <tbody>\n",
       "    <tr>\n",
       "      <th>0</th>\n",
       "      <td>Apache Commons Collections</td>\n",
       "      <td>org.apache.commons.collections4.keyvalue</td>\n",
       "      <td>TiedMapEntry</td>\n",
       "      <td>3</td>\n",
       "      <td>106</td>\n",
       "      <td>5</td>\n",
       "      <td>17</td>\n",
       "      <td>1</td>\n",
       "      <td>21</td>\n",
       "      <td>5</td>\n",
       "      <td>13</td>\n",
       "      <td>0</td>\n",
       "      <td>7</td>\n",
       "      <td>95.454545</td>\n",
       "      <td>77.272727</td>\n",
       "      <td>18</td>\n",
       "    </tr>\n",
       "    <tr>\n",
       "      <th>1</th>\n",
       "      <td>Apache Commons Collections</td>\n",
       "      <td>org.apache.commons.collections4.keyvalue</td>\n",
       "      <td>AbstractMapEntry</td>\n",
       "      <td>0</td>\n",
       "      <td>70</td>\n",
       "      <td>1</td>\n",
       "      <td>19</td>\n",
       "      <td>0</td>\n",
       "      <td>13</td>\n",
       "      <td>1</td>\n",
       "      <td>13</td>\n",
       "      <td>0</td>\n",
       "      <td>4</td>\n",
       "      <td>100.000000</td>\n",
       "      <td>95.000000</td>\n",
       "      <td>14</td>\n",
       "    </tr>\n",
       "    <tr>\n",
       "      <th>2</th>\n",
       "      <td>Apache Commons Collections</td>\n",
       "      <td>org.apache.commons.collections4.keyvalue</td>\n",
       "      <td>UnmodifiableMapEntry</td>\n",
       "      <td>0</td>\n",
       "      <td>24</td>\n",
       "      <td>0</td>\n",
       "      <td>0</td>\n",
       "      <td>0</td>\n",
       "      <td>7</td>\n",
       "      <td>0</td>\n",
       "      <td>4</td>\n",
       "      <td>0</td>\n",
       "      <td>4</td>\n",
       "      <td>100.000000</td>\n",
       "      <td>NaN</td>\n",
       "      <td>4</td>\n",
       "    </tr>\n",
       "    <tr>\n",
       "      <th>3</th>\n",
       "      <td>Apache Commons Collections</td>\n",
       "      <td>org.apache.commons.collections4.keyvalue</td>\n",
       "      <td>AbstractKeyValue</td>\n",
       "      <td>0</td>\n",
       "      <td>44</td>\n",
       "      <td>0</td>\n",
       "      <td>0</td>\n",
       "      <td>0</td>\n",
       "      <td>17</td>\n",
       "      <td>0</td>\n",
       "      <td>6</td>\n",
       "      <td>0</td>\n",
       "      <td>6</td>\n",
       "      <td>100.000000</td>\n",
       "      <td>NaN</td>\n",
       "      <td>6</td>\n",
       "    </tr>\n",
       "    <tr>\n",
       "      <th>4</th>\n",
       "      <td>Apache Commons Collections</td>\n",
       "      <td>org.apache.commons.collections4.keyvalue</td>\n",
       "      <td>MultiKey</td>\n",
       "      <td>0</td>\n",
       "      <td>195</td>\n",
       "      <td>0</td>\n",
       "      <td>12</td>\n",
       "      <td>0</td>\n",
       "      <td>37</td>\n",
       "      <td>0</td>\n",
       "      <td>20</td>\n",
       "      <td>0</td>\n",
       "      <td>14</td>\n",
       "      <td>100.000000</td>\n",
       "      <td>100.000000</td>\n",
       "      <td>20</td>\n",
       "    </tr>\n",
       "  </tbody>\n",
       "</table>\n",
       "</div>"
      ],
      "text/plain": [
       "                        GROUP                                   PACKAGE  \\\n",
       "0  Apache Commons Collections  org.apache.commons.collections4.keyvalue   \n",
       "1  Apache Commons Collections  org.apache.commons.collections4.keyvalue   \n",
       "2  Apache Commons Collections  org.apache.commons.collections4.keyvalue   \n",
       "3  Apache Commons Collections  org.apache.commons.collections4.keyvalue   \n",
       "4  Apache Commons Collections  org.apache.commons.collections4.keyvalue   \n",
       "\n",
       "                  CLASS  INSTRUCTION_MISSED  INSTRUCTION_COVERED  \\\n",
       "0          TiedMapEntry                   3                  106   \n",
       "1      AbstractMapEntry                   0                   70   \n",
       "2  UnmodifiableMapEntry                   0                   24   \n",
       "3      AbstractKeyValue                   0                   44   \n",
       "4              MultiKey                   0                  195   \n",
       "\n",
       "   BRANCH_MISSED  BRANCH_COVERED  LINE_MISSED  LINE_COVERED  \\\n",
       "0              5              17            1            21   \n",
       "1              1              19            0            13   \n",
       "2              0               0            0             7   \n",
       "3              0               0            0            17   \n",
       "4              0              12            0            37   \n",
       "\n",
       "   COMPLEXITY_MISSED  COMPLEXITY_COVERED  METHOD_MISSED  METHOD_COVERED  \\\n",
       "0                  5                  13              0               7   \n",
       "1                  1                  13              0               4   \n",
       "2                  0                   4              0               4   \n",
       "3                  0                   6              0               6   \n",
       "4                  0                  20              0              14   \n",
       "\n",
       "   StatementCoverage  BranchCoverage  CodeComplexity  \n",
       "0          95.454545       77.272727              18  \n",
       "1         100.000000       95.000000              14  \n",
       "2         100.000000             NaN               4  \n",
       "3         100.000000             NaN               6  \n",
       "4         100.000000      100.000000              20  "
      ]
     },
     "execution_count": 7,
     "metadata": {},
     "output_type": "execute_result"
    }
   ],
   "source": [
    "df_collection.head()"
   ]
  },
  {
   "cell_type": "code",
   "execution_count": 8,
   "metadata": {},
   "outputs": [
    {
     "data": {
      "text/plain": [
       "<matplotlib.axes._subplots.AxesSubplot at 0x7fccae4ce4e0>"
      ]
     },
     "execution_count": 8,
     "metadata": {},
     "output_type": "execute_result"
    },
    {
     "data": {
      "image/png": "[encoded data removed]",
      "text/plain": [
       "<Figure size 432x288 with 1 Axes>"
      ]
     },
     "metadata": {
      "needs_background": "light"
     },
     "output_type": "display_data"
    }
   ],
   "source": [
    "df_collection.plot(x='CodeComplexity', y='StatementCoverage', style='o')"
   ]
  },
  {
   "cell_type": "code",
   "execution_count": 9,
   "metadata": {},
   "outputs": [
    {
     "data": {
      "text/plain": [
       "<matplotlib.axes._subplots.AxesSubplot at 0x7fccac428a90>"
      ]
     },
     "execution_count": 9,
     "metadata": {},
     "output_type": "execute_result"
    },
    {
     "data": {
      "image/png": "[encoded data removed]",
      "text/plain": [
       "<Figure size 432x288 with 1 Axes>"
      ]
     },
     "metadata": {
      "needs_background": "light"
     },
     "output_type": "display_data"
    }
   ],
   "source": [
    "df_collection.plot(x='CodeComplexity', y='BranchCoverage', style='o')"
   ]
  },
  {
   "cell_type": "code",
   "execution_count": 10,
   "metadata": {},
   "outputs": [
    {
     "data": {
      "image/png": "[encoded data removed]",
      "text/plain": [
       "<Figure size 432x288 with 1 Axes>"
      ]
     },
     "metadata": {
      "needs_background": "light"
     },
     "output_type": "display_data"
    }
   ],
   "source": [
    "plt.scatter(df_collection['CodeComplexity'], df_collection['StatementCoverage'])\n",
    "plt.show()"
   ]
  },
  {
   "cell_type": "code",
   "execution_count": 11,
   "metadata": {},
   "outputs": [
    {
     "data": {
      "text/html": [
       "<div>\n",
       "<style scoped>\n",
       "    .dataframe tbody tr th:only-of-type {\n",
       "        vertical-align: middle;\n",
       "    }\n",
       "\n",
       "    .dataframe tbody tr th {\n",
       "        vertical-align: top;\n",
       "    }\n",
       "\n",
       "    .dataframe thead th {\n",
       "        text-align: right;\n",
       "    }\n",
       "</style>\n",
       "<table border=\"1\" class=\"dataframe\">\n",
       "  <thead>\n",
       "    <tr style=\"text-align: right;\">\n",
       "      <th></th>\n",
       "      <th>INSTRUCTION_MISSED</th>\n",
       "      <th>INSTRUCTION_COVERED</th>\n",
       "      <th>BRANCH_MISSED</th>\n",
       "      <th>BRANCH_COVERED</th>\n",
       "      <th>LINE_MISSED</th>\n",
       "      <th>LINE_COVERED</th>\n",
       "      <th>COMPLEXITY_MISSED</th>\n",
       "      <th>COMPLEXITY_COVERED</th>\n",
       "      <th>METHOD_MISSED</th>\n",
       "      <th>METHOD_COVERED</th>\n",
       "      <th>StatementCoverage</th>\n",
       "      <th>BranchCoverage</th>\n",
       "      <th>CodeComplexity</th>\n",
       "    </tr>\n",
       "  </thead>\n",
       "  <tbody>\n",
       "    <tr>\n",
       "      <th>INSTRUCTION_MISSED</th>\n",
       "      <td>1.000000</td>\n",
       "      <td>0.427969</td>\n",
       "      <td>0.686199</td>\n",
       "      <td>0.414098</td>\n",
       "      <td>0.965887</td>\n",
       "      <td>0.430791</td>\n",
       "      <td>0.945522</td>\n",
       "      <td>0.395537</td>\n",
       "      <td>0.804221</td>\n",
       "      <td>0.369686</td>\n",
       "      <td>-0.881718</td>\n",
       "      <td>-0.648822</td>\n",
       "      <td>0.619103</td>\n",
       "    </tr>\n",
       "    <tr>\n",
       "      <th>INSTRUCTION_COVERED</th>\n",
       "      <td>0.427969</td>\n",
       "      <td>1.000000</td>\n",
       "      <td>0.543497</td>\n",
       "      <td>0.868702</td>\n",
       "      <td>0.400375</td>\n",
       "      <td>0.963538</td>\n",
       "      <td>0.482125</td>\n",
       "      <td>0.936885</td>\n",
       "      <td>0.165972</td>\n",
       "      <td>0.838419</td>\n",
       "      <td>-0.142722</td>\n",
       "      <td>-0.105406</td>\n",
       "      <td>0.895423</td>\n",
       "    </tr>\n",
       "    <tr>\n",
       "      <th>BRANCH_MISSED</th>\n",
       "      <td>0.686199</td>\n",
       "      <td>0.543497</td>\n",
       "      <td>1.000000</td>\n",
       "      <td>0.596357</td>\n",
       "      <td>0.648936</td>\n",
       "      <td>0.531809</td>\n",
       "      <td>0.774954</td>\n",
       "      <td>0.478656</td>\n",
       "      <td>0.311049</td>\n",
       "      <td>0.402540</td>\n",
       "      <td>-0.480677</td>\n",
       "      <td>-0.883722</td>\n",
       "      <td>0.632828</td>\n",
       "    </tr>\n",
       "    <tr>\n",
       "      <th>BRANCH_COVERED</th>\n",
       "      <td>0.414098</td>\n",
       "      <td>0.868702</td>\n",
       "      <td>0.596357</td>\n",
       "      <td>1.000000</td>\n",
       "      <td>0.394993</td>\n",
       "      <td>0.851691</td>\n",
       "      <td>0.490243</td>\n",
       "      <td>0.827682</td>\n",
       "      <td>0.138118</td>\n",
       "      <td>0.633316</td>\n",
       "      <td>-0.169151</td>\n",
       "      <td>-0.088287</td>\n",
       "      <td>0.808742</td>\n",
       "    </tr>\n",
       "    <tr>\n",
       "      <th>LINE_MISSED</th>\n",
       "      <td>0.965887</td>\n",
       "      <td>0.400375</td>\n",
       "      <td>0.648936</td>\n",
       "      <td>0.394993</td>\n",
       "      <td>1.000000</td>\n",
       "      <td>0.428142</td>\n",
       "      <td>0.935951</td>\n",
       "      <td>0.392190</td>\n",
       "      <td>0.833021</td>\n",
       "      <td>0.372625</td>\n",
       "      <td>-0.920522</td>\n",
       "      <td>-0.608232</td>\n",
       "      <td>0.613916</td>\n",
       "    </tr>\n",
       "    <tr>\n",
       "      <th>LINE_COVERED</th>\n",
       "      <td>0.430791</td>\n",
       "      <td>0.963538</td>\n",
       "      <td>0.531809</td>\n",
       "      <td>0.851691</td>\n",
       "      <td>0.428142</td>\n",
       "      <td>1.000000</td>\n",
       "      <td>0.484760</td>\n",
       "      <td>0.942890</td>\n",
       "      <td>0.183086</td>\n",
       "      <td>0.858996</td>\n",
       "      <td>-0.173007</td>\n",
       "      <td>-0.095049</td>\n",
       "      <td>0.902887</td>\n",
       "    </tr>\n",
       "    <tr>\n",
       "      <th>COMPLEXITY_MISSED</th>\n",
       "      <td>0.945522</td>\n",
       "      <td>0.482125</td>\n",
       "      <td>0.774954</td>\n",
       "      <td>0.490243</td>\n",
       "      <td>0.935951</td>\n",
       "      <td>0.484760</td>\n",
       "      <td>1.000000</td>\n",
       "      <td>0.462062</td>\n",
       "      <td>0.768661</td>\n",
       "      <td>0.423446</td>\n",
       "      <td>-0.839738</td>\n",
       "      <td>-0.717450</td>\n",
       "      <td>0.687450</td>\n",
       "    </tr>\n",
       "    <tr>\n",
       "      <th>COMPLEXITY_COVERED</th>\n",
       "      <td>0.395537</td>\n",
       "      <td>0.936885</td>\n",
       "      <td>0.478656</td>\n",
       "      <td>0.827682</td>\n",
       "      <td>0.392190</td>\n",
       "      <td>0.942890</td>\n",
       "      <td>0.462062</td>\n",
       "      <td>1.000000</td>\n",
       "      <td>0.195481</td>\n",
       "      <td>0.940900</td>\n",
       "      <td>-0.147422</td>\n",
       "      <td>-0.024341</td>\n",
       "      <td>0.941979</td>\n",
       "    </tr>\n",
       "    <tr>\n",
       "      <th>METHOD_MISSED</th>\n",
       "      <td>0.804221</td>\n",
       "      <td>0.165972</td>\n",
       "      <td>0.311049</td>\n",
       "      <td>0.138118</td>\n",
       "      <td>0.833021</td>\n",
       "      <td>0.183086</td>\n",
       "      <td>0.768661</td>\n",
       "      <td>0.195481</td>\n",
       "      <td>1.000000</td>\n",
       "      <td>0.216100</td>\n",
       "      <td>-0.850558</td>\n",
       "      <td>-0.316634</td>\n",
       "      <td>0.407831</td>\n",
       "    </tr>\n",
       "    <tr>\n",
       "      <th>METHOD_COVERED</th>\n",
       "      <td>0.369686</td>\n",
       "      <td>0.838419</td>\n",
       "      <td>0.402540</td>\n",
       "      <td>0.633316</td>\n",
       "      <td>0.372625</td>\n",
       "      <td>0.858996</td>\n",
       "      <td>0.423446</td>\n",
       "      <td>0.940900</td>\n",
       "      <td>0.216100</td>\n",
       "      <td>1.000000</td>\n",
       "      <td>-0.147435</td>\n",
       "      <td>-0.051005</td>\n",
       "      <td>0.883170</td>\n",
       "    </tr>\n",
       "    <tr>\n",
       "      <th>StatementCoverage</th>\n",
       "      <td>-0.881718</td>\n",
       "      <td>-0.142722</td>\n",
       "      <td>-0.480677</td>\n",
       "      <td>-0.169151</td>\n",
       "      <td>-0.920522</td>\n",
       "      <td>-0.173007</td>\n",
       "      <td>-0.839738</td>\n",
       "      <td>-0.147422</td>\n",
       "      <td>-0.850558</td>\n",
       "      <td>-0.147435</td>\n",
       "      <td>1.000000</td>\n",
       "      <td>0.602838</td>\n",
       "      <td>-0.394929</td>\n",
       "    </tr>\n",
       "    <tr>\n",
       "      <th>BranchCoverage</th>\n",
       "      <td>-0.648822</td>\n",
       "      <td>-0.105406</td>\n",
       "      <td>-0.883722</td>\n",
       "      <td>-0.088287</td>\n",
       "      <td>-0.608232</td>\n",
       "      <td>-0.095049</td>\n",
       "      <td>-0.717450</td>\n",
       "      <td>-0.024341</td>\n",
       "      <td>-0.316634</td>\n",
       "      <td>-0.051005</td>\n",
       "      <td>0.602838</td>\n",
       "      <td>1.000000</td>\n",
       "      <td>-0.269372</td>\n",
       "    </tr>\n",
       "    <tr>\n",
       "      <th>CodeComplexity</th>\n",
       "      <td>0.619103</td>\n",
       "      <td>0.895423</td>\n",
       "      <td>0.632828</td>\n",
       "      <td>0.808742</td>\n",
       "      <td>0.613916</td>\n",
       "      <td>0.902887</td>\n",
       "      <td>0.687450</td>\n",
       "      <td>0.941979</td>\n",
       "      <td>0.407831</td>\n",
       "      <td>0.883170</td>\n",
       "      <td>-0.394929</td>\n",
       "      <td>-0.269372</td>\n",
       "      <td>1.000000</td>\n",
       "    </tr>\n",
       "  </tbody>\n",
       "</table>\n",
       "</div>"
      ],
      "text/plain": [
       "                     INSTRUCTION_MISSED  INSTRUCTION_COVERED  BRANCH_MISSED  \\\n",
       "INSTRUCTION_MISSED             1.000000             0.427969       0.686199   \n",
       "INSTRUCTION_COVERED            0.427969             1.000000       0.543497   \n",
       "BRANCH_MISSED                  0.686199             0.543497       1.000000   \n",
       "BRANCH_COVERED                 0.414098             0.868702       0.596357   \n",
       "LINE_MISSED                    0.965887             0.400375       0.648936   \n",
       "LINE_COVERED                   0.430791             0.963538       0.531809   \n",
       "COMPLEXITY_MISSED              0.945522             0.482125       0.774954   \n",
       "COMPLEXITY_COVERED             0.395537             0.936885       0.478656   \n",
       "METHOD_MISSED                  0.804221             0.165972       0.311049   \n",
       "METHOD_COVERED                 0.369686             0.838419       0.402540   \n",
       "StatementCoverage             -0.881718            -0.142722      -0.480677   \n",
       "BranchCoverage                -0.648822            -0.105406      -0.883722   \n",
       "CodeComplexity                 0.619103             0.895423       0.632828   \n",
       "\n",
       "                     BRANCH_COVERED  LINE_MISSED  LINE_COVERED  \\\n",
       "INSTRUCTION_MISSED         0.414098     0.965887      0.430791   \n",
       "INSTRUCTION_COVERED        0.868702     0.400375      0.963538   \n",
       "BRANCH_MISSED              0.596357     0.648936      0.531809   \n",
       "BRANCH_COVERED             1.000000     0.394993      0.851691   \n",
       "LINE_MISSED                0.394993     1.000000      0.428142   \n",
       "LINE_COVERED               0.851691     0.428142      1.000000   \n",
       "COMPLEXITY_MISSED          0.490243     0.935951      0.484760   \n",
       "COMPLEXITY_COVERED         0.827682     0.392190      0.942890   \n",
       "METHOD_MISSED              0.138118     0.833021      0.183086   \n",
       "METHOD_COVERED             0.633316     0.372625      0.858996   \n",
       "StatementCoverage         -0.169151    -0.920522     -0.173007   \n",
       "BranchCoverage            -0.088287    -0.608232     -0.095049   \n",
       "CodeComplexity             0.808742     0.613916      0.902887   \n",
       "\n",
       "                     COMPLEXITY_MISSED  COMPLEXITY_COVERED  METHOD_MISSED  \\\n",
       "INSTRUCTION_MISSED            0.945522            0.395537       0.804221   \n",
       "INSTRUCTION_COVERED           0.482125            0.936885       0.165972   \n",
       "BRANCH_MISSED                 0.774954            0.478656       0.311049   \n",
       "BRANCH_COVERED                0.490243            0.827682       0.138118   \n",
       "LINE_MISSED                   0.935951            0.392190       0.833021   \n",
       "LINE_COVERED                  0.484760            0.942890       0.183086   \n",
       "COMPLEXITY_MISSED             1.000000            0.462062       0.768661   \n",
       "COMPLEXITY_COVERED            0.462062            1.000000       0.195481   \n",
       "METHOD_MISSED                 0.768661            0.195481       1.000000   \n",
       "METHOD_COVERED                0.423446            0.940900       0.216100   \n",
       "StatementCoverage            -0.839738           -0.147422      -0.850558   \n",
       "BranchCoverage               -0.717450           -0.024341      -0.316634   \n",
       "CodeComplexity                0.687450            0.941979       0.407831   \n",
       "\n",
       "                     METHOD_COVERED  StatementCoverage  BranchCoverage  \\\n",
       "INSTRUCTION_MISSED         0.369686          -0.881718       -0.648822   \n",
       "INSTRUCTION_COVERED        0.838419          -0.142722       -0.105406   \n",
       "BRANCH_MISSED              0.402540          -0.480677       -0.883722   \n",
       "BRANCH_COVERED             0.633316          -0.169151       -0.088287   \n",
       "LINE_MISSED                0.372625          -0.920522       -0.608232   \n",
       "LINE_COVERED               0.858996          -0.173007       -0.095049   \n",
       "COMPLEXITY_MISSED          0.423446          -0.839738       -0.717450   \n",
       "COMPLEXITY_COVERED         0.940900          -0.147422       -0.024341   \n",
       "METHOD_MISSED              0.216100          -0.850558       -0.316634   \n",
       "METHOD_COVERED             1.000000          -0.147435       -0.051005   \n",
       "StatementCoverage         -0.147435           1.000000        0.602838   \n",
       "BranchCoverage            -0.051005           0.602838        1.000000   \n",
       "CodeComplexity             0.883170          -0.394929       -0.269372   \n",
       "\n",
       "                     CodeComplexity  \n",
       "INSTRUCTION_MISSED         0.619103  \n",
       "INSTRUCTION_COVERED        0.895423  \n",
       "BRANCH_MISSED              0.632828  \n",
       "BRANCH_COVERED             0.808742  \n",
       "LINE_MISSED                0.613916  \n",
       "LINE_COVERED               0.902887  \n",
       "COMPLEXITY_MISSED          0.687450  \n",
       "COMPLEXITY_COVERED         0.941979  \n",
       "METHOD_MISSED              0.407831  \n",
       "METHOD_COVERED             0.883170  \n",
       "StatementCoverage         -0.394929  \n",
       "BranchCoverage            -0.269372  \n",
       "CodeComplexity             1.000000  "
      ]
     },
     "execution_count": 11,
     "metadata": {},
     "output_type": "execute_result"
    }
   ],
   "source": [
    "df_collection.corr(method ='spearman')"
   ]
  },
  {
   "cell_type": "code",
   "execution_count": 12,
   "metadata": {},
   "outputs": [
    {
     "data": {
      "text/html": [
       "<div>\n",
       "<style scoped>\n",
       "    .dataframe tbody tr th:only-of-type {\n",
       "        vertical-align: middle;\n",
       "    }\n",
       "\n",
       "    .dataframe tbody tr th {\n",
       "        vertical-align: top;\n",
       "    }\n",
       "\n",
       "    .dataframe thead th {\n",
       "        text-align: right;\n",
       "    }\n",
       "</style>\n",
       "<table border=\"1\" class=\"dataframe\">\n",
       "  <thead>\n",
       "    <tr style=\"text-align: right;\">\n",
       "      <th></th>\n",
       "      <th>CodeComplexity</th>\n",
       "      <th>StatementCoverage</th>\n",
       "    </tr>\n",
       "  </thead>\n",
       "  <tbody>\n",
       "    <tr>\n",
       "      <th>CodeComplexity</th>\n",
       "      <td>1.000000</td>\n",
       "      <td>-0.394929</td>\n",
       "    </tr>\n",
       "    <tr>\n",
       "      <th>StatementCoverage</th>\n",
       "      <td>-0.394929</td>\n",
       "      <td>1.000000</td>\n",
       "    </tr>\n",
       "  </tbody>\n",
       "</table>\n",
       "</div>"
      ],
      "text/plain": [
       "                   CodeComplexity  StatementCoverage\n",
       "CodeComplexity           1.000000          -0.394929\n",
       "StatementCoverage       -0.394929           1.000000"
      ]
     },
     "execution_count": 12,
     "metadata": {},
     "output_type": "execute_result"
    }
   ],
   "source": [
    "df_collection[['CodeComplexity','StatementCoverage']].corr(method ='spearman')"
   ]
  },
  {
   "cell_type": "code",
   "execution_count": 13,
   "metadata": {},
   "outputs": [
    {
     "data": {
      "text/plain": [
       "SpearmanrResult(correlation=-0.20925001330792714, pvalue=0.00017929966547967883)"
      ]
     },
     "execution_count": 13,
     "metadata": {},
     "output_type": "execute_result"
    }
   ],
   "source": [
    "df_clean = df_collection.dropna()\n",
    "stats.spearmanr(df_clean['StatementCoverage'], df_clean['CodeComplexity'])"
   ]
  },
  {
   "cell_type": "code",
   "execution_count": 14,
   "metadata": {},
   "outputs": [
    {
     "data": {
      "text/html": [
       "<div>\n",
       "<style scoped>\n",
       "    .dataframe tbody tr th:only-of-type {\n",
       "        vertical-align: middle;\n",
       "    }\n",
       "\n",
       "    .dataframe tbody tr th {\n",
       "        vertical-align: top;\n",
       "    }\n",
       "\n",
       "    .dataframe thead th {\n",
       "        text-align: right;\n",
       "    }\n",
       "</style>\n",
       "<table border=\"1\" class=\"dataframe\">\n",
       "  <thead>\n",
       "    <tr style=\"text-align: right;\">\n",
       "      <th></th>\n",
       "      <th>CodeComplexity</th>\n",
       "      <th>BranchCoverage</th>\n",
       "    </tr>\n",
       "  </thead>\n",
       "  <tbody>\n",
       "    <tr>\n",
       "      <th>CodeComplexity</th>\n",
       "      <td>1.000000</td>\n",
       "      <td>-0.269372</td>\n",
       "    </tr>\n",
       "    <tr>\n",
       "      <th>BranchCoverage</th>\n",
       "      <td>-0.269372</td>\n",
       "      <td>1.000000</td>\n",
       "    </tr>\n",
       "  </tbody>\n",
       "</table>\n",
       "</div>"
      ],
      "text/plain": [
       "                CodeComplexity  BranchCoverage\n",
       "CodeComplexity        1.000000       -0.269372\n",
       "BranchCoverage       -0.269372        1.000000"
      ]
     },
     "execution_count": 14,
     "metadata": {},
     "output_type": "execute_result"
    }
   ],
   "source": [
    "df_collection[['CodeComplexity','BranchCoverage']].corr(method ='spearman')"
   ]
  },
  {
   "cell_type": "code",
   "execution_count": 15,
   "metadata": {},
   "outputs": [
    {
     "data": {
      "text/plain": [
       "SpearmanrResult(correlation=-0.2693724683181888, pvalue=1.1761458750967343e-06)"
      ]
     },
     "execution_count": 15,
     "metadata": {},
     "output_type": "execute_result"
    }
   ],
   "source": [
    "df_clean = df_collection.dropna()\n",
    "stats.spearmanr(df_clean['BranchCoverage'], df_clean['CodeComplexity'])"
   ]
  },
  {
   "cell_type": "code",
   "execution_count": 16,
   "metadata": {},
   "outputs": [
    {
     "name": "stdout",
     "output_type": "stream",
     "text": [
      "Statment Coverage 85.14176245210729\n"
     ]
    }
   ],
   "source": [
    "print('Statment Coverage '+str((df_collection.LINE_COVERED.sum()/(df_collection.LINE_MISSED.sum() + df_collection.LINE_COVERED.sum()))*100))"
   ]
  },
  {
   "cell_type": "code",
   "execution_count": 17,
   "metadata": {},
   "outputs": [
    {
     "name": "stdout",
     "output_type": "stream",
     "text": [
      "Branch Coverage 78.07723911257189\n"
     ]
    }
   ],
   "source": [
    "print('Branch Coverage '+str((df_collection.BRANCH_COVERED.sum()/(df_collection.BRANCH_MISSED.sum() + df_collection.BRANCH_COVERED.sum()))*100))"
   ]
  },
  {
   "cell_type": "code",
   "execution_count": null,
   "metadata": {},
   "outputs": [],
   "source": []
  }
 ],
 "metadata": {
  "kernelspec": {
   "display_name": "Python 3",
   "language": "python",
   "name": "python3"
  },
  "language_info": {
   "codemirror_mode": {
    "name": "ipython",
    "version": 3
   },
   "file_extension": ".py",
   "mimetype": "text/x-python",
   "name": "python",
   "nbconvert_exporter": "python",
   "pygments_lexer": "ipython3",
   "version": "3.6.7"
  }
 },
 "nbformat": 4,
 "nbformat_minor": 2
}
