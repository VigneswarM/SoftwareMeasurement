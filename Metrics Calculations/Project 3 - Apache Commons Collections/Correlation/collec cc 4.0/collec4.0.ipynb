{
 "cells": [
  {
   "cell_type": "code",
   "execution_count": 1,
   "metadata": {},
   "outputs": [],
   "source": [
    "import pandas as pd\n",
    "import scipy.stats  as stats"
   ]
  },
  {
   "cell_type": "code",
   "execution_count": 2,
   "metadata": {},
   "outputs": [],
   "source": [
    "df_collection = pd.read_csv('collec40.csv', error_bad_lines=False)"
   ]
  },
  {
   "cell_type": "code",
   "execution_count": 3,
   "metadata": {},
   "outputs": [],
   "source": [
    "import matplotlib.pyplot as plt"
   ]
  },
  {
   "cell_type": "code",
   "execution_count": 4,
   "metadata": {},
   "outputs": [],
   "source": [
    "df_collection['StatementCoverage'] =  (df_collection['LINE_COVERED'] / (df_collection['LINE_COVERED'] + df_collection['LINE_MISSED'])) * 100"
   ]
  },
  {
   "cell_type": "code",
   "execution_count": 5,
   "metadata": {},
   "outputs": [],
   "source": [
    "df_collection['BranchCoverage'] =  (df_collection['BRANCH_COVERED'] / (df_collection['BRANCH_COVERED'] + df_collection['BRANCH_MISSED'])) * 100"
   ]
  },
  {
   "cell_type": "code",
   "execution_count": 6,
   "metadata": {},
   "outputs": [],
   "source": [
    "df_collection['CodeComplexity'] =  df_collection['COMPLEXITY_COVERED'] + df_collection['COMPLEXITY_MISSED'];"
   ]
  },
  {
   "cell_type": "code",
   "execution_count": 7,
   "metadata": {},
   "outputs": [
    {
     "data": {
      "text/html": [
       "<div>\n",
       "<style scoped>\n",
       "    .dataframe tbody tr th:only-of-type {\n",
       "        vertical-align: middle;\n",
       "    }\n",
       "\n",
       "    .dataframe tbody tr th {\n",
       "        vertical-align: top;\n",
       "    }\n",
       "\n",
       "    .dataframe thead th {\n",
       "        text-align: right;\n",
       "    }\n",
       "</style>\n",
       "<table border=\"1\" class=\"dataframe\">\n",
       "  <thead>\n",
       "    <tr style=\"text-align: right;\">\n",
       "      <th></th>\n",
       "      <th>GROUP</th>\n",
       "      <th>PACKAGE</th>\n",
       "      <th>CLASS</th>\n",
       "      <th>INSTRUCTION_MISSED</th>\n",
       "      <th>INSTRUCTION_COVERED</th>\n",
       "      <th>BRANCH_MISSED</th>\n",
       "      <th>BRANCH_COVERED</th>\n",
       "      <th>LINE_MISSED</th>\n",
       "      <th>LINE_COVERED</th>\n",
       "      <th>COMPLEXITY_MISSED</th>\n",
       "      <th>COMPLEXITY_COVERED</th>\n",
       "      <th>METHOD_MISSED</th>\n",
       "      <th>METHOD_COVERED</th>\n",
       "      <th>StatementCoverage</th>\n",
       "      <th>BranchCoverage</th>\n",
       "      <th>CodeComplexity</th>\n",
       "    </tr>\n",
       "  </thead>\n",
       "  <tbody>\n",
       "    <tr>\n",
       "      <th>0</th>\n",
       "      <td>Apache Commons Collections</td>\n",
       "      <td>org.apache.commons.collections4.keyvalue</td>\n",
       "      <td>TiedMapEntry</td>\n",
       "      <td>3</td>\n",
       "      <td>106</td>\n",
       "      <td>5</td>\n",
       "      <td>17</td>\n",
       "      <td>1</td>\n",
       "      <td>21</td>\n",
       "      <td>5</td>\n",
       "      <td>13</td>\n",
       "      <td>0</td>\n",
       "      <td>7</td>\n",
       "      <td>95.454545</td>\n",
       "      <td>77.272727</td>\n",
       "      <td>18</td>\n",
       "    </tr>\n",
       "    <tr>\n",
       "      <th>1</th>\n",
       "      <td>Apache Commons Collections</td>\n",
       "      <td>org.apache.commons.collections4.keyvalue</td>\n",
       "      <td>AbstractMapEntry</td>\n",
       "      <td>2</td>\n",
       "      <td>68</td>\n",
       "      <td>3</td>\n",
       "      <td>17</td>\n",
       "      <td>1</td>\n",
       "      <td>12</td>\n",
       "      <td>3</td>\n",
       "      <td>11</td>\n",
       "      <td>0</td>\n",
       "      <td>4</td>\n",
       "      <td>92.307692</td>\n",
       "      <td>85.000000</td>\n",
       "      <td>14</td>\n",
       "    </tr>\n",
       "    <tr>\n",
       "      <th>2</th>\n",
       "      <td>Apache Commons Collections</td>\n",
       "      <td>org.apache.commons.collections4.keyvalue</td>\n",
       "      <td>UnmodifiableMapEntry</td>\n",
       "      <td>0</td>\n",
       "      <td>24</td>\n",
       "      <td>0</td>\n",
       "      <td>0</td>\n",
       "      <td>0</td>\n",
       "      <td>7</td>\n",
       "      <td>0</td>\n",
       "      <td>4</td>\n",
       "      <td>0</td>\n",
       "      <td>4</td>\n",
       "      <td>100.000000</td>\n",
       "      <td>NaN</td>\n",
       "      <td>4</td>\n",
       "    </tr>\n",
       "    <tr>\n",
       "      <th>3</th>\n",
       "      <td>Apache Commons Collections</td>\n",
       "      <td>org.apache.commons.collections4.keyvalue</td>\n",
       "      <td>AbstractKeyValue</td>\n",
       "      <td>0</td>\n",
       "      <td>44</td>\n",
       "      <td>0</td>\n",
       "      <td>0</td>\n",
       "      <td>0</td>\n",
       "      <td>17</td>\n",
       "      <td>0</td>\n",
       "      <td>6</td>\n",
       "      <td>0</td>\n",
       "      <td>6</td>\n",
       "      <td>100.000000</td>\n",
       "      <td>NaN</td>\n",
       "      <td>6</td>\n",
       "    </tr>\n",
       "    <tr>\n",
       "      <th>4</th>\n",
       "      <td>Apache Commons Collections</td>\n",
       "      <td>org.apache.commons.collections4.keyvalue</td>\n",
       "      <td>MultiKey</td>\n",
       "      <td>0</td>\n",
       "      <td>195</td>\n",
       "      <td>0</td>\n",
       "      <td>12</td>\n",
       "      <td>0</td>\n",
       "      <td>37</td>\n",
       "      <td>0</td>\n",
       "      <td>20</td>\n",
       "      <td>0</td>\n",
       "      <td>14</td>\n",
       "      <td>100.000000</td>\n",
       "      <td>100.000000</td>\n",
       "      <td>20</td>\n",
       "    </tr>\n",
       "  </tbody>\n",
       "</table>\n",
       "</div>"
      ],
      "text/plain": [
       "                        GROUP                                   PACKAGE  \\\n",
       "0  Apache Commons Collections  org.apache.commons.collections4.keyvalue   \n",
       "1  Apache Commons Collections  org.apache.commons.collections4.keyvalue   \n",
       "2  Apache Commons Collections  org.apache.commons.collections4.keyvalue   \n",
       "3  Apache Commons Collections  org.apache.commons.collections4.keyvalue   \n",
       "4  Apache Commons Collections  org.apache.commons.collections4.keyvalue   \n",
       "\n",
       "                  CLASS  INSTRUCTION_MISSED  INSTRUCTION_COVERED  \\\n",
       "0          TiedMapEntry                   3                  106   \n",
       "1      AbstractMapEntry                   2                   68   \n",
       "2  UnmodifiableMapEntry                   0                   24   \n",
       "3      AbstractKeyValue                   0                   44   \n",
       "4              MultiKey                   0                  195   \n",
       "\n",
       "   BRANCH_MISSED  BRANCH_COVERED  LINE_MISSED  LINE_COVERED  \\\n",
       "0              5              17            1            21   \n",
       "1              3              17            1            12   \n",
       "2              0               0            0             7   \n",
       "3              0               0            0            17   \n",
       "4              0              12            0            37   \n",
       "\n",
       "   COMPLEXITY_MISSED  COMPLEXITY_COVERED  METHOD_MISSED  METHOD_COVERED  \\\n",
       "0                  5                  13              0               7   \n",
       "1                  3                  11              0               4   \n",
       "2                  0                   4              0               4   \n",
       "3                  0                   6              0               6   \n",
       "4                  0                  20              0              14   \n",
       "\n",
       "   StatementCoverage  BranchCoverage  CodeComplexity  \n",
       "0          95.454545       77.272727              18  \n",
       "1          92.307692       85.000000              14  \n",
       "2         100.000000             NaN               4  \n",
       "3         100.000000             NaN               6  \n",
       "4         100.000000      100.000000              20  "
      ]
     },
     "execution_count": 7,
     "metadata": {},
     "output_type": "execute_result"
    }
   ],
   "source": [
    "df_collection.head()"
   ]
  },
  {
   "cell_type": "code",
   "execution_count": 8,
   "metadata": {},
   "outputs": [
    {
     "data": {
      "text/plain": [
       "<matplotlib.axes._subplots.AxesSubplot at 0x7fe6a2ae3400>"
      ]
     },
     "execution_count": 8,
     "metadata": {},
     "output_type": "execute_result"
    },
    {
     "data": {
      "image/png": "[encoded data removed]",
      "text/plain": [
       "<Figure size 432x288 with 1 Axes>"
      ]
     },
     "metadata": {
      "needs_background": "light"
     },
     "output_type": "display_data"
    }
   ],
   "source": [
    "df_collection.plot(x='CodeComplexity', y='StatementCoverage', style='o')"
   ]
  },
  {
   "cell_type": "code",
   "execution_count": 9,
   "metadata": {},
   "outputs": [
    {
     "data": {
      "text/plain": [
       "<matplotlib.axes._subplots.AxesSubplot at 0x7fe6a0a3cef0>"
      ]
     },
     "execution_count": 9,
     "metadata": {},
     "output_type": "execute_result"
    },
    {
     "data": {
      "image/png": "[encoded data removed]",
      "text/plain": [
       "<Figure size 432x288 with 1 Axes>"
      ]
     },
     "metadata": {
      "needs_background": "light"
     },
     "output_type": "display_data"
    }
   ],
   "source": [
    "df_collection.plot(x='CodeComplexity', y='BranchCoverage', style='o')"
   ]
  },
  {
   "cell_type": "code",
   "execution_count": 10,
   "metadata": {},
   "outputs": [
    {
     "data": {
      "image/png": "[encoded data removed]",
      "text/plain": [
       "<Figure size 432x288 with 1 Axes>"
      ]
     },
     "metadata": {
      "needs_background": "light"
     },
     "output_type": "display_data"
    }
   ],
   "source": [
    "plt.scatter(df_collection['CodeComplexity'], df_collection['StatementCoverage'])\n",
    "plt.show()"
   ]
  },
  {
   "cell_type": "code",
   "execution_count": 11,
   "metadata": {},
   "outputs": [
    {
     "data": {
      "text/html": [
       "<div>\n",
       "<style scoped>\n",
       "    .dataframe tbody tr th:only-of-type {\n",
       "        vertical-align: middle;\n",
       "    }\n",
       "\n",
       "    .dataframe tbody tr th {\n",
       "        vertical-align: top;\n",
       "    }\n",
       "\n",
       "    .dataframe thead th {\n",
       "        text-align: right;\n",
       "    }\n",
       "</style>\n",
       "<table border=\"1\" class=\"dataframe\">\n",
       "  <thead>\n",
       "    <tr style=\"text-align: right;\">\n",
       "      <th></th>\n",
       "      <th>INSTRUCTION_MISSED</th>\n",
       "      <th>INSTRUCTION_COVERED</th>\n",
       "      <th>BRANCH_MISSED</th>\n",
       "      <th>BRANCH_COVERED</th>\n",
       "      <th>LINE_MISSED</th>\n",
       "      <th>LINE_COVERED</th>\n",
       "      <th>COMPLEXITY_MISSED</th>\n",
       "      <th>COMPLEXITY_COVERED</th>\n",
       "      <th>METHOD_MISSED</th>\n",
       "      <th>METHOD_COVERED</th>\n",
       "      <th>StatementCoverage</th>\n",
       "      <th>BranchCoverage</th>\n",
       "      <th>CodeComplexity</th>\n",
       "    </tr>\n",
       "  </thead>\n",
       "  <tbody>\n",
       "    <tr>\n",
       "      <th>INSTRUCTION_MISSED</th>\n",
       "      <td>1.000000</td>\n",
       "      <td>0.399357</td>\n",
       "      <td>0.681237</td>\n",
       "      <td>0.408835</td>\n",
       "      <td>0.964333</td>\n",
       "      <td>0.396570</td>\n",
       "      <td>0.927500</td>\n",
       "      <td>0.360327</td>\n",
       "      <td>0.782459</td>\n",
       "      <td>0.324570</td>\n",
       "      <td>-0.861142</td>\n",
       "      <td>-0.651718</td>\n",
       "      <td>0.593630</td>\n",
       "    </tr>\n",
       "    <tr>\n",
       "      <th>INSTRUCTION_COVERED</th>\n",
       "      <td>0.399357</td>\n",
       "      <td>1.000000</td>\n",
       "      <td>0.549838</td>\n",
       "      <td>0.871459</td>\n",
       "      <td>0.373995</td>\n",
       "      <td>0.969806</td>\n",
       "      <td>0.463859</td>\n",
       "      <td>0.933960</td>\n",
       "      <td>0.116335</td>\n",
       "      <td>0.826262</td>\n",
       "      <td>-0.071593</td>\n",
       "      <td>-0.073971</td>\n",
       "      <td>0.891588</td>\n",
       "    </tr>\n",
       "    <tr>\n",
       "      <th>BRANCH_MISSED</th>\n",
       "      <td>0.681237</td>\n",
       "      <td>0.549838</td>\n",
       "      <td>1.000000</td>\n",
       "      <td>0.621330</td>\n",
       "      <td>0.656590</td>\n",
       "      <td>0.537761</td>\n",
       "      <td>0.792909</td>\n",
       "      <td>0.486508</td>\n",
       "      <td>0.291711</td>\n",
       "      <td>0.409583</td>\n",
       "      <td>-0.452904</td>\n",
       "      <td>-0.865238</td>\n",
       "      <td>0.658016</td>\n",
       "    </tr>\n",
       "    <tr>\n",
       "      <th>BRANCH_COVERED</th>\n",
       "      <td>0.408835</td>\n",
       "      <td>0.871459</td>\n",
       "      <td>0.621330</td>\n",
       "      <td>1.000000</td>\n",
       "      <td>0.391819</td>\n",
       "      <td>0.862836</td>\n",
       "      <td>0.497894</td>\n",
       "      <td>0.822454</td>\n",
       "      <td>0.111063</td>\n",
       "      <td>0.613894</td>\n",
       "      <td>-0.129572</td>\n",
       "      <td>-0.059757</td>\n",
       "      <td>0.814061</td>\n",
       "    </tr>\n",
       "    <tr>\n",
       "      <th>LINE_MISSED</th>\n",
       "      <td>0.964333</td>\n",
       "      <td>0.373995</td>\n",
       "      <td>0.656590</td>\n",
       "      <td>0.391819</td>\n",
       "      <td>1.000000</td>\n",
       "      <td>0.395759</td>\n",
       "      <td>0.927832</td>\n",
       "      <td>0.359301</td>\n",
       "      <td>0.811866</td>\n",
       "      <td>0.331007</td>\n",
       "      <td>-0.901983</td>\n",
       "      <td>-0.631018</td>\n",
       "      <td>0.593305</td>\n",
       "    </tr>\n",
       "    <tr>\n",
       "      <th>LINE_COVERED</th>\n",
       "      <td>0.396570</td>\n",
       "      <td>0.969806</td>\n",
       "      <td>0.537761</td>\n",
       "      <td>0.862836</td>\n",
       "      <td>0.395759</td>\n",
       "      <td>1.000000</td>\n",
       "      <td>0.458992</td>\n",
       "      <td>0.944797</td>\n",
       "      <td>0.127216</td>\n",
       "      <td>0.849222</td>\n",
       "      <td>-0.094028</td>\n",
       "      <td>-0.053408</td>\n",
       "      <td>0.900950</td>\n",
       "    </tr>\n",
       "    <tr>\n",
       "      <th>COMPLEXITY_MISSED</th>\n",
       "      <td>0.927500</td>\n",
       "      <td>0.463859</td>\n",
       "      <td>0.792909</td>\n",
       "      <td>0.497894</td>\n",
       "      <td>0.927832</td>\n",
       "      <td>0.458992</td>\n",
       "      <td>1.000000</td>\n",
       "      <td>0.435272</td>\n",
       "      <td>0.741052</td>\n",
       "      <td>0.387029</td>\n",
       "      <td>-0.805810</td>\n",
       "      <td>-0.737644</td>\n",
       "      <td>0.674902</td>\n",
       "    </tr>\n",
       "    <tr>\n",
       "      <th>COMPLEXITY_COVERED</th>\n",
       "      <td>0.360327</td>\n",
       "      <td>0.933960</td>\n",
       "      <td>0.486508</td>\n",
       "      <td>0.822454</td>\n",
       "      <td>0.359301</td>\n",
       "      <td>0.944797</td>\n",
       "      <td>0.435272</td>\n",
       "      <td>1.000000</td>\n",
       "      <td>0.136040</td>\n",
       "      <td>0.933452</td>\n",
       "      <td>-0.069138</td>\n",
       "      <td>0.000287</td>\n",
       "      <td>0.933950</td>\n",
       "    </tr>\n",
       "    <tr>\n",
       "      <th>METHOD_MISSED</th>\n",
       "      <td>0.782459</td>\n",
       "      <td>0.116335</td>\n",
       "      <td>0.291711</td>\n",
       "      <td>0.111063</td>\n",
       "      <td>0.811866</td>\n",
       "      <td>0.127216</td>\n",
       "      <td>0.741052</td>\n",
       "      <td>0.136040</td>\n",
       "      <td>1.000000</td>\n",
       "      <td>0.147744</td>\n",
       "      <td>-0.833762</td>\n",
       "      <td>-0.321871</td>\n",
       "      <td>0.356982</td>\n",
       "    </tr>\n",
       "    <tr>\n",
       "      <th>METHOD_COVERED</th>\n",
       "      <td>0.324570</td>\n",
       "      <td>0.826262</td>\n",
       "      <td>0.409583</td>\n",
       "      <td>0.613894</td>\n",
       "      <td>0.331007</td>\n",
       "      <td>0.849222</td>\n",
       "      <td>0.387029</td>\n",
       "      <td>0.933452</td>\n",
       "      <td>0.147744</td>\n",
       "      <td>1.000000</td>\n",
       "      <td>-0.060624</td>\n",
       "      <td>-0.054822</td>\n",
       "      <td>0.865391</td>\n",
       "    </tr>\n",
       "    <tr>\n",
       "      <th>StatementCoverage</th>\n",
       "      <td>-0.861142</td>\n",
       "      <td>-0.071593</td>\n",
       "      <td>-0.452904</td>\n",
       "      <td>-0.129572</td>\n",
       "      <td>-0.901983</td>\n",
       "      <td>-0.094028</td>\n",
       "      <td>-0.805810</td>\n",
       "      <td>-0.069138</td>\n",
       "      <td>-0.833762</td>\n",
       "      <td>-0.060624</td>\n",
       "      <td>1.000000</td>\n",
       "      <td>0.625609</td>\n",
       "      <td>-0.325210</td>\n",
       "    </tr>\n",
       "    <tr>\n",
       "      <th>BranchCoverage</th>\n",
       "      <td>-0.651718</td>\n",
       "      <td>-0.073971</td>\n",
       "      <td>-0.865238</td>\n",
       "      <td>-0.059757</td>\n",
       "      <td>-0.631018</td>\n",
       "      <td>-0.053408</td>\n",
       "      <td>-0.737644</td>\n",
       "      <td>0.000287</td>\n",
       "      <td>-0.321871</td>\n",
       "      <td>-0.054822</td>\n",
       "      <td>0.625609</td>\n",
       "      <td>1.000000</td>\n",
       "      <td>-0.280346</td>\n",
       "    </tr>\n",
       "    <tr>\n",
       "      <th>CodeComplexity</th>\n",
       "      <td>0.593630</td>\n",
       "      <td>0.891588</td>\n",
       "      <td>0.658016</td>\n",
       "      <td>0.814061</td>\n",
       "      <td>0.593305</td>\n",
       "      <td>0.900950</td>\n",
       "      <td>0.674902</td>\n",
       "      <td>0.933950</td>\n",
       "      <td>0.356982</td>\n",
       "      <td>0.865391</td>\n",
       "      <td>-0.325210</td>\n",
       "      <td>-0.280346</td>\n",
       "      <td>1.000000</td>\n",
       "    </tr>\n",
       "  </tbody>\n",
       "</table>\n",
       "</div>"
      ],
      "text/plain": [
       "                     INSTRUCTION_MISSED  INSTRUCTION_COVERED  BRANCH_MISSED  \\\n",
       "INSTRUCTION_MISSED             1.000000             0.399357       0.681237   \n",
       "INSTRUCTION_COVERED            0.399357             1.000000       0.549838   \n",
       "BRANCH_MISSED                  0.681237             0.549838       1.000000   \n",
       "BRANCH_COVERED                 0.408835             0.871459       0.621330   \n",
       "LINE_MISSED                    0.964333             0.373995       0.656590   \n",
       "LINE_COVERED                   0.396570             0.969806       0.537761   \n",
       "COMPLEXITY_MISSED              0.927500             0.463859       0.792909   \n",
       "COMPLEXITY_COVERED             0.360327             0.933960       0.486508   \n",
       "METHOD_MISSED                  0.782459             0.116335       0.291711   \n",
       "METHOD_COVERED                 0.324570             0.826262       0.409583   \n",
       "StatementCoverage             -0.861142            -0.071593      -0.452904   \n",
       "BranchCoverage                -0.651718            -0.073971      -0.865238   \n",
       "CodeComplexity                 0.593630             0.891588       0.658016   \n",
       "\n",
       "                     BRANCH_COVERED  LINE_MISSED  LINE_COVERED  \\\n",
       "INSTRUCTION_MISSED         0.408835     0.964333      0.396570   \n",
       "INSTRUCTION_COVERED        0.871459     0.373995      0.969806   \n",
       "BRANCH_MISSED              0.621330     0.656590      0.537761   \n",
       "BRANCH_COVERED             1.000000     0.391819      0.862836   \n",
       "LINE_MISSED                0.391819     1.000000      0.395759   \n",
       "LINE_COVERED               0.862836     0.395759      1.000000   \n",
       "COMPLEXITY_MISSED          0.497894     0.927832      0.458992   \n",
       "COMPLEXITY_COVERED         0.822454     0.359301      0.944797   \n",
       "METHOD_MISSED              0.111063     0.811866      0.127216   \n",
       "METHOD_COVERED             0.613894     0.331007      0.849222   \n",
       "StatementCoverage         -0.129572    -0.901983     -0.094028   \n",
       "BranchCoverage            -0.059757    -0.631018     -0.053408   \n",
       "CodeComplexity             0.814061     0.593305      0.900950   \n",
       "\n",
       "                     COMPLEXITY_MISSED  COMPLEXITY_COVERED  METHOD_MISSED  \\\n",
       "INSTRUCTION_MISSED            0.927500            0.360327       0.782459   \n",
       "INSTRUCTION_COVERED           0.463859            0.933960       0.116335   \n",
       "BRANCH_MISSED                 0.792909            0.486508       0.291711   \n",
       "BRANCH_COVERED                0.497894            0.822454       0.111063   \n",
       "LINE_MISSED                   0.927832            0.359301       0.811866   \n",
       "LINE_COVERED                  0.458992            0.944797       0.127216   \n",
       "COMPLEXITY_MISSED             1.000000            0.435272       0.741052   \n",
       "COMPLEXITY_COVERED            0.435272            1.000000       0.136040   \n",
       "METHOD_MISSED                 0.741052            0.136040       1.000000   \n",
       "METHOD_COVERED                0.387029            0.933452       0.147744   \n",
       "StatementCoverage            -0.805810           -0.069138      -0.833762   \n",
       "BranchCoverage               -0.737644            0.000287      -0.321871   \n",
       "CodeComplexity                0.674902            0.933950       0.356982   \n",
       "\n",
       "                     METHOD_COVERED  StatementCoverage  BranchCoverage  \\\n",
       "INSTRUCTION_MISSED         0.324570          -0.861142       -0.651718   \n",
       "INSTRUCTION_COVERED        0.826262          -0.071593       -0.073971   \n",
       "BRANCH_MISSED              0.409583          -0.452904       -0.865238   \n",
       "BRANCH_COVERED             0.613894          -0.129572       -0.059757   \n",
       "LINE_MISSED                0.331007          -0.901983       -0.631018   \n",
       "LINE_COVERED               0.849222          -0.094028       -0.053408   \n",
       "COMPLEXITY_MISSED          0.387029          -0.805810       -0.737644   \n",
       "COMPLEXITY_COVERED         0.933452          -0.069138        0.000287   \n",
       "METHOD_MISSED              0.147744          -0.833762       -0.321871   \n",
       "METHOD_COVERED             1.000000          -0.060624       -0.054822   \n",
       "StatementCoverage         -0.060624           1.000000        0.625609   \n",
       "BranchCoverage            -0.054822           0.625609        1.000000   \n",
       "CodeComplexity             0.865391          -0.325210       -0.280346   \n",
       "\n",
       "                     CodeComplexity  \n",
       "INSTRUCTION_MISSED         0.593630  \n",
       "INSTRUCTION_COVERED        0.891588  \n",
       "BRANCH_MISSED              0.658016  \n",
       "BRANCH_COVERED             0.814061  \n",
       "LINE_MISSED                0.593305  \n",
       "LINE_COVERED               0.900950  \n",
       "COMPLEXITY_MISSED          0.674902  \n",
       "COMPLEXITY_COVERED         0.933950  \n",
       "METHOD_MISSED              0.356982  \n",
       "METHOD_COVERED             0.865391  \n",
       "StatementCoverage         -0.325210  \n",
       "BranchCoverage            -0.280346  \n",
       "CodeComplexity             1.000000  "
      ]
     },
     "execution_count": 11,
     "metadata": {},
     "output_type": "execute_result"
    }
   ],
   "source": [
    "df_collection.corr(method ='spearman')"
   ]
  },
  {
   "cell_type": "code",
   "execution_count": 12,
   "metadata": {},
   "outputs": [
    {
     "data": {
      "text/html": [
       "<div>\n",
       "<style scoped>\n",
       "    .dataframe tbody tr th:only-of-type {\n",
       "        vertical-align: middle;\n",
       "    }\n",
       "\n",
       "    .dataframe tbody tr th {\n",
       "        vertical-align: top;\n",
       "    }\n",
       "\n",
       "    .dataframe thead th {\n",
       "        text-align: right;\n",
       "    }\n",
       "</style>\n",
       "<table border=\"1\" class=\"dataframe\">\n",
       "  <thead>\n",
       "    <tr style=\"text-align: right;\">\n",
       "      <th></th>\n",
       "      <th>CodeComplexity</th>\n",
       "      <th>StatementCoverage</th>\n",
       "    </tr>\n",
       "  </thead>\n",
       "  <tbody>\n",
       "    <tr>\n",
       "      <th>CodeComplexity</th>\n",
       "      <td>1.00000</td>\n",
       "      <td>-0.32521</td>\n",
       "    </tr>\n",
       "    <tr>\n",
       "      <th>StatementCoverage</th>\n",
       "      <td>-0.32521</td>\n",
       "      <td>1.00000</td>\n",
       "    </tr>\n",
       "  </tbody>\n",
       "</table>\n",
       "</div>"
      ],
      "text/plain": [
       "                   CodeComplexity  StatementCoverage\n",
       "CodeComplexity            1.00000           -0.32521\n",
       "StatementCoverage        -0.32521            1.00000"
      ]
     },
     "execution_count": 12,
     "metadata": {},
     "output_type": "execute_result"
    }
   ],
   "source": [
    "df_collection[['CodeComplexity','StatementCoverage']].corr(method ='spearman')"
   ]
  },
  {
   "cell_type": "code",
   "execution_count": 13,
   "metadata": {},
   "outputs": [
    {
     "data": {
      "text/plain": [
       "SpearmanrResult(correlation=-0.17835957519390708, pvalue=0.0039107177793145384)"
      ]
     },
     "execution_count": 13,
     "metadata": {},
     "output_type": "execute_result"
    }
   ],
   "source": [
    "df_clean = df_collection.dropna()\n",
    "stats.spearmanr(df_clean['StatementCoverage'], df_clean['CodeComplexity'])"
   ]
  },
  {
   "cell_type": "code",
   "execution_count": 14,
   "metadata": {},
   "outputs": [
    {
     "data": {
      "text/html": [
       "<div>\n",
       "<style scoped>\n",
       "    .dataframe tbody tr th:only-of-type {\n",
       "        vertical-align: middle;\n",
       "    }\n",
       "\n",
       "    .dataframe tbody tr th {\n",
       "        vertical-align: top;\n",
       "    }\n",
       "\n",
       "    .dataframe thead th {\n",
       "        text-align: right;\n",
       "    }\n",
       "</style>\n",
       "<table border=\"1\" class=\"dataframe\">\n",
       "  <thead>\n",
       "    <tr style=\"text-align: right;\">\n",
       "      <th></th>\n",
       "      <th>CodeComplexity</th>\n",
       "      <th>BranchCoverage</th>\n",
       "    </tr>\n",
       "  </thead>\n",
       "  <tbody>\n",
       "    <tr>\n",
       "      <th>CodeComplexity</th>\n",
       "      <td>1.000000</td>\n",
       "      <td>-0.280346</td>\n",
       "    </tr>\n",
       "    <tr>\n",
       "      <th>BranchCoverage</th>\n",
       "      <td>-0.280346</td>\n",
       "      <td>1.000000</td>\n",
       "    </tr>\n",
       "  </tbody>\n",
       "</table>\n",
       "</div>"
      ],
      "text/plain": [
       "                CodeComplexity  BranchCoverage\n",
       "CodeComplexity        1.000000       -0.280346\n",
       "BranchCoverage       -0.280346        1.000000"
      ]
     },
     "execution_count": 14,
     "metadata": {},
     "output_type": "execute_result"
    }
   ],
   "source": [
    "df_collection[['CodeComplexity','BranchCoverage']].corr(method ='spearman')"
   ]
  },
  {
   "cell_type": "code",
   "execution_count": 15,
   "metadata": {},
   "outputs": [
    {
     "data": {
      "text/plain": [
       "SpearmanrResult(correlation=-0.28034599447339353, pvalue=4.410028251828032e-06)"
      ]
     },
     "execution_count": 15,
     "metadata": {},
     "output_type": "execute_result"
    }
   ],
   "source": [
    "df_clean = df_collection.dropna()\n",
    "stats.spearmanr(df_clean['BranchCoverage'], df_clean['CodeComplexity'])"
   ]
  },
  {
   "cell_type": "code",
   "execution_count": 16,
   "metadata": {},
   "outputs": [
    {
     "name": "stdout",
     "output_type": "stream",
     "text": [
      "Statment Coverage 85.47880690737834\n"
     ]
    }
   ],
   "source": [
    "print('Statment Coverage '+str((df_collection.LINE_COVERED.sum()/(df_collection.LINE_MISSED.sum() + df_collection.LINE_COVERED.sum()))*100))"
   ]
  },
  {
   "cell_type": "code",
   "execution_count": 17,
   "metadata": {},
   "outputs": [
    {
     "name": "stdout",
     "output_type": "stream",
     "text": [
      "Branch Coverage 77.57774140752865\n"
     ]
    }
   ],
   "source": [
    "print('Branch Coverage '+str((df_collection.BRANCH_COVERED.sum()/(df_collection.BRANCH_MISSED.sum() + df_collection.BRANCH_COVERED.sum()))*100))"
   ]
  },
  {
   "cell_type": "code",
   "execution_count": null,
   "metadata": {},
   "outputs": [],
   "source": []
  }
 ],
 "metadata": {
  "kernelspec": {
   "display_name": "Python 3",
   "language": "python",
   "name": "python3"
  },
  "language_info": {
   "codemirror_mode": {
    "name": "ipython",
    "version": 3
   },
   "file_extension": ".py",
   "mimetype": "text/x-python",
   "name": "python",
   "nbconvert_exporter": "python",
   "pygments_lexer": "ipython3",
   "version": "3.6.7"
  }
 },
 "nbformat": 4,
 "nbformat_minor": 2
}
