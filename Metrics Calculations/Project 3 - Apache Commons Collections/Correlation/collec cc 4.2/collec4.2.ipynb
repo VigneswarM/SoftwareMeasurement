{
 "cells": [
  {
   "cell_type": "code",
   "execution_count": 10,
   "metadata": {},
   "outputs": [],
   "source": [
    "import pandas as pd\n",
    "import scipy.stats  as stats"
   ]
  },
  {
   "cell_type": "code",
   "execution_count": 11,
   "metadata": {},
   "outputs": [],
   "source": [
    "df_collection = pd.read_csv('collec42.csv', error_bad_lines=False)"
   ]
  },
  {
   "cell_type": "code",
   "execution_count": 12,
   "metadata": {},
   "outputs": [],
   "source": [
    "import matplotlib.pyplot as plt"
   ]
  },
  {
   "cell_type": "code",
   "execution_count": 13,
   "metadata": {},
   "outputs": [],
   "source": [
    "df_collection['StatementCoverage'] =  (df_collection['LINE_COVERED'] / (df_collection['LINE_COVERED'] + df_collection['LINE_MISSED'])) * 100"
   ]
  },
  {
   "cell_type": "code",
   "execution_count": 14,
   "metadata": {},
   "outputs": [],
   "source": [
    "df_collection['BranchCoverage'] =  (df_collection['BRANCH_COVERED'] / (df_collection['BRANCH_COVERED'] + df_collection['BRANCH_MISSED'])) * 100"
   ]
  },
  {
   "cell_type": "code",
   "execution_count": 15,
   "metadata": {},
   "outputs": [],
   "source": [
    "df_collection['CodeComplexity'] =  df_collection['COMPLEXITY_COVERED'] + df_collection['COMPLEXITY_MISSED'];"
   ]
  },
  {
   "cell_type": "code",
   "execution_count": 16,
   "metadata": {},
   "outputs": [
    {
     "data": {
      "text/html": [
       "<div>\n",
       "<style scoped>\n",
       "    .dataframe tbody tr th:only-of-type {\n",
       "        vertical-align: middle;\n",
       "    }\n",
       "\n",
       "    .dataframe tbody tr th {\n",
       "        vertical-align: top;\n",
       "    }\n",
       "\n",
       "    .dataframe thead th {\n",
       "        text-align: right;\n",
       "    }\n",
       "</style>\n",
       "<table border=\"1\" class=\"dataframe\">\n",
       "  <thead>\n",
       "    <tr style=\"text-align: right;\">\n",
       "      <th></th>\n",
       "      <th>GROUP</th>\n",
       "      <th>PACKAGE</th>\n",
       "      <th>CLASS</th>\n",
       "      <th>INSTRUCTION_MISSED</th>\n",
       "      <th>INSTRUCTION_COVERED</th>\n",
       "      <th>BRANCH_MISSED</th>\n",
       "      <th>BRANCH_COVERED</th>\n",
       "      <th>LINE_MISSED</th>\n",
       "      <th>LINE_COVERED</th>\n",
       "      <th>COMPLEXITY_MISSED</th>\n",
       "      <th>COMPLEXITY_COVERED</th>\n",
       "      <th>METHOD_MISSED</th>\n",
       "      <th>METHOD_COVERED</th>\n",
       "      <th>StatementCoverage</th>\n",
       "      <th>BranchCoverage</th>\n",
       "      <th>CodeComplexity</th>\n",
       "    </tr>\n",
       "  </thead>\n",
       "  <tbody>\n",
       "    <tr>\n",
       "      <th>0</th>\n",
       "      <td>Apache Commons Collections</td>\n",
       "      <td>org.apache.commons.collections4.keyvalue</td>\n",
       "      <td>TiedMapEntry</td>\n",
       "      <td>3</td>\n",
       "      <td>106</td>\n",
       "      <td>5</td>\n",
       "      <td>17</td>\n",
       "      <td>1</td>\n",
       "      <td>21</td>\n",
       "      <td>5</td>\n",
       "      <td>13</td>\n",
       "      <td>0</td>\n",
       "      <td>7</td>\n",
       "      <td>95.454545</td>\n",
       "      <td>77.272727</td>\n",
       "      <td>18</td>\n",
       "    </tr>\n",
       "    <tr>\n",
       "      <th>1</th>\n",
       "      <td>Apache Commons Collections</td>\n",
       "      <td>org.apache.commons.collections4.keyvalue</td>\n",
       "      <td>AbstractMapEntry</td>\n",
       "      <td>0</td>\n",
       "      <td>70</td>\n",
       "      <td>1</td>\n",
       "      <td>19</td>\n",
       "      <td>0</td>\n",
       "      <td>13</td>\n",
       "      <td>1</td>\n",
       "      <td>13</td>\n",
       "      <td>0</td>\n",
       "      <td>4</td>\n",
       "      <td>100.000000</td>\n",
       "      <td>95.000000</td>\n",
       "      <td>14</td>\n",
       "    </tr>\n",
       "    <tr>\n",
       "      <th>2</th>\n",
       "      <td>Apache Commons Collections</td>\n",
       "      <td>org.apache.commons.collections4.keyvalue</td>\n",
       "      <td>UnmodifiableMapEntry</td>\n",
       "      <td>0</td>\n",
       "      <td>24</td>\n",
       "      <td>0</td>\n",
       "      <td>0</td>\n",
       "      <td>0</td>\n",
       "      <td>7</td>\n",
       "      <td>0</td>\n",
       "      <td>4</td>\n",
       "      <td>0</td>\n",
       "      <td>4</td>\n",
       "      <td>100.000000</td>\n",
       "      <td>NaN</td>\n",
       "      <td>4</td>\n",
       "    </tr>\n",
       "    <tr>\n",
       "      <th>3</th>\n",
       "      <td>Apache Commons Collections</td>\n",
       "      <td>org.apache.commons.collections4.keyvalue</td>\n",
       "      <td>AbstractKeyValue</td>\n",
       "      <td>0</td>\n",
       "      <td>44</td>\n",
       "      <td>0</td>\n",
       "      <td>0</td>\n",
       "      <td>0</td>\n",
       "      <td>17</td>\n",
       "      <td>0</td>\n",
       "      <td>6</td>\n",
       "      <td>0</td>\n",
       "      <td>6</td>\n",
       "      <td>100.000000</td>\n",
       "      <td>NaN</td>\n",
       "      <td>6</td>\n",
       "    </tr>\n",
       "    <tr>\n",
       "      <th>4</th>\n",
       "      <td>Apache Commons Collections</td>\n",
       "      <td>org.apache.commons.collections4.keyvalue</td>\n",
       "      <td>MultiKey</td>\n",
       "      <td>0</td>\n",
       "      <td>195</td>\n",
       "      <td>0</td>\n",
       "      <td>12</td>\n",
       "      <td>0</td>\n",
       "      <td>37</td>\n",
       "      <td>0</td>\n",
       "      <td>20</td>\n",
       "      <td>0</td>\n",
       "      <td>14</td>\n",
       "      <td>100.000000</td>\n",
       "      <td>100.000000</td>\n",
       "      <td>20</td>\n",
       "    </tr>\n",
       "  </tbody>\n",
       "</table>\n",
       "</div>"
      ],
      "text/plain": [
       "                        GROUP                                   PACKAGE  \\\n",
       "0  Apache Commons Collections  org.apache.commons.collections4.keyvalue   \n",
       "1  Apache Commons Collections  org.apache.commons.collections4.keyvalue   \n",
       "2  Apache Commons Collections  org.apache.commons.collections4.keyvalue   \n",
       "3  Apache Commons Collections  org.apache.commons.collections4.keyvalue   \n",
       "4  Apache Commons Collections  org.apache.commons.collections4.keyvalue   \n",
       "\n",
       "                  CLASS  INSTRUCTION_MISSED  INSTRUCTION_COVERED  \\\n",
       "0          TiedMapEntry                   3                  106   \n",
       "1      AbstractMapEntry                   0                   70   \n",
       "2  UnmodifiableMapEntry                   0                   24   \n",
       "3      AbstractKeyValue                   0                   44   \n",
       "4              MultiKey                   0                  195   \n",
       "\n",
       "   BRANCH_MISSED  BRANCH_COVERED  LINE_MISSED  LINE_COVERED  \\\n",
       "0              5              17            1            21   \n",
       "1              1              19            0            13   \n",
       "2              0               0            0             7   \n",
       "3              0               0            0            17   \n",
       "4              0              12            0            37   \n",
       "\n",
       "   COMPLEXITY_MISSED  COMPLEXITY_COVERED  METHOD_MISSED  METHOD_COVERED  \\\n",
       "0                  5                  13              0               7   \n",
       "1                  1                  13              0               4   \n",
       "2                  0                   4              0               4   \n",
       "3                  0                   6              0               6   \n",
       "4                  0                  20              0              14   \n",
       "\n",
       "   StatementCoverage  BranchCoverage  CodeComplexity  \n",
       "0          95.454545       77.272727              18  \n",
       "1         100.000000       95.000000              14  \n",
       "2         100.000000             NaN               4  \n",
       "3         100.000000             NaN               6  \n",
       "4         100.000000      100.000000              20  "
      ]
     },
     "execution_count": 16,
     "metadata": {},
     "output_type": "execute_result"
    }
   ],
   "source": [
    "df_collection.head()"
   ]
  },
  {
   "cell_type": "code",
   "execution_count": 17,
   "metadata": {},
   "outputs": [
    {
     "data": {
      "text/plain": [
       "<matplotlib.axes._subplots.AxesSubplot at 0x7f2d3815ea58>"
      ]
     },
     "execution_count": 17,
     "metadata": {},
     "output_type": "execute_result"
    },
    {
     "data": {
      "image/png": "[encoded data removed]",
      "text/plain": [
       "<Figure size 432x288 with 1 Axes>"
      ]
     },
     "metadata": {
      "needs_background": "light"
     },
     "output_type": "display_data"
    }
   ],
   "source": [
    "df_collection.plot(x='CodeComplexity', y='StatementCoverage', style='o')"
   ]
  },
  {
   "cell_type": "code",
   "execution_count": 18,
   "metadata": {},
   "outputs": [
    {
     "data": {
      "text/plain": [
       "<matplotlib.axes._subplots.AxesSubplot at 0x7f2d307c5198>"
      ]
     },
     "execution_count": 18,
     "metadata": {},
     "output_type": "execute_result"
    },
    {
     "data": {
      "image/png": "[encoded data removed]",
      "text/plain": [
       "<Figure size 432x288 with 1 Axes>"
      ]
     },
     "metadata": {
      "needs_background": "light"
     },
     "output_type": "display_data"
    }
   ],
   "source": [
    "df_collection.plot(x='CodeComplexity', y='BranchCoverage', style='o')"
   ]
  },
  {
   "cell_type": "code",
   "execution_count": 19,
   "metadata": {},
   "outputs": [
    {
     "data": {
      "image/png": "[encoded data removed]",
      "text/plain": [
       "<Figure size 432x288 with 1 Axes>"
      ]
     },
     "metadata": {
      "needs_background": "light"
     },
     "output_type": "display_data"
    }
   ],
   "source": [
    "plt.scatter(df_collection['CodeComplexity'], df_collection['StatementCoverage'])\n",
    "plt.show()"
   ]
  },
  {
   "cell_type": "code",
   "execution_count": 20,
   "metadata": {},
   "outputs": [
    {
     "data": {
      "text/html": [
       "<div>\n",
       "<style scoped>\n",
       "    .dataframe tbody tr th:only-of-type {\n",
       "        vertical-align: middle;\n",
       "    }\n",
       "\n",
       "    .dataframe tbody tr th {\n",
       "        vertical-align: top;\n",
       "    }\n",
       "\n",
       "    .dataframe thead th {\n",
       "        text-align: right;\n",
       "    }\n",
       "</style>\n",
       "<table border=\"1\" class=\"dataframe\">\n",
       "  <thead>\n",
       "    <tr style=\"text-align: right;\">\n",
       "      <th></th>\n",
       "      <th>INSTRUCTION_MISSED</th>\n",
       "      <th>INSTRUCTION_COVERED</th>\n",
       "      <th>BRANCH_MISSED</th>\n",
       "      <th>BRANCH_COVERED</th>\n",
       "      <th>LINE_MISSED</th>\n",
       "      <th>LINE_COVERED</th>\n",
       "      <th>COMPLEXITY_MISSED</th>\n",
       "      <th>COMPLEXITY_COVERED</th>\n",
       "      <th>METHOD_MISSED</th>\n",
       "      <th>METHOD_COVERED</th>\n",
       "      <th>StatementCoverage</th>\n",
       "      <th>BranchCoverage</th>\n",
       "      <th>CodeComplexity</th>\n",
       "    </tr>\n",
       "  </thead>\n",
       "  <tbody>\n",
       "    <tr>\n",
       "      <th>INSTRUCTION_MISSED</th>\n",
       "      <td>1.000000</td>\n",
       "      <td>0.434600</td>\n",
       "      <td>0.686799</td>\n",
       "      <td>0.418906</td>\n",
       "      <td>0.966141</td>\n",
       "      <td>0.435423</td>\n",
       "      <td>0.943979</td>\n",
       "      <td>0.404518</td>\n",
       "      <td>0.799839</td>\n",
       "      <td>0.377768</td>\n",
       "      <td>-0.878405</td>\n",
       "      <td>-0.635941</td>\n",
       "      <td>0.623664</td>\n",
       "    </tr>\n",
       "    <tr>\n",
       "      <th>INSTRUCTION_COVERED</th>\n",
       "      <td>0.434600</td>\n",
       "      <td>1.000000</td>\n",
       "      <td>0.538491</td>\n",
       "      <td>0.866096</td>\n",
       "      <td>0.408451</td>\n",
       "      <td>0.963309</td>\n",
       "      <td>0.487476</td>\n",
       "      <td>0.935537</td>\n",
       "      <td>0.170104</td>\n",
       "      <td>0.835719</td>\n",
       "      <td>-0.145315</td>\n",
       "      <td>-0.092225</td>\n",
       "      <td>0.895010</td>\n",
       "    </tr>\n",
       "    <tr>\n",
       "      <th>BRANCH_MISSED</th>\n",
       "      <td>0.686799</td>\n",
       "      <td>0.538491</td>\n",
       "      <td>1.000000</td>\n",
       "      <td>0.596507</td>\n",
       "      <td>0.651218</td>\n",
       "      <td>0.526557</td>\n",
       "      <td>0.779234</td>\n",
       "      <td>0.475813</td>\n",
       "      <td>0.310228</td>\n",
       "      <td>0.396026</td>\n",
       "      <td>-0.479254</td>\n",
       "      <td>-0.878348</td>\n",
       "      <td>0.631514</td>\n",
       "    </tr>\n",
       "    <tr>\n",
       "      <th>BRANCH_COVERED</th>\n",
       "      <td>0.418906</td>\n",
       "      <td>0.866096</td>\n",
       "      <td>0.596507</td>\n",
       "      <td>1.000000</td>\n",
       "      <td>0.401700</td>\n",
       "      <td>0.848887</td>\n",
       "      <td>0.496766</td>\n",
       "      <td>0.825108</td>\n",
       "      <td>0.140003</td>\n",
       "      <td>0.626865</td>\n",
       "      <td>-0.170746</td>\n",
       "      <td>-0.084751</td>\n",
       "      <td>0.807505</td>\n",
       "    </tr>\n",
       "    <tr>\n",
       "      <th>LINE_MISSED</th>\n",
       "      <td>0.966141</td>\n",
       "      <td>0.408451</td>\n",
       "      <td>0.651218</td>\n",
       "      <td>0.401700</td>\n",
       "      <td>1.000000</td>\n",
       "      <td>0.434200</td>\n",
       "      <td>0.934776</td>\n",
       "      <td>0.403034</td>\n",
       "      <td>0.827947</td>\n",
       "      <td>0.382503</td>\n",
       "      <td>-0.916532</td>\n",
       "      <td>-0.594932</td>\n",
       "      <td>0.619989</td>\n",
       "    </tr>\n",
       "    <tr>\n",
       "      <th>LINE_COVERED</th>\n",
       "      <td>0.435423</td>\n",
       "      <td>0.963309</td>\n",
       "      <td>0.526557</td>\n",
       "      <td>0.848887</td>\n",
       "      <td>0.434200</td>\n",
       "      <td>1.000000</td>\n",
       "      <td>0.489216</td>\n",
       "      <td>0.942046</td>\n",
       "      <td>0.186138</td>\n",
       "      <td>0.856919</td>\n",
       "      <td>-0.173434</td>\n",
       "      <td>-0.082281</td>\n",
       "      <td>0.902760</td>\n",
       "    </tr>\n",
       "    <tr>\n",
       "      <th>COMPLEXITY_MISSED</th>\n",
       "      <td>0.943979</td>\n",
       "      <td>0.487476</td>\n",
       "      <td>0.779234</td>\n",
       "      <td>0.496766</td>\n",
       "      <td>0.934776</td>\n",
       "      <td>0.489216</td>\n",
       "      <td>1.000000</td>\n",
       "      <td>0.471046</td>\n",
       "      <td>0.762583</td>\n",
       "      <td>0.430261</td>\n",
       "      <td>-0.834859</td>\n",
       "      <td>-0.710768</td>\n",
       "      <td>0.691849</td>\n",
       "    </tr>\n",
       "    <tr>\n",
       "      <th>COMPLEXITY_COVERED</th>\n",
       "      <td>0.404518</td>\n",
       "      <td>0.935537</td>\n",
       "      <td>0.475813</td>\n",
       "      <td>0.825108</td>\n",
       "      <td>0.403034</td>\n",
       "      <td>0.942046</td>\n",
       "      <td>0.471046</td>\n",
       "      <td>1.000000</td>\n",
       "      <td>0.202388</td>\n",
       "      <td>0.940013</td>\n",
       "      <td>-0.153781</td>\n",
       "      <td>-0.015048</td>\n",
       "      <td>0.943574</td>\n",
       "    </tr>\n",
       "    <tr>\n",
       "      <th>METHOD_MISSED</th>\n",
       "      <td>0.799839</td>\n",
       "      <td>0.170104</td>\n",
       "      <td>0.310228</td>\n",
       "      <td>0.140003</td>\n",
       "      <td>0.827947</td>\n",
       "      <td>0.186138</td>\n",
       "      <td>0.762583</td>\n",
       "      <td>0.202388</td>\n",
       "      <td>1.000000</td>\n",
       "      <td>0.224476</td>\n",
       "      <td>-0.846062</td>\n",
       "      <td>-0.302784</td>\n",
       "      <td>0.409348</td>\n",
       "    </tr>\n",
       "    <tr>\n",
       "      <th>METHOD_COVERED</th>\n",
       "      <td>0.377768</td>\n",
       "      <td>0.835719</td>\n",
       "      <td>0.396026</td>\n",
       "      <td>0.626865</td>\n",
       "      <td>0.382503</td>\n",
       "      <td>0.856919</td>\n",
       "      <td>0.430261</td>\n",
       "      <td>0.940013</td>\n",
       "      <td>0.224476</td>\n",
       "      <td>1.000000</td>\n",
       "      <td>-0.153211</td>\n",
       "      <td>-0.038310</td>\n",
       "      <td>0.883075</td>\n",
       "    </tr>\n",
       "    <tr>\n",
       "      <th>StatementCoverage</th>\n",
       "      <td>-0.878405</td>\n",
       "      <td>-0.145315</td>\n",
       "      <td>-0.479254</td>\n",
       "      <td>-0.170746</td>\n",
       "      <td>-0.916532</td>\n",
       "      <td>-0.173434</td>\n",
       "      <td>-0.834859</td>\n",
       "      <td>-0.153781</td>\n",
       "      <td>-0.846062</td>\n",
       "      <td>-0.153211</td>\n",
       "      <td>1.000000</td>\n",
       "      <td>0.591795</td>\n",
       "      <td>-0.397094</td>\n",
       "    </tr>\n",
       "    <tr>\n",
       "      <th>BranchCoverage</th>\n",
       "      <td>-0.635941</td>\n",
       "      <td>-0.092225</td>\n",
       "      <td>-0.878348</td>\n",
       "      <td>-0.084751</td>\n",
       "      <td>-0.594932</td>\n",
       "      <td>-0.082281</td>\n",
       "      <td>-0.710768</td>\n",
       "      <td>-0.015048</td>\n",
       "      <td>-0.302784</td>\n",
       "      <td>-0.038310</td>\n",
       "      <td>0.591795</td>\n",
       "      <td>1.000000</td>\n",
       "      <td>-0.261341</td>\n",
       "    </tr>\n",
       "    <tr>\n",
       "      <th>CodeComplexity</th>\n",
       "      <td>0.623664</td>\n",
       "      <td>0.895010</td>\n",
       "      <td>0.631514</td>\n",
       "      <td>0.807505</td>\n",
       "      <td>0.619989</td>\n",
       "      <td>0.902760</td>\n",
       "      <td>0.691849</td>\n",
       "      <td>0.943574</td>\n",
       "      <td>0.409348</td>\n",
       "      <td>0.883075</td>\n",
       "      <td>-0.397094</td>\n",
       "      <td>-0.261341</td>\n",
       "      <td>1.000000</td>\n",
       "    </tr>\n",
       "  </tbody>\n",
       "</table>\n",
       "</div>"
      ],
      "text/plain": [
       "                     INSTRUCTION_MISSED  INSTRUCTION_COVERED  BRANCH_MISSED  \\\n",
       "INSTRUCTION_MISSED             1.000000             0.434600       0.686799   \n",
       "INSTRUCTION_COVERED            0.434600             1.000000       0.538491   \n",
       "BRANCH_MISSED                  0.686799             0.538491       1.000000   \n",
       "BRANCH_COVERED                 0.418906             0.866096       0.596507   \n",
       "LINE_MISSED                    0.966141             0.408451       0.651218   \n",
       "LINE_COVERED                   0.435423             0.963309       0.526557   \n",
       "COMPLEXITY_MISSED              0.943979             0.487476       0.779234   \n",
       "COMPLEXITY_COVERED             0.404518             0.935537       0.475813   \n",
       "METHOD_MISSED                  0.799839             0.170104       0.310228   \n",
       "METHOD_COVERED                 0.377768             0.835719       0.396026   \n",
       "StatementCoverage             -0.878405            -0.145315      -0.479254   \n",
       "BranchCoverage                -0.635941            -0.092225      -0.878348   \n",
       "CodeComplexity                 0.623664             0.895010       0.631514   \n",
       "\n",
       "                     BRANCH_COVERED  LINE_MISSED  LINE_COVERED  \\\n",
       "INSTRUCTION_MISSED         0.418906     0.966141      0.435423   \n",
       "INSTRUCTION_COVERED        0.866096     0.408451      0.963309   \n",
       "BRANCH_MISSED              0.596507     0.651218      0.526557   \n",
       "BRANCH_COVERED             1.000000     0.401700      0.848887   \n",
       "LINE_MISSED                0.401700     1.000000      0.434200   \n",
       "LINE_COVERED               0.848887     0.434200      1.000000   \n",
       "COMPLEXITY_MISSED          0.496766     0.934776      0.489216   \n",
       "COMPLEXITY_COVERED         0.825108     0.403034      0.942046   \n",
       "METHOD_MISSED              0.140003     0.827947      0.186138   \n",
       "METHOD_COVERED             0.626865     0.382503      0.856919   \n",
       "StatementCoverage         -0.170746    -0.916532     -0.173434   \n",
       "BranchCoverage            -0.084751    -0.594932     -0.082281   \n",
       "CodeComplexity             0.807505     0.619989      0.902760   \n",
       "\n",
       "                     COMPLEXITY_MISSED  COMPLEXITY_COVERED  METHOD_MISSED  \\\n",
       "INSTRUCTION_MISSED            0.943979            0.404518       0.799839   \n",
       "INSTRUCTION_COVERED           0.487476            0.935537       0.170104   \n",
       "BRANCH_MISSED                 0.779234            0.475813       0.310228   \n",
       "BRANCH_COVERED                0.496766            0.825108       0.140003   \n",
       "LINE_MISSED                   0.934776            0.403034       0.827947   \n",
       "LINE_COVERED                  0.489216            0.942046       0.186138   \n",
       "COMPLEXITY_MISSED             1.000000            0.471046       0.762583   \n",
       "COMPLEXITY_COVERED            0.471046            1.000000       0.202388   \n",
       "METHOD_MISSED                 0.762583            0.202388       1.000000   \n",
       "METHOD_COVERED                0.430261            0.940013       0.224476   \n",
       "StatementCoverage            -0.834859           -0.153781      -0.846062   \n",
       "BranchCoverage               -0.710768           -0.015048      -0.302784   \n",
       "CodeComplexity                0.691849            0.943574       0.409348   \n",
       "\n",
       "                     METHOD_COVERED  StatementCoverage  BranchCoverage  \\\n",
       "INSTRUCTION_MISSED         0.377768          -0.878405       -0.635941   \n",
       "INSTRUCTION_COVERED        0.835719          -0.145315       -0.092225   \n",
       "BRANCH_MISSED              0.396026          -0.479254       -0.878348   \n",
       "BRANCH_COVERED             0.626865          -0.170746       -0.084751   \n",
       "LINE_MISSED                0.382503          -0.916532       -0.594932   \n",
       "LINE_COVERED               0.856919          -0.173434       -0.082281   \n",
       "COMPLEXITY_MISSED          0.430261          -0.834859       -0.710768   \n",
       "COMPLEXITY_COVERED         0.940013          -0.153781       -0.015048   \n",
       "METHOD_MISSED              0.224476          -0.846062       -0.302784   \n",
       "METHOD_COVERED             1.000000          -0.153211       -0.038310   \n",
       "StatementCoverage         -0.153211           1.000000        0.591795   \n",
       "BranchCoverage            -0.038310           0.591795        1.000000   \n",
       "CodeComplexity             0.883075          -0.397094       -0.261341   \n",
       "\n",
       "                     CodeComplexity  \n",
       "INSTRUCTION_MISSED         0.623664  \n",
       "INSTRUCTION_COVERED        0.895010  \n",
       "BRANCH_MISSED              0.631514  \n",
       "BRANCH_COVERED             0.807505  \n",
       "LINE_MISSED                0.619989  \n",
       "LINE_COVERED               0.902760  \n",
       "COMPLEXITY_MISSED          0.691849  \n",
       "COMPLEXITY_COVERED         0.943574  \n",
       "METHOD_MISSED              0.409348  \n",
       "METHOD_COVERED             0.883075  \n",
       "StatementCoverage         -0.397094  \n",
       "BranchCoverage            -0.261341  \n",
       "CodeComplexity             1.000000  "
      ]
     },
     "execution_count": 20,
     "metadata": {},
     "output_type": "execute_result"
    }
   ],
   "source": [
    "df_collection.corr(method ='spearman')"
   ]
  },
  {
   "cell_type": "code",
   "execution_count": 21,
   "metadata": {},
   "outputs": [
    {
     "data": {
      "text/html": [
       "<div>\n",
       "<style scoped>\n",
       "    .dataframe tbody tr th:only-of-type {\n",
       "        vertical-align: middle;\n",
       "    }\n",
       "\n",
       "    .dataframe tbody tr th {\n",
       "        vertical-align: top;\n",
       "    }\n",
       "\n",
       "    .dataframe thead th {\n",
       "        text-align: right;\n",
       "    }\n",
       "</style>\n",
       "<table border=\"1\" class=\"dataframe\">\n",
       "  <thead>\n",
       "    <tr style=\"text-align: right;\">\n",
       "      <th></th>\n",
       "      <th>CodeComplexity</th>\n",
       "      <th>StatementCoverage</th>\n",
       "    </tr>\n",
       "  </thead>\n",
       "  <tbody>\n",
       "    <tr>\n",
       "      <th>CodeComplexity</th>\n",
       "      <td>1.000000</td>\n",
       "      <td>-0.397094</td>\n",
       "    </tr>\n",
       "    <tr>\n",
       "      <th>StatementCoverage</th>\n",
       "      <td>-0.397094</td>\n",
       "      <td>1.000000</td>\n",
       "    </tr>\n",
       "  </tbody>\n",
       "</table>\n",
       "</div>"
      ],
      "text/plain": [
       "                   CodeComplexity  StatementCoverage\n",
       "CodeComplexity           1.000000          -0.397094\n",
       "StatementCoverage       -0.397094           1.000000"
      ]
     },
     "execution_count": 21,
     "metadata": {},
     "output_type": "execute_result"
    }
   ],
   "source": [
    "df_collection[['CodeComplexity','StatementCoverage']].corr(method ='spearman')"
   ]
  },
  {
   "cell_type": "code",
   "execution_count": 22,
   "metadata": {},
   "outputs": [
    {
     "data": {
      "text/plain": [
       "SpearmanrResult(correlation=-0.19711645889921553, pvalue=0.0003977057166772393)"
      ]
     },
     "execution_count": 22,
     "metadata": {},
     "output_type": "execute_result"
    }
   ],
   "source": [
    "df_clean = df_collection.dropna()\n",
    "stats.spearmanr(df_clean['StatementCoverage'], df_clean['CodeComplexity'])"
   ]
  },
  {
   "cell_type": "code",
   "execution_count": 23,
   "metadata": {},
   "outputs": [
    {
     "data": {
      "text/html": [
       "<div>\n",
       "<style scoped>\n",
       "    .dataframe tbody tr th:only-of-type {\n",
       "        vertical-align: middle;\n",
       "    }\n",
       "\n",
       "    .dataframe tbody tr th {\n",
       "        vertical-align: top;\n",
       "    }\n",
       "\n",
       "    .dataframe thead th {\n",
       "        text-align: right;\n",
       "    }\n",
       "</style>\n",
       "<table border=\"1\" class=\"dataframe\">\n",
       "  <thead>\n",
       "    <tr style=\"text-align: right;\">\n",
       "      <th></th>\n",
       "      <th>CodeComplexity</th>\n",
       "      <th>BranchCoverage</th>\n",
       "    </tr>\n",
       "  </thead>\n",
       "  <tbody>\n",
       "    <tr>\n",
       "      <th>CodeComplexity</th>\n",
       "      <td>1.000000</td>\n",
       "      <td>-0.261341</td>\n",
       "    </tr>\n",
       "    <tr>\n",
       "      <th>BranchCoverage</th>\n",
       "      <td>-0.261341</td>\n",
       "      <td>1.000000</td>\n",
       "    </tr>\n",
       "  </tbody>\n",
       "</table>\n",
       "</div>"
      ],
      "text/plain": [
       "                CodeComplexity  BranchCoverage\n",
       "CodeComplexity        1.000000       -0.261341\n",
       "BranchCoverage       -0.261341        1.000000"
      ]
     },
     "execution_count": 23,
     "metadata": {},
     "output_type": "execute_result"
    }
   ],
   "source": [
    "df_collection[['CodeComplexity','BranchCoverage']].corr(method ='spearman')"
   ]
  },
  {
   "cell_type": "code",
   "execution_count": 24,
   "metadata": {},
   "outputs": [
    {
     "data": {
      "text/plain": [
       "SpearmanrResult(correlation=-0.2613413425675917, pvalue=2.2245993609940534e-06)"
      ]
     },
     "execution_count": 24,
     "metadata": {},
     "output_type": "execute_result"
    }
   ],
   "source": [
    "df_clean = df_collection.dropna()\n",
    "stats.spearmanr(df_clean['BranchCoverage'], df_clean['CodeComplexity'])"
   ]
  },
  {
   "cell_type": "code",
   "execution_count": 25,
   "metadata": {},
   "outputs": [
    {
     "name": "stdout",
     "output_type": "stream",
     "text": [
      "Statment Coverage 87.43136058572301\n"
     ]
    }
   ],
   "source": [
    "print('Statment Coverage '+str((df_collection.LINE_COVERED.sum()/(df_collection.LINE_MISSED.sum() + df_collection.LINE_COVERED.sum()))*100))"
   ]
  },
  {
   "cell_type": "code",
   "execution_count": 26,
   "metadata": {},
   "outputs": [
    {
     "name": "stdout",
     "output_type": "stream",
     "text": [
      "Branch Coverage 81.19588302564941\n"
     ]
    }
   ],
   "source": [
    "print('Branch Coverage '+str((df_collection.BRANCH_COVERED.sum()/(df_collection.BRANCH_MISSED.sum() + df_collection.BRANCH_COVERED.sum()))*100))"
   ]
  },
  {
   "cell_type": "code",
   "execution_count": null,
   "metadata": {},
   "outputs": [],
   "source": []
  }
 ],
 "metadata": {
  "kernelspec": {
   "display_name": "Python 3",
   "language": "python",
   "name": "python3"
  },
  "language_info": {
   "codemirror_mode": {
    "name": "ipython",
    "version": 3
   },
   "file_extension": ".py",
   "mimetype": "text/x-python",
   "name": "python",
   "nbconvert_exporter": "python",
   "pygments_lexer": "ipython3",
   "version": "3.6.7"
  }
 },
 "nbformat": 4,
 "nbformat_minor": 2
}
