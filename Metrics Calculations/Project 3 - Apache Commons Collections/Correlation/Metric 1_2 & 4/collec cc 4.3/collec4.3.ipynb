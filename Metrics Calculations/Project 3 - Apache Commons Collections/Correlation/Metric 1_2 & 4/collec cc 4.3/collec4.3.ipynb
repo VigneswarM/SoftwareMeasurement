{
 "cells": [
  {
   "cell_type": "code",
   "execution_count": 1,
   "metadata": {},
   "outputs": [],
   "source": [
    "import pandas as pd\n",
    "import scipy.stats  as stats"
   ]
  },
  {
   "cell_type": "code",
   "execution_count": 2,
   "metadata": {},
   "outputs": [],
   "source": [
    "df_collection = pd.read_csv('collec43.csv', error_bad_lines=False)"
   ]
  },
  {
   "cell_type": "code",
   "execution_count": 3,
   "metadata": {},
   "outputs": [],
   "source": [
    "import matplotlib.pyplot as plt"
   ]
  },
  {
   "cell_type": "code",
   "execution_count": 4,
   "metadata": {},
   "outputs": [],
   "source": [
    "df_collection['StatementCoverage'] =  (df_collection['LINE_COVERED'] / (df_collection['LINE_COVERED'] + df_collection['LINE_MISSED'])) * 100"
   ]
  },
  {
   "cell_type": "code",
   "execution_count": 5,
   "metadata": {},
   "outputs": [],
   "source": [
    "df_collection['BranchCoverage'] =  (df_collection['BRANCH_COVERED'] / (df_collection['BRANCH_COVERED'] + df_collection['BRANCH_MISSED'])) * 100"
   ]
  },
  {
   "cell_type": "code",
   "execution_count": 6,
   "metadata": {},
   "outputs": [],
   "source": [
    "df_collection['CodeComplexity'] =  df_collection['COMPLEXITY_COVERED'] + df_collection['COMPLEXITY_MISSED'];"
   ]
  },
  {
   "cell_type": "code",
   "execution_count": 7,
   "metadata": {},
   "outputs": [
    {
     "data": {
      "text/html": [
       "<div>\n",
       "<style scoped>\n",
       "    .dataframe tbody tr th:only-of-type {\n",
       "        vertical-align: middle;\n",
       "    }\n",
       "\n",
       "    .dataframe tbody tr th {\n",
       "        vertical-align: top;\n",
       "    }\n",
       "\n",
       "    .dataframe thead th {\n",
       "        text-align: right;\n",
       "    }\n",
       "</style>\n",
       "<table border=\"1\" class=\"dataframe\">\n",
       "  <thead>\n",
       "    <tr style=\"text-align: right;\">\n",
       "      <th></th>\n",
       "      <th>GROUP</th>\n",
       "      <th>PACKAGE</th>\n",
       "      <th>CLASS</th>\n",
       "      <th>INSTRUCTION_MISSED</th>\n",
       "      <th>INSTRUCTION_COVERED</th>\n",
       "      <th>BRANCH_MISSED</th>\n",
       "      <th>BRANCH_COVERED</th>\n",
       "      <th>LINE_MISSED</th>\n",
       "      <th>LINE_COVERED</th>\n",
       "      <th>COMPLEXITY_MISSED</th>\n",
       "      <th>COMPLEXITY_COVERED</th>\n",
       "      <th>METHOD_MISSED</th>\n",
       "      <th>METHOD_COVERED</th>\n",
       "      <th>StatementCoverage</th>\n",
       "      <th>BranchCoverage</th>\n",
       "      <th>CodeComplexity</th>\n",
       "    </tr>\n",
       "  </thead>\n",
       "  <tbody>\n",
       "    <tr>\n",
       "      <th>0</th>\n",
       "      <td>Apache Commons Collections</td>\n",
       "      <td>org.apache.commons.collections4.keyvalue</td>\n",
       "      <td>TiedMapEntry</td>\n",
       "      <td>3</td>\n",
       "      <td>106</td>\n",
       "      <td>5</td>\n",
       "      <td>17</td>\n",
       "      <td>1</td>\n",
       "      <td>21</td>\n",
       "      <td>5</td>\n",
       "      <td>13</td>\n",
       "      <td>0</td>\n",
       "      <td>7</td>\n",
       "      <td>95.454545</td>\n",
       "      <td>77.272727</td>\n",
       "      <td>18</td>\n",
       "    </tr>\n",
       "    <tr>\n",
       "      <th>1</th>\n",
       "      <td>Apache Commons Collections</td>\n",
       "      <td>org.apache.commons.collections4.keyvalue</td>\n",
       "      <td>AbstractMapEntry</td>\n",
       "      <td>0</td>\n",
       "      <td>70</td>\n",
       "      <td>1</td>\n",
       "      <td>19</td>\n",
       "      <td>0</td>\n",
       "      <td>13</td>\n",
       "      <td>1</td>\n",
       "      <td>13</td>\n",
       "      <td>0</td>\n",
       "      <td>4</td>\n",
       "      <td>100.000000</td>\n",
       "      <td>95.000000</td>\n",
       "      <td>14</td>\n",
       "    </tr>\n",
       "    <tr>\n",
       "      <th>2</th>\n",
       "      <td>Apache Commons Collections</td>\n",
       "      <td>org.apache.commons.collections4.keyvalue</td>\n",
       "      <td>UnmodifiableMapEntry</td>\n",
       "      <td>0</td>\n",
       "      <td>24</td>\n",
       "      <td>0</td>\n",
       "      <td>0</td>\n",
       "      <td>0</td>\n",
       "      <td>7</td>\n",
       "      <td>0</td>\n",
       "      <td>4</td>\n",
       "      <td>0</td>\n",
       "      <td>4</td>\n",
       "      <td>100.000000</td>\n",
       "      <td>NaN</td>\n",
       "      <td>4</td>\n",
       "    </tr>\n",
       "    <tr>\n",
       "      <th>3</th>\n",
       "      <td>Apache Commons Collections</td>\n",
       "      <td>org.apache.commons.collections4.keyvalue</td>\n",
       "      <td>AbstractKeyValue</td>\n",
       "      <td>0</td>\n",
       "      <td>44</td>\n",
       "      <td>0</td>\n",
       "      <td>0</td>\n",
       "      <td>0</td>\n",
       "      <td>17</td>\n",
       "      <td>0</td>\n",
       "      <td>6</td>\n",
       "      <td>0</td>\n",
       "      <td>6</td>\n",
       "      <td>100.000000</td>\n",
       "      <td>NaN</td>\n",
       "      <td>6</td>\n",
       "    </tr>\n",
       "    <tr>\n",
       "      <th>4</th>\n",
       "      <td>Apache Commons Collections</td>\n",
       "      <td>org.apache.commons.collections4.keyvalue</td>\n",
       "      <td>MultiKey</td>\n",
       "      <td>0</td>\n",
       "      <td>195</td>\n",
       "      <td>0</td>\n",
       "      <td>12</td>\n",
       "      <td>0</td>\n",
       "      <td>37</td>\n",
       "      <td>0</td>\n",
       "      <td>20</td>\n",
       "      <td>0</td>\n",
       "      <td>14</td>\n",
       "      <td>100.000000</td>\n",
       "      <td>100.000000</td>\n",
       "      <td>20</td>\n",
       "    </tr>\n",
       "  </tbody>\n",
       "</table>\n",
       "</div>"
      ],
      "text/plain": [
       "                        GROUP                                   PACKAGE  \\\n",
       "0  Apache Commons Collections  org.apache.commons.collections4.keyvalue   \n",
       "1  Apache Commons Collections  org.apache.commons.collections4.keyvalue   \n",
       "2  Apache Commons Collections  org.apache.commons.collections4.keyvalue   \n",
       "3  Apache Commons Collections  org.apache.commons.collections4.keyvalue   \n",
       "4  Apache Commons Collections  org.apache.commons.collections4.keyvalue   \n",
       "\n",
       "                  CLASS  INSTRUCTION_MISSED  INSTRUCTION_COVERED  \\\n",
       "0          TiedMapEntry                   3                  106   \n",
       "1      AbstractMapEntry                   0                   70   \n",
       "2  UnmodifiableMapEntry                   0                   24   \n",
       "3      AbstractKeyValue                   0                   44   \n",
       "4              MultiKey                   0                  195   \n",
       "\n",
       "   BRANCH_MISSED  BRANCH_COVERED  LINE_MISSED  LINE_COVERED  \\\n",
       "0              5              17            1            21   \n",
       "1              1              19            0            13   \n",
       "2              0               0            0             7   \n",
       "3              0               0            0            17   \n",
       "4              0              12            0            37   \n",
       "\n",
       "   COMPLEXITY_MISSED  COMPLEXITY_COVERED  METHOD_MISSED  METHOD_COVERED  \\\n",
       "0                  5                  13              0               7   \n",
       "1                  1                  13              0               4   \n",
       "2                  0                   4              0               4   \n",
       "3                  0                   6              0               6   \n",
       "4                  0                  20              0              14   \n",
       "\n",
       "   StatementCoverage  BranchCoverage  CodeComplexity  \n",
       "0          95.454545       77.272727              18  \n",
       "1         100.000000       95.000000              14  \n",
       "2         100.000000             NaN               4  \n",
       "3         100.000000             NaN               6  \n",
       "4         100.000000      100.000000              20  "
      ]
     },
     "execution_count": 7,
     "metadata": {},
     "output_type": "execute_result"
    }
   ],
   "source": [
    "df_collection.head()"
   ]
  },
  {
   "cell_type": "code",
   "execution_count": 8,
   "metadata": {},
   "outputs": [
    {
     "data": {
      "text/plain": [
       "<matplotlib.axes._subplots.AxesSubplot at 0x7f6a6396f588>"
      ]
     },
     "execution_count": 8,
     "metadata": {},
     "output_type": "execute_result"
    },
    {
     "data": {
      "image/png": "[encoded data removed]",
      "text/plain": [
       "<Figure size 432x288 with 1 Axes>"
      ]
     },
     "metadata": {
      "needs_background": "light"
     },
     "output_type": "display_data"
    }
   ],
   "source": [
    "df_collection.plot(x='CodeComplexity', y='StatementCoverage', style='o')"
   ]
  },
  {
   "cell_type": "code",
   "execution_count": 9,
   "metadata": {},
   "outputs": [
    {
     "data": {
      "text/plain": [
       "<matplotlib.axes._subplots.AxesSubplot at 0x7f6a6203eeb8>"
      ]
     },
     "execution_count": 9,
     "metadata": {},
     "output_type": "execute_result"
    },
    {
     "data": {
      "image/png": "[encoded data removed]",
      "text/plain": [
       "<Figure size 432x288 with 1 Axes>"
      ]
     },
     "metadata": {
      "needs_background": "light"
     },
     "output_type": "display_data"
    }
   ],
   "source": [
    "df_collection.plot(x='CodeComplexity', y='BranchCoverage', style='o')"
   ]
  },
  {
   "cell_type": "code",
   "execution_count": 10,
   "metadata": {},
   "outputs": [
    {
     "data": {
      "image/png": "[encoded data removed]",
      "text/plain": [
       "<Figure size 432x288 with 1 Axes>"
      ]
     },
     "metadata": {
      "needs_background": "light"
     },
     "output_type": "display_data"
    }
   ],
   "source": [
    "plt.scatter(df_collection['CodeComplexity'], df_collection['StatementCoverage'])\n",
    "plt.show()"
   ]
  },
  {
   "cell_type": "code",
   "execution_count": 11,
   "metadata": {},
   "outputs": [
    {
     "data": {
      "text/html": [
       "<div>\n",
       "<style scoped>\n",
       "    .dataframe tbody tr th:only-of-type {\n",
       "        vertical-align: middle;\n",
       "    }\n",
       "\n",
       "    .dataframe tbody tr th {\n",
       "        vertical-align: top;\n",
       "    }\n",
       "\n",
       "    .dataframe thead th {\n",
       "        text-align: right;\n",
       "    }\n",
       "</style>\n",
       "<table border=\"1\" class=\"dataframe\">\n",
       "  <thead>\n",
       "    <tr style=\"text-align: right;\">\n",
       "      <th></th>\n",
       "      <th>INSTRUCTION_MISSED</th>\n",
       "      <th>INSTRUCTION_COVERED</th>\n",
       "      <th>BRANCH_MISSED</th>\n",
       "      <th>BRANCH_COVERED</th>\n",
       "      <th>LINE_MISSED</th>\n",
       "      <th>LINE_COVERED</th>\n",
       "      <th>COMPLEXITY_MISSED</th>\n",
       "      <th>COMPLEXITY_COVERED</th>\n",
       "      <th>METHOD_MISSED</th>\n",
       "      <th>METHOD_COVERED</th>\n",
       "      <th>StatementCoverage</th>\n",
       "      <th>BranchCoverage</th>\n",
       "      <th>CodeComplexity</th>\n",
       "    </tr>\n",
       "  </thead>\n",
       "  <tbody>\n",
       "    <tr>\n",
       "      <th>INSTRUCTION_MISSED</th>\n",
       "      <td>1.000000</td>\n",
       "      <td>0.435459</td>\n",
       "      <td>0.687249</td>\n",
       "      <td>0.420249</td>\n",
       "      <td>0.965477</td>\n",
       "      <td>0.436486</td>\n",
       "      <td>0.942604</td>\n",
       "      <td>0.405579</td>\n",
       "      <td>0.800229</td>\n",
       "      <td>0.379079</td>\n",
       "      <td>-0.877035</td>\n",
       "      <td>-0.634592</td>\n",
       "      <td>0.624067</td>\n",
       "    </tr>\n",
       "    <tr>\n",
       "      <th>INSTRUCTION_COVERED</th>\n",
       "      <td>0.435459</td>\n",
       "      <td>1.000000</td>\n",
       "      <td>0.539706</td>\n",
       "      <td>0.867308</td>\n",
       "      <td>0.405289</td>\n",
       "      <td>0.963420</td>\n",
       "      <td>0.487346</td>\n",
       "      <td>0.935262</td>\n",
       "      <td>0.168948</td>\n",
       "      <td>0.835704</td>\n",
       "      <td>-0.144257</td>\n",
       "      <td>-0.091514</td>\n",
       "      <td>0.894817</td>\n",
       "    </tr>\n",
       "    <tr>\n",
       "      <th>BRANCH_MISSED</th>\n",
       "      <td>0.687249</td>\n",
       "      <td>0.539706</td>\n",
       "      <td>1.000000</td>\n",
       "      <td>0.596562</td>\n",
       "      <td>0.648502</td>\n",
       "      <td>0.526451</td>\n",
       "      <td>0.779836</td>\n",
       "      <td>0.475803</td>\n",
       "      <td>0.311374</td>\n",
       "      <td>0.396921</td>\n",
       "      <td>-0.478705</td>\n",
       "      <td>-0.877365</td>\n",
       "      <td>0.631520</td>\n",
       "    </tr>\n",
       "    <tr>\n",
       "      <th>BRANCH_COVERED</th>\n",
       "      <td>0.420249</td>\n",
       "      <td>0.867308</td>\n",
       "      <td>0.596562</td>\n",
       "      <td>1.000000</td>\n",
       "      <td>0.398957</td>\n",
       "      <td>0.848777</td>\n",
       "      <td>0.496975</td>\n",
       "      <td>0.825025</td>\n",
       "      <td>0.139940</td>\n",
       "      <td>0.627901</td>\n",
       "      <td>-0.170016</td>\n",
       "      <td>-0.083265</td>\n",
       "      <td>0.807569</td>\n",
       "    </tr>\n",
       "    <tr>\n",
       "      <th>LINE_MISSED</th>\n",
       "      <td>0.965477</td>\n",
       "      <td>0.405289</td>\n",
       "      <td>0.648502</td>\n",
       "      <td>0.398957</td>\n",
       "      <td>1.000000</td>\n",
       "      <td>0.431740</td>\n",
       "      <td>0.933245</td>\n",
       "      <td>0.400651</td>\n",
       "      <td>0.830163</td>\n",
       "      <td>0.380386</td>\n",
       "      <td>-0.917740</td>\n",
       "      <td>-0.593203</td>\n",
       "      <td>0.617680</td>\n",
       "    </tr>\n",
       "    <tr>\n",
       "      <th>LINE_COVERED</th>\n",
       "      <td>0.436486</td>\n",
       "      <td>0.963420</td>\n",
       "      <td>0.526451</td>\n",
       "      <td>0.848777</td>\n",
       "      <td>0.431740</td>\n",
       "      <td>1.000000</td>\n",
       "      <td>0.489707</td>\n",
       "      <td>0.942184</td>\n",
       "      <td>0.186740</td>\n",
       "      <td>0.857592</td>\n",
       "      <td>-0.173057</td>\n",
       "      <td>-0.080819</td>\n",
       "      <td>0.903126</td>\n",
       "    </tr>\n",
       "    <tr>\n",
       "      <th>COMPLEXITY_MISSED</th>\n",
       "      <td>0.942604</td>\n",
       "      <td>0.487346</td>\n",
       "      <td>0.779836</td>\n",
       "      <td>0.496975</td>\n",
       "      <td>0.933245</td>\n",
       "      <td>0.489707</td>\n",
       "      <td>1.000000</td>\n",
       "      <td>0.471521</td>\n",
       "      <td>0.763408</td>\n",
       "      <td>0.431419</td>\n",
       "      <td>-0.833892</td>\n",
       "      <td>-0.710447</td>\n",
       "      <td>0.692098</td>\n",
       "    </tr>\n",
       "    <tr>\n",
       "      <th>COMPLEXITY_COVERED</th>\n",
       "      <td>0.405579</td>\n",
       "      <td>0.935262</td>\n",
       "      <td>0.475803</td>\n",
       "      <td>0.825025</td>\n",
       "      <td>0.400651</td>\n",
       "      <td>0.942184</td>\n",
       "      <td>0.471521</td>\n",
       "      <td>1.000000</td>\n",
       "      <td>0.202283</td>\n",
       "      <td>0.940473</td>\n",
       "      <td>-0.153316</td>\n",
       "      <td>-0.013978</td>\n",
       "      <td>0.943686</td>\n",
       "    </tr>\n",
       "    <tr>\n",
       "      <th>METHOD_MISSED</th>\n",
       "      <td>0.800229</td>\n",
       "      <td>0.168948</td>\n",
       "      <td>0.311374</td>\n",
       "      <td>0.139940</td>\n",
       "      <td>0.830163</td>\n",
       "      <td>0.186740</td>\n",
       "      <td>0.763408</td>\n",
       "      <td>0.202283</td>\n",
       "      <td>1.000000</td>\n",
       "      <td>0.224710</td>\n",
       "      <td>-0.845889</td>\n",
       "      <td>-0.304674</td>\n",
       "      <td>0.409844</td>\n",
       "    </tr>\n",
       "    <tr>\n",
       "      <th>METHOD_COVERED</th>\n",
       "      <td>0.379079</td>\n",
       "      <td>0.835704</td>\n",
       "      <td>0.396921</td>\n",
       "      <td>0.627901</td>\n",
       "      <td>0.380386</td>\n",
       "      <td>0.857592</td>\n",
       "      <td>0.431419</td>\n",
       "      <td>0.940473</td>\n",
       "      <td>0.224710</td>\n",
       "      <td>1.000000</td>\n",
       "      <td>-0.152976</td>\n",
       "      <td>-0.037758</td>\n",
       "      <td>0.883752</td>\n",
       "    </tr>\n",
       "    <tr>\n",
       "      <th>StatementCoverage</th>\n",
       "      <td>-0.877035</td>\n",
       "      <td>-0.144257</td>\n",
       "      <td>-0.478705</td>\n",
       "      <td>-0.170016</td>\n",
       "      <td>-0.917740</td>\n",
       "      <td>-0.173057</td>\n",
       "      <td>-0.833892</td>\n",
       "      <td>-0.153316</td>\n",
       "      <td>-0.845889</td>\n",
       "      <td>-0.152976</td>\n",
       "      <td>1.000000</td>\n",
       "      <td>0.591403</td>\n",
       "      <td>-0.396436</td>\n",
       "    </tr>\n",
       "    <tr>\n",
       "      <th>BranchCoverage</th>\n",
       "      <td>-0.634592</td>\n",
       "      <td>-0.091514</td>\n",
       "      <td>-0.877365</td>\n",
       "      <td>-0.083265</td>\n",
       "      <td>-0.593203</td>\n",
       "      <td>-0.080819</td>\n",
       "      <td>-0.710447</td>\n",
       "      <td>-0.013978</td>\n",
       "      <td>-0.304674</td>\n",
       "      <td>-0.037758</td>\n",
       "      <td>0.591403</td>\n",
       "      <td>1.000000</td>\n",
       "      <td>-0.260118</td>\n",
       "    </tr>\n",
       "    <tr>\n",
       "      <th>CodeComplexity</th>\n",
       "      <td>0.624067</td>\n",
       "      <td>0.894817</td>\n",
       "      <td>0.631520</td>\n",
       "      <td>0.807569</td>\n",
       "      <td>0.617680</td>\n",
       "      <td>0.903126</td>\n",
       "      <td>0.692098</td>\n",
       "      <td>0.943686</td>\n",
       "      <td>0.409844</td>\n",
       "      <td>0.883752</td>\n",
       "      <td>-0.396436</td>\n",
       "      <td>-0.260118</td>\n",
       "      <td>1.000000</td>\n",
       "    </tr>\n",
       "  </tbody>\n",
       "</table>\n",
       "</div>"
      ],
      "text/plain": [
       "                     INSTRUCTION_MISSED  INSTRUCTION_COVERED  BRANCH_MISSED  \\\n",
       "INSTRUCTION_MISSED             1.000000             0.435459       0.687249   \n",
       "INSTRUCTION_COVERED            0.435459             1.000000       0.539706   \n",
       "BRANCH_MISSED                  0.687249             0.539706       1.000000   \n",
       "BRANCH_COVERED                 0.420249             0.867308       0.596562   \n",
       "LINE_MISSED                    0.965477             0.405289       0.648502   \n",
       "LINE_COVERED                   0.436486             0.963420       0.526451   \n",
       "COMPLEXITY_MISSED              0.942604             0.487346       0.779836   \n",
       "COMPLEXITY_COVERED             0.405579             0.935262       0.475803   \n",
       "METHOD_MISSED                  0.800229             0.168948       0.311374   \n",
       "METHOD_COVERED                 0.379079             0.835704       0.396921   \n",
       "StatementCoverage             -0.877035            -0.144257      -0.478705   \n",
       "BranchCoverage                -0.634592            -0.091514      -0.877365   \n",
       "CodeComplexity                 0.624067             0.894817       0.631520   \n",
       "\n",
       "                     BRANCH_COVERED  LINE_MISSED  LINE_COVERED  \\\n",
       "INSTRUCTION_MISSED         0.420249     0.965477      0.436486   \n",
       "INSTRUCTION_COVERED        0.867308     0.405289      0.963420   \n",
       "BRANCH_MISSED              0.596562     0.648502      0.526451   \n",
       "BRANCH_COVERED             1.000000     0.398957      0.848777   \n",
       "LINE_MISSED                0.398957     1.000000      0.431740   \n",
       "LINE_COVERED               0.848777     0.431740      1.000000   \n",
       "COMPLEXITY_MISSED          0.496975     0.933245      0.489707   \n",
       "COMPLEXITY_COVERED         0.825025     0.400651      0.942184   \n",
       "METHOD_MISSED              0.139940     0.830163      0.186740   \n",
       "METHOD_COVERED             0.627901     0.380386      0.857592   \n",
       "StatementCoverage         -0.170016    -0.917740     -0.173057   \n",
       "BranchCoverage            -0.083265    -0.593203     -0.080819   \n",
       "CodeComplexity             0.807569     0.617680      0.903126   \n",
       "\n",
       "                     COMPLEXITY_MISSED  COMPLEXITY_COVERED  METHOD_MISSED  \\\n",
       "INSTRUCTION_MISSED            0.942604            0.405579       0.800229   \n",
       "INSTRUCTION_COVERED           0.487346            0.935262       0.168948   \n",
       "BRANCH_MISSED                 0.779836            0.475803       0.311374   \n",
       "BRANCH_COVERED                0.496975            0.825025       0.139940   \n",
       "LINE_MISSED                   0.933245            0.400651       0.830163   \n",
       "LINE_COVERED                  0.489707            0.942184       0.186740   \n",
       "COMPLEXITY_MISSED             1.000000            0.471521       0.763408   \n",
       "COMPLEXITY_COVERED            0.471521            1.000000       0.202283   \n",
       "METHOD_MISSED                 0.763408            0.202283       1.000000   \n",
       "METHOD_COVERED                0.431419            0.940473       0.224710   \n",
       "StatementCoverage            -0.833892           -0.153316      -0.845889   \n",
       "BranchCoverage               -0.710447           -0.013978      -0.304674   \n",
       "CodeComplexity                0.692098            0.943686       0.409844   \n",
       "\n",
       "                     METHOD_COVERED  StatementCoverage  BranchCoverage  \\\n",
       "INSTRUCTION_MISSED         0.379079          -0.877035       -0.634592   \n",
       "INSTRUCTION_COVERED        0.835704          -0.144257       -0.091514   \n",
       "BRANCH_MISSED              0.396921          -0.478705       -0.877365   \n",
       "BRANCH_COVERED             0.627901          -0.170016       -0.083265   \n",
       "LINE_MISSED                0.380386          -0.917740       -0.593203   \n",
       "LINE_COVERED               0.857592          -0.173057       -0.080819   \n",
       "COMPLEXITY_MISSED          0.431419          -0.833892       -0.710447   \n",
       "COMPLEXITY_COVERED         0.940473          -0.153316       -0.013978   \n",
       "METHOD_MISSED              0.224710          -0.845889       -0.304674   \n",
       "METHOD_COVERED             1.000000          -0.152976       -0.037758   \n",
       "StatementCoverage         -0.152976           1.000000        0.591403   \n",
       "BranchCoverage            -0.037758           0.591403        1.000000   \n",
       "CodeComplexity             0.883752          -0.396436       -0.260118   \n",
       "\n",
       "                     CodeComplexity  \n",
       "INSTRUCTION_MISSED         0.624067  \n",
       "INSTRUCTION_COVERED        0.894817  \n",
       "BRANCH_MISSED              0.631520  \n",
       "BRANCH_COVERED             0.807569  \n",
       "LINE_MISSED                0.617680  \n",
       "LINE_COVERED               0.903126  \n",
       "COMPLEXITY_MISSED          0.692098  \n",
       "COMPLEXITY_COVERED         0.943686  \n",
       "METHOD_MISSED              0.409844  \n",
       "METHOD_COVERED             0.883752  \n",
       "StatementCoverage         -0.396436  \n",
       "BranchCoverage            -0.260118  \n",
       "CodeComplexity             1.000000  "
      ]
     },
     "execution_count": 11,
     "metadata": {},
     "output_type": "execute_result"
    }
   ],
   "source": [
    "df_collection.corr(method ='spearman')"
   ]
  },
  {
   "cell_type": "code",
   "execution_count": 12,
   "metadata": {},
   "outputs": [
    {
     "data": {
      "text/html": [
       "<div>\n",
       "<style scoped>\n",
       "    .dataframe tbody tr th:only-of-type {\n",
       "        vertical-align: middle;\n",
       "    }\n",
       "\n",
       "    .dataframe tbody tr th {\n",
       "        vertical-align: top;\n",
       "    }\n",
       "\n",
       "    .dataframe thead th {\n",
       "        text-align: right;\n",
       "    }\n",
       "</style>\n",
       "<table border=\"1\" class=\"dataframe\">\n",
       "  <thead>\n",
       "    <tr style=\"text-align: right;\">\n",
       "      <th></th>\n",
       "      <th>CodeComplexity</th>\n",
       "      <th>StatementCoverage</th>\n",
       "    </tr>\n",
       "  </thead>\n",
       "  <tbody>\n",
       "    <tr>\n",
       "      <th>CodeComplexity</th>\n",
       "      <td>1.000000</td>\n",
       "      <td>-0.396436</td>\n",
       "    </tr>\n",
       "    <tr>\n",
       "      <th>StatementCoverage</th>\n",
       "      <td>-0.396436</td>\n",
       "      <td>1.000000</td>\n",
       "    </tr>\n",
       "  </tbody>\n",
       "</table>\n",
       "</div>"
      ],
      "text/plain": [
       "                   CodeComplexity  StatementCoverage\n",
       "CodeComplexity           1.000000          -0.396436\n",
       "StatementCoverage       -0.396436           1.000000"
      ]
     },
     "execution_count": 12,
     "metadata": {},
     "output_type": "execute_result"
    }
   ],
   "source": [
    "df_collection[['CodeComplexity','StatementCoverage']].corr(method ='spearman')"
   ]
  },
  {
   "cell_type": "code",
   "execution_count": 13,
   "metadata": {},
   "outputs": [
    {
     "data": {
      "text/plain": [
       "SpearmanrResult(correlation=-0.1956922114185384, pvalue=0.00043892048358803)"
      ]
     },
     "execution_count": 13,
     "metadata": {},
     "output_type": "execute_result"
    }
   ],
   "source": [
    "df_clean = df_collection.dropna()\n",
    "stats.spearmanr(df_clean['StatementCoverage'], df_clean['CodeComplexity'])"
   ]
  },
  {
   "cell_type": "code",
   "execution_count": 14,
   "metadata": {},
   "outputs": [
    {
     "data": {
      "text/html": [
       "<div>\n",
       "<style scoped>\n",
       "    .dataframe tbody tr th:only-of-type {\n",
       "        vertical-align: middle;\n",
       "    }\n",
       "\n",
       "    .dataframe tbody tr th {\n",
       "        vertical-align: top;\n",
       "    }\n",
       "\n",
       "    .dataframe thead th {\n",
       "        text-align: right;\n",
       "    }\n",
       "</style>\n",
       "<table border=\"1\" class=\"dataframe\">\n",
       "  <thead>\n",
       "    <tr style=\"text-align: right;\">\n",
       "      <th></th>\n",
       "      <th>CodeComplexity</th>\n",
       "      <th>BranchCoverage</th>\n",
       "    </tr>\n",
       "  </thead>\n",
       "  <tbody>\n",
       "    <tr>\n",
       "      <th>CodeComplexity</th>\n",
       "      <td>1.000000</td>\n",
       "      <td>-0.260118</td>\n",
       "    </tr>\n",
       "    <tr>\n",
       "      <th>BranchCoverage</th>\n",
       "      <td>-0.260118</td>\n",
       "      <td>1.000000</td>\n",
       "    </tr>\n",
       "  </tbody>\n",
       "</table>\n",
       "</div>"
      ],
      "text/plain": [
       "                CodeComplexity  BranchCoverage\n",
       "CodeComplexity        1.000000       -0.260118\n",
       "BranchCoverage       -0.260118        1.000000"
      ]
     },
     "execution_count": 14,
     "metadata": {},
     "output_type": "execute_result"
    }
   ],
   "source": [
    "df_collection[['CodeComplexity','BranchCoverage']].corr(method ='spearman')"
   ]
  },
  {
   "cell_type": "code",
   "execution_count": 16,
   "metadata": {},
   "outputs": [
    {
     "data": {
      "text/plain": [
       "SpearmanrResult(correlation=-0.2601184957660294, pvalue=2.4901615376905953e-06)"
      ]
     },
     "execution_count": 16,
     "metadata": {},
     "output_type": "execute_result"
    }
   ],
   "source": [
    "df_clean = df_collection.dropna()\n",
    "stats.spearmanr(df_clean['BranchCoverage'], df_clean['CodeComplexity'])"
   ]
  },
  {
   "cell_type": "code",
   "execution_count": 17,
   "metadata": {},
   "outputs": [
    {
     "name": "stdout",
     "output_type": "stream",
     "text": [
      "Statment Coverage 87.48857055775679\n"
     ]
    }
   ],
   "source": [
    "print('Statment Coverage '+str((df_collection.LINE_COVERED.sum()/(df_collection.LINE_MISSED.sum() + df_collection.LINE_COVERED.sum()))*100))"
   ]
  },
  {
   "cell_type": "code",
   "execution_count": 18,
   "metadata": {},
   "outputs": [
    {
     "name": "stdout",
     "output_type": "stream",
     "text": [
      "Branch Coverage 81.2754852389496\n"
     ]
    }
   ],
   "source": [
    "print('Branch Coverage '+str((df_collection.BRANCH_COVERED.sum()/(df_collection.BRANCH_MISSED.sum() + df_collection.BRANCH_COVERED.sum()))*100))"
   ]
  },
  {
   "cell_type": "code",
   "execution_count": null,
   "metadata": {},
   "outputs": [],
   "source": []
  }
 ],
 "metadata": {
  "kernelspec": {
   "display_name": "Python 3",
   "language": "python",
   "name": "python3"
  },
  "language_info": {
   "codemirror_mode": {
    "name": "ipython",
    "version": 3
   },
   "file_extension": ".py",
   "mimetype": "text/x-python",
   "name": "python",
   "nbconvert_exporter": "python",
   "pygments_lexer": "ipython3",
   "version": "3.6.7"
  }
 },
 "nbformat": 4,
 "nbformat_minor": 2
}
