{
 "cells": [
  {
   "cell_type": "code",
   "execution_count": 3,
   "metadata": {},
   "outputs": [],
   "source": [
    "import pandas as pd\n",
    "import scipy.stats  as stats\n",
    "\n",
    "df_collection = pd.read_csv('jacoco.csv', error_bad_lines=False)\n",
    "\n",
    "import matplotlib.pyplot as plt"
   ]
  },
  {
   "cell_type": "code",
   "execution_count": 4,
   "metadata": {},
   "outputs": [],
   "source": [
    "df_collection['StatementCoverage'] =  (df_collection['LINE_COVERED'] / (df_collection['LINE_COVERED'] + df_collection['LINE_MISSED'])) * 100\n"
   ]
  },
  {
   "cell_type": "code",
   "execution_count": 5,
   "metadata": {},
   "outputs": [],
   "source": [
    "\n",
    "df_collection['BranchCoverage'] =  (df_collection['BRANCH_COVERED'] / (df_collection['BRANCH_COVERED'] + df_collection['BRANCH_MISSED'])) * 100"
   ]
  },
  {
   "cell_type": "code",
   "execution_count": 6,
   "metadata": {},
   "outputs": [],
   "source": [
    "df_collection['CodeComplexity'] =  df_collection['COMPLEXITY_COVERED'] + df_collection['COMPLEXITY_MISSED'];\n",
    "\n"
   ]
  },
  {
   "cell_type": "code",
   "execution_count": 7,
   "metadata": {},
   "outputs": [
    {
     "data": {
      "text/plain": [
       "<matplotlib.axes._subplots.AxesSubplot at 0x7fc1b5bd3cc0>"
      ]
     },
     "execution_count": 7,
     "metadata": {},
     "output_type": "execute_result"
    },
    {
     "data": {
      "image/png": "[encoded data removed]",
      "text/plain": [
       "<Figure size 432x288 with 1 Axes>"
      ]
     },
     "metadata": {
      "needs_background": "light"
     },
     "output_type": "display_data"
    }
   ],
   "source": [
    "df_collection.plot(x='CodeComplexity', y='StatementCoverage', style='o')"
   ]
  },
  {
   "cell_type": "code",
   "execution_count": 8,
   "metadata": {},
   "outputs": [
    {
     "data": {
      "text/plain": [
       "<matplotlib.axes._subplots.AxesSubplot at 0x7fc1b5aeac18>"
      ]
     },
     "execution_count": 8,
     "metadata": {},
     "output_type": "execute_result"
    },
    {
     "data": {
      "image/png": "[encoded data removed]",
      "text/plain": [
       "<Figure size 432x288 with 1 Axes>"
      ]
     },
     "metadata": {
      "needs_background": "light"
     },
     "output_type": "display_data"
    }
   ],
   "source": [
    "df_collection.plot(x='CodeComplexity', y='BranchCoverage', style='o')\n"
   ]
  },
  {
   "cell_type": "code",
   "execution_count": 9,
   "metadata": {},
   "outputs": [
    {
     "data": {
      "text/plain": [
       "<matplotlib.collections.PathCollection at 0x7fc1b59efa20>"
      ]
     },
     "execution_count": 9,
     "metadata": {},
     "output_type": "execute_result"
    },
    {
     "data": {
      "image/png": "[encoded data removed]",
      "text/plain": [
       "<Figure size 432x288 with 1 Axes>"
      ]
     },
     "metadata": {
      "needs_background": "light"
     },
     "output_type": "display_data"
    }
   ],
   "source": [
    "plt.scatter(df_collection['CodeComplexity'], df_collection['StatementCoverage'])"
   ]
  },
  {
   "cell_type": "code",
   "execution_count": 10,
   "metadata": {},
   "outputs": [],
   "source": [
    "plt.show()"
   ]
  },
  {
   "cell_type": "code",
   "execution_count": 11,
   "metadata": {},
   "outputs": [
    {
     "data": {
      "text/html": [
       "<div>\n",
       "<style scoped>\n",
       "    .dataframe tbody tr th:only-of-type {\n",
       "        vertical-align: middle;\n",
       "    }\n",
       "\n",
       "    .dataframe tbody tr th {\n",
       "        vertical-align: top;\n",
       "    }\n",
       "\n",
       "    .dataframe thead th {\n",
       "        text-align: right;\n",
       "    }\n",
       "</style>\n",
       "<table border=\"1\" class=\"dataframe\">\n",
       "  <thead>\n",
       "    <tr style=\"text-align: right;\">\n",
       "      <th></th>\n",
       "      <th>INSTRUCTION_MISSED</th>\n",
       "      <th>INSTRUCTION_COVERED</th>\n",
       "      <th>BRANCH_MISSED</th>\n",
       "      <th>BRANCH_COVERED</th>\n",
       "      <th>LINE_MISSED</th>\n",
       "      <th>LINE_COVERED</th>\n",
       "      <th>COMPLEXITY_MISSED</th>\n",
       "      <th>COMPLEXITY_COVERED</th>\n",
       "      <th>METHOD_MISSED</th>\n",
       "      <th>METHOD_COVERED</th>\n",
       "      <th>Statement Coverage</th>\n",
       "      <th>Branch Coverage</th>\n",
       "      <th>Code Complexity</th>\n",
       "      <th>StatementCoverage</th>\n",
       "      <th>BranchCoverage</th>\n",
       "      <th>CodeComplexity</th>\n",
       "    </tr>\n",
       "  </thead>\n",
       "  <tbody>\n",
       "    <tr>\n",
       "      <th>INSTRUCTION_MISSED</th>\n",
       "      <td>1.000000</td>\n",
       "      <td>0.349254</td>\n",
       "      <td>0.585146</td>\n",
       "      <td>0.315294</td>\n",
       "      <td>0.941007</td>\n",
       "      <td>0.355892</td>\n",
       "      <td>0.825627</td>\n",
       "      <td>0.326292</td>\n",
       "      <td>0.736872</td>\n",
       "      <td>0.340324</td>\n",
       "      <td>-0.871595</td>\n",
       "      <td>-0.119587</td>\n",
       "      <td>0.492865</td>\n",
       "      <td>-0.871595</td>\n",
       "      <td>-0.671821</td>\n",
       "      <td>0.492865</td>\n",
       "    </tr>\n",
       "    <tr>\n",
       "      <th>INSTRUCTION_COVERED</th>\n",
       "      <td>0.349254</td>\n",
       "      <td>1.000000</td>\n",
       "      <td>0.609095</td>\n",
       "      <td>0.876688</td>\n",
       "      <td>0.327667</td>\n",
       "      <td>0.972369</td>\n",
       "      <td>0.505885</td>\n",
       "      <td>0.922075</td>\n",
       "      <td>0.081089</td>\n",
       "      <td>0.839980</td>\n",
       "      <td>-0.104361</td>\n",
       "      <td>0.520035</td>\n",
       "      <td>0.879268</td>\n",
       "      <td>-0.104361</td>\n",
       "      <td>-0.250862</td>\n",
       "      <td>0.879268</td>\n",
       "    </tr>\n",
       "    <tr>\n",
       "      <th>BRANCH_MISSED</th>\n",
       "      <td>0.585146</td>\n",
       "      <td>0.609095</td>\n",
       "      <td>1.000000</td>\n",
       "      <td>0.700195</td>\n",
       "      <td>0.609789</td>\n",
       "      <td>0.609334</td>\n",
       "      <td>0.845136</td>\n",
       "      <td>0.599827</td>\n",
       "      <td>0.268648</td>\n",
       "      <td>0.530698</td>\n",
       "      <td>-0.431488</td>\n",
       "      <td>0.067884</td>\n",
       "      <td>0.706740</td>\n",
       "      <td>-0.431488</td>\n",
       "      <td>-0.880965</td>\n",
       "      <td>0.706740</td>\n",
       "    </tr>\n",
       "    <tr>\n",
       "      <th>BRANCH_COVERED</th>\n",
       "      <td>0.315294</td>\n",
       "      <td>0.876688</td>\n",
       "      <td>0.700195</td>\n",
       "      <td>1.000000</td>\n",
       "      <td>0.327764</td>\n",
       "      <td>0.852304</td>\n",
       "      <td>0.538326</td>\n",
       "      <td>0.891768</td>\n",
       "      <td>0.048486</td>\n",
       "      <td>0.740937</td>\n",
       "      <td>-0.123859</td>\n",
       "      <td>0.649446</td>\n",
       "      <td>0.871333</td>\n",
       "      <td>-0.123859</td>\n",
       "      <td>-0.306261</td>\n",
       "      <td>0.871333</td>\n",
       "    </tr>\n",
       "    <tr>\n",
       "      <th>LINE_MISSED</th>\n",
       "      <td>0.941007</td>\n",
       "      <td>0.327667</td>\n",
       "      <td>0.609789</td>\n",
       "      <td>0.327764</td>\n",
       "      <td>1.000000</td>\n",
       "      <td>0.353648</td>\n",
       "      <td>0.833824</td>\n",
       "      <td>0.331716</td>\n",
       "      <td>0.732604</td>\n",
       "      <td>0.333759</td>\n",
       "      <td>-0.927195</td>\n",
       "      <td>-0.109058</td>\n",
       "      <td>0.499147</td>\n",
       "      <td>-0.927195</td>\n",
       "      <td>-0.678600</td>\n",
       "      <td>0.499147</td>\n",
       "    </tr>\n",
       "    <tr>\n",
       "      <th>LINE_COVERED</th>\n",
       "      <td>0.355892</td>\n",
       "      <td>0.972369</td>\n",
       "      <td>0.609334</td>\n",
       "      <td>0.852304</td>\n",
       "      <td>0.353648</td>\n",
       "      <td>1.000000</td>\n",
       "      <td>0.522100</td>\n",
       "      <td>0.926857</td>\n",
       "      <td>0.100903</td>\n",
       "      <td>0.867058</td>\n",
       "      <td>-0.136734</td>\n",
       "      <td>0.464469</td>\n",
       "      <td>0.887556</td>\n",
       "      <td>-0.136734</td>\n",
       "      <td>-0.243676</td>\n",
       "      <td>0.887556</td>\n",
       "    </tr>\n",
       "    <tr>\n",
       "      <th>COMPLEXITY_MISSED</th>\n",
       "      <td>0.825627</td>\n",
       "      <td>0.505885</td>\n",
       "      <td>0.845136</td>\n",
       "      <td>0.538326</td>\n",
       "      <td>0.833824</td>\n",
       "      <td>0.522100</td>\n",
       "      <td>1.000000</td>\n",
       "      <td>0.505157</td>\n",
       "      <td>0.662458</td>\n",
       "      <td>0.478863</td>\n",
       "      <td>-0.732733</td>\n",
       "      <td>-0.052340</td>\n",
       "      <td>0.673091</td>\n",
       "      <td>-0.732733</td>\n",
       "      <td>-0.815996</td>\n",
       "      <td>0.673091</td>\n",
       "    </tr>\n",
       "    <tr>\n",
       "      <th>COMPLEXITY_COVERED</th>\n",
       "      <td>0.326292</td>\n",
       "      <td>0.922075</td>\n",
       "      <td>0.599827</td>\n",
       "      <td>0.891768</td>\n",
       "      <td>0.331716</td>\n",
       "      <td>0.926857</td>\n",
       "      <td>0.505157</td>\n",
       "      <td>1.000000</td>\n",
       "      <td>0.079985</td>\n",
       "      <td>0.941587</td>\n",
       "      <td>-0.123259</td>\n",
       "      <td>0.558236</td>\n",
       "      <td>0.950960</td>\n",
       "      <td>-0.123259</td>\n",
       "      <td>-0.211563</td>\n",
       "      <td>0.950960</td>\n",
       "    </tr>\n",
       "    <tr>\n",
       "      <th>METHOD_MISSED</th>\n",
       "      <td>0.736872</td>\n",
       "      <td>0.081089</td>\n",
       "      <td>0.268648</td>\n",
       "      <td>0.048486</td>\n",
       "      <td>0.732604</td>\n",
       "      <td>0.100903</td>\n",
       "      <td>0.662458</td>\n",
       "      <td>0.079985</td>\n",
       "      <td>1.000000</td>\n",
       "      <td>0.137933</td>\n",
       "      <td>-0.774184</td>\n",
       "      <td>-0.164349</td>\n",
       "      <td>0.257513</td>\n",
       "      <td>-0.774184</td>\n",
       "      <td>-0.393442</td>\n",
       "      <td>0.257513</td>\n",
       "    </tr>\n",
       "    <tr>\n",
       "      <th>METHOD_COVERED</th>\n",
       "      <td>0.340324</td>\n",
       "      <td>0.839980</td>\n",
       "      <td>0.530698</td>\n",
       "      <td>0.740937</td>\n",
       "      <td>0.333759</td>\n",
       "      <td>0.867058</td>\n",
       "      <td>0.478863</td>\n",
       "      <td>0.941587</td>\n",
       "      <td>0.137933</td>\n",
       "      <td>1.000000</td>\n",
       "      <td>-0.149344</td>\n",
       "      <td>0.392893</td>\n",
       "      <td>0.896377</td>\n",
       "      <td>-0.149344</td>\n",
       "      <td>-0.170512</td>\n",
       "      <td>0.896377</td>\n",
       "    </tr>\n",
       "    <tr>\n",
       "      <th>Statement Coverage</th>\n",
       "      <td>-0.871595</td>\n",
       "      <td>-0.104361</td>\n",
       "      <td>-0.431488</td>\n",
       "      <td>-0.123859</td>\n",
       "      <td>-0.927195</td>\n",
       "      <td>-0.136734</td>\n",
       "      <td>-0.732733</td>\n",
       "      <td>-0.123259</td>\n",
       "      <td>-0.774184</td>\n",
       "      <td>-0.149344</td>\n",
       "      <td>1.000000</td>\n",
       "      <td>0.210217</td>\n",
       "      <td>-0.297897</td>\n",
       "      <td>1.000000</td>\n",
       "      <td>0.695610</td>\n",
       "      <td>-0.297897</td>\n",
       "    </tr>\n",
       "    <tr>\n",
       "      <th>Branch Coverage</th>\n",
       "      <td>-0.119587</td>\n",
       "      <td>0.520035</td>\n",
       "      <td>0.067884</td>\n",
       "      <td>0.649446</td>\n",
       "      <td>-0.109058</td>\n",
       "      <td>0.464469</td>\n",
       "      <td>-0.052340</td>\n",
       "      <td>0.558236</td>\n",
       "      <td>-0.164349</td>\n",
       "      <td>0.392893</td>\n",
       "      <td>0.210217</td>\n",
       "      <td>1.000000</td>\n",
       "      <td>0.489455</td>\n",
       "      <td>0.210217</td>\n",
       "      <td>1.000000</td>\n",
       "      <td>0.489455</td>\n",
       "    </tr>\n",
       "    <tr>\n",
       "      <th>Code Complexity</th>\n",
       "      <td>0.492865</td>\n",
       "      <td>0.879268</td>\n",
       "      <td>0.706740</td>\n",
       "      <td>0.871333</td>\n",
       "      <td>0.499147</td>\n",
       "      <td>0.887556</td>\n",
       "      <td>0.673091</td>\n",
       "      <td>0.950960</td>\n",
       "      <td>0.257513</td>\n",
       "      <td>0.896377</td>\n",
       "      <td>-0.297897</td>\n",
       "      <td>0.489455</td>\n",
       "      <td>1.000000</td>\n",
       "      <td>-0.297897</td>\n",
       "      <td>-0.344511</td>\n",
       "      <td>1.000000</td>\n",
       "    </tr>\n",
       "    <tr>\n",
       "      <th>StatementCoverage</th>\n",
       "      <td>-0.871595</td>\n",
       "      <td>-0.104361</td>\n",
       "      <td>-0.431488</td>\n",
       "      <td>-0.123859</td>\n",
       "      <td>-0.927195</td>\n",
       "      <td>-0.136734</td>\n",
       "      <td>-0.732733</td>\n",
       "      <td>-0.123259</td>\n",
       "      <td>-0.774184</td>\n",
       "      <td>-0.149344</td>\n",
       "      <td>1.000000</td>\n",
       "      <td>0.210217</td>\n",
       "      <td>-0.297897</td>\n",
       "      <td>1.000000</td>\n",
       "      <td>0.695610</td>\n",
       "      <td>-0.297897</td>\n",
       "    </tr>\n",
       "    <tr>\n",
       "      <th>BranchCoverage</th>\n",
       "      <td>-0.671821</td>\n",
       "      <td>-0.250862</td>\n",
       "      <td>-0.880965</td>\n",
       "      <td>-0.306261</td>\n",
       "      <td>-0.678600</td>\n",
       "      <td>-0.243676</td>\n",
       "      <td>-0.815996</td>\n",
       "      <td>-0.211563</td>\n",
       "      <td>-0.393442</td>\n",
       "      <td>-0.170512</td>\n",
       "      <td>0.695610</td>\n",
       "      <td>1.000000</td>\n",
       "      <td>-0.344511</td>\n",
       "      <td>0.695610</td>\n",
       "      <td>1.000000</td>\n",
       "      <td>-0.344511</td>\n",
       "    </tr>\n",
       "    <tr>\n",
       "      <th>CodeComplexity</th>\n",
       "      <td>0.492865</td>\n",
       "      <td>0.879268</td>\n",
       "      <td>0.706740</td>\n",
       "      <td>0.871333</td>\n",
       "      <td>0.499147</td>\n",
       "      <td>0.887556</td>\n",
       "      <td>0.673091</td>\n",
       "      <td>0.950960</td>\n",
       "      <td>0.257513</td>\n",
       "      <td>0.896377</td>\n",
       "      <td>-0.297897</td>\n",
       "      <td>0.489455</td>\n",
       "      <td>1.000000</td>\n",
       "      <td>-0.297897</td>\n",
       "      <td>-0.344511</td>\n",
       "      <td>1.000000</td>\n",
       "    </tr>\n",
       "  </tbody>\n",
       "</table>\n",
       "</div>"
      ],
      "text/plain": [
       "                     INSTRUCTION_MISSED  INSTRUCTION_COVERED  BRANCH_MISSED  \\\n",
       "INSTRUCTION_MISSED             1.000000             0.349254       0.585146   \n",
       "INSTRUCTION_COVERED            0.349254             1.000000       0.609095   \n",
       "BRANCH_MISSED                  0.585146             0.609095       1.000000   \n",
       "BRANCH_COVERED                 0.315294             0.876688       0.700195   \n",
       "LINE_MISSED                    0.941007             0.327667       0.609789   \n",
       "LINE_COVERED                   0.355892             0.972369       0.609334   \n",
       "COMPLEXITY_MISSED              0.825627             0.505885       0.845136   \n",
       "COMPLEXITY_COVERED             0.326292             0.922075       0.599827   \n",
       "METHOD_MISSED                  0.736872             0.081089       0.268648   \n",
       "METHOD_COVERED                 0.340324             0.839980       0.530698   \n",
       "Statement Coverage            -0.871595            -0.104361      -0.431488   \n",
       "Branch Coverage               -0.119587             0.520035       0.067884   \n",
       "Code Complexity                0.492865             0.879268       0.706740   \n",
       "StatementCoverage             -0.871595            -0.104361      -0.431488   \n",
       "BranchCoverage                -0.671821            -0.250862      -0.880965   \n",
       "CodeComplexity                 0.492865             0.879268       0.706740   \n",
       "\n",
       "                     BRANCH_COVERED  LINE_MISSED  LINE_COVERED  \\\n",
       "INSTRUCTION_MISSED         0.315294     0.941007      0.355892   \n",
       "INSTRUCTION_COVERED        0.876688     0.327667      0.972369   \n",
       "BRANCH_MISSED              0.700195     0.609789      0.609334   \n",
       "BRANCH_COVERED             1.000000     0.327764      0.852304   \n",
       "LINE_MISSED                0.327764     1.000000      0.353648   \n",
       "LINE_COVERED               0.852304     0.353648      1.000000   \n",
       "COMPLEXITY_MISSED          0.538326     0.833824      0.522100   \n",
       "COMPLEXITY_COVERED         0.891768     0.331716      0.926857   \n",
       "METHOD_MISSED              0.048486     0.732604      0.100903   \n",
       "METHOD_COVERED             0.740937     0.333759      0.867058   \n",
       "Statement Coverage        -0.123859    -0.927195     -0.136734   \n",
       "Branch Coverage            0.649446    -0.109058      0.464469   \n",
       "Code Complexity            0.871333     0.499147      0.887556   \n",
       "StatementCoverage         -0.123859    -0.927195     -0.136734   \n",
       "BranchCoverage            -0.306261    -0.678600     -0.243676   \n",
       "CodeComplexity             0.871333     0.499147      0.887556   \n",
       "\n",
       "                     COMPLEXITY_MISSED  COMPLEXITY_COVERED  METHOD_MISSED  \\\n",
       "INSTRUCTION_MISSED            0.825627            0.326292       0.736872   \n",
       "INSTRUCTION_COVERED           0.505885            0.922075       0.081089   \n",
       "BRANCH_MISSED                 0.845136            0.599827       0.268648   \n",
       "BRANCH_COVERED                0.538326            0.891768       0.048486   \n",
       "LINE_MISSED                   0.833824            0.331716       0.732604   \n",
       "LINE_COVERED                  0.522100            0.926857       0.100903   \n",
       "COMPLEXITY_MISSED             1.000000            0.505157       0.662458   \n",
       "COMPLEXITY_COVERED            0.505157            1.000000       0.079985   \n",
       "METHOD_MISSED                 0.662458            0.079985       1.000000   \n",
       "METHOD_COVERED                0.478863            0.941587       0.137933   \n",
       "Statement Coverage           -0.732733           -0.123259      -0.774184   \n",
       "Branch Coverage              -0.052340            0.558236      -0.164349   \n",
       "Code Complexity               0.673091            0.950960       0.257513   \n",
       "StatementCoverage            -0.732733           -0.123259      -0.774184   \n",
       "BranchCoverage               -0.815996           -0.211563      -0.393442   \n",
       "CodeComplexity                0.673091            0.950960       0.257513   \n",
       "\n",
       "                     METHOD_COVERED  Statement Coverage  Branch Coverage  \\\n",
       "INSTRUCTION_MISSED         0.340324           -0.871595        -0.119587   \n",
       "INSTRUCTION_COVERED        0.839980           -0.104361         0.520035   \n",
       "BRANCH_MISSED              0.530698           -0.431488         0.067884   \n",
       "BRANCH_COVERED             0.740937           -0.123859         0.649446   \n",
       "LINE_MISSED                0.333759           -0.927195        -0.109058   \n",
       "LINE_COVERED               0.867058           -0.136734         0.464469   \n",
       "COMPLEXITY_MISSED          0.478863           -0.732733        -0.052340   \n",
       "COMPLEXITY_COVERED         0.941587           -0.123259         0.558236   \n",
       "METHOD_MISSED              0.137933           -0.774184        -0.164349   \n",
       "METHOD_COVERED             1.000000           -0.149344         0.392893   \n",
       "Statement Coverage        -0.149344            1.000000         0.210217   \n",
       "Branch Coverage            0.392893            0.210217         1.000000   \n",
       "Code Complexity            0.896377           -0.297897         0.489455   \n",
       "StatementCoverage         -0.149344            1.000000         0.210217   \n",
       "BranchCoverage            -0.170512            0.695610         1.000000   \n",
       "CodeComplexity             0.896377           -0.297897         0.489455   \n",
       "\n",
       "                     Code Complexity  StatementCoverage  BranchCoverage  \\\n",
       "INSTRUCTION_MISSED          0.492865          -0.871595       -0.671821   \n",
       "INSTRUCTION_COVERED         0.879268          -0.104361       -0.250862   \n",
       "BRANCH_MISSED               0.706740          -0.431488       -0.880965   \n",
       "BRANCH_COVERED              0.871333          -0.123859       -0.306261   \n",
       "LINE_MISSED                 0.499147          -0.927195       -0.678600   \n",
       "LINE_COVERED                0.887556          -0.136734       -0.243676   \n",
       "COMPLEXITY_MISSED           0.673091          -0.732733       -0.815996   \n",
       "COMPLEXITY_COVERED          0.950960          -0.123259       -0.211563   \n",
       "METHOD_MISSED               0.257513          -0.774184       -0.393442   \n",
       "METHOD_COVERED              0.896377          -0.149344       -0.170512   \n",
       "Statement Coverage         -0.297897           1.000000        0.695610   \n",
       "Branch Coverage             0.489455           0.210217        1.000000   \n",
       "Code Complexity             1.000000          -0.297897       -0.344511   \n",
       "StatementCoverage          -0.297897           1.000000        0.695610   \n",
       "BranchCoverage             -0.344511           0.695610        1.000000   \n",
       "CodeComplexity              1.000000          -0.297897       -0.344511   \n",
       "\n",
       "                     CodeComplexity  \n",
       "INSTRUCTION_MISSED         0.492865  \n",
       "INSTRUCTION_COVERED        0.879268  \n",
       "BRANCH_MISSED              0.706740  \n",
       "BRANCH_COVERED             0.871333  \n",
       "LINE_MISSED                0.499147  \n",
       "LINE_COVERED               0.887556  \n",
       "COMPLEXITY_MISSED          0.673091  \n",
       "COMPLEXITY_COVERED         0.950960  \n",
       "METHOD_MISSED              0.257513  \n",
       "METHOD_COVERED             0.896377  \n",
       "Statement Coverage        -0.297897  \n",
       "Branch Coverage            0.489455  \n",
       "Code Complexity            1.000000  \n",
       "StatementCoverage         -0.297897  \n",
       "BranchCoverage            -0.344511  \n",
       "CodeComplexity             1.000000  "
      ]
     },
     "execution_count": 11,
     "metadata": {},
     "output_type": "execute_result"
    }
   ],
   "source": [
    "df_collection.corr(method ='spearman')"
   ]
  },
  {
   "cell_type": "code",
   "execution_count": 12,
   "metadata": {},
   "outputs": [
    {
     "data": {
      "text/html": [
       "<div>\n",
       "<style scoped>\n",
       "    .dataframe tbody tr th:only-of-type {\n",
       "        vertical-align: middle;\n",
       "    }\n",
       "\n",
       "    .dataframe tbody tr th {\n",
       "        vertical-align: top;\n",
       "    }\n",
       "\n",
       "    .dataframe thead th {\n",
       "        text-align: right;\n",
       "    }\n",
       "</style>\n",
       "<table border=\"1\" class=\"dataframe\">\n",
       "  <thead>\n",
       "    <tr style=\"text-align: right;\">\n",
       "      <th></th>\n",
       "      <th>CodeComplexity</th>\n",
       "      <th>StatementCoverage</th>\n",
       "    </tr>\n",
       "  </thead>\n",
       "  <tbody>\n",
       "    <tr>\n",
       "      <th>CodeComplexity</th>\n",
       "      <td>1.000000</td>\n",
       "      <td>-0.297897</td>\n",
       "    </tr>\n",
       "    <tr>\n",
       "      <th>StatementCoverage</th>\n",
       "      <td>-0.297897</td>\n",
       "      <td>1.000000</td>\n",
       "    </tr>\n",
       "  </tbody>\n",
       "</table>\n",
       "</div>"
      ],
      "text/plain": [
       "                   CodeComplexity  StatementCoverage\n",
       "CodeComplexity           1.000000          -0.297897\n",
       "StatementCoverage       -0.297897           1.000000"
      ]
     },
     "execution_count": 12,
     "metadata": {},
     "output_type": "execute_result"
    }
   ],
   "source": [
    "df_collection[['CodeComplexity','StatementCoverage']].corr(method ='spearman')\n"
   ]
  },
  {
   "cell_type": "code",
   "execution_count": 13,
   "metadata": {},
   "outputs": [],
   "source": [
    "df_clean = df_collection.dropna()"
   ]
  },
  {
   "cell_type": "code",
   "execution_count": 14,
   "metadata": {},
   "outputs": [
    {
     "data": {
      "text/plain": [
       "SpearmanrResult(correlation=-0.371567291452825, pvalue=0.0061555806241946846)"
      ]
     },
     "execution_count": 14,
     "metadata": {},
     "output_type": "execute_result"
    }
   ],
   "source": [
    "stats.spearmanr(df_clean['StatementCoverage'], df_clean['CodeComplexity'])"
   ]
  },
  {
   "cell_type": "code",
   "execution_count": 15,
   "metadata": {},
   "outputs": [
    {
     "data": {
      "text/html": [
       "<div>\n",
       "<style scoped>\n",
       "    .dataframe tbody tr th:only-of-type {\n",
       "        vertical-align: middle;\n",
       "    }\n",
       "\n",
       "    .dataframe tbody tr th {\n",
       "        vertical-align: top;\n",
       "    }\n",
       "\n",
       "    .dataframe thead th {\n",
       "        text-align: right;\n",
       "    }\n",
       "</style>\n",
       "<table border=\"1\" class=\"dataframe\">\n",
       "  <thead>\n",
       "    <tr style=\"text-align: right;\">\n",
       "      <th></th>\n",
       "      <th>CodeComplexity</th>\n",
       "      <th>BranchCoverage</th>\n",
       "    </tr>\n",
       "  </thead>\n",
       "  <tbody>\n",
       "    <tr>\n",
       "      <th>CodeComplexity</th>\n",
       "      <td>1.000000</td>\n",
       "      <td>-0.344511</td>\n",
       "    </tr>\n",
       "    <tr>\n",
       "      <th>BranchCoverage</th>\n",
       "      <td>-0.344511</td>\n",
       "      <td>1.000000</td>\n",
       "    </tr>\n",
       "  </tbody>\n",
       "</table>\n",
       "</div>"
      ],
      "text/plain": [
       "                CodeComplexity  BranchCoverage\n",
       "CodeComplexity        1.000000       -0.344511\n",
       "BranchCoverage       -0.344511        1.000000"
      ]
     },
     "execution_count": 15,
     "metadata": {},
     "output_type": "execute_result"
    }
   ],
   "source": [
    "df_collection[['CodeComplexity','BranchCoverage']].corr(method ='spearman')"
   ]
  },
  {
   "cell_type": "code",
   "execution_count": 16,
   "metadata": {},
   "outputs": [
    {
     "data": {
      "text/plain": [
       "SpearmanrResult(correlation=-0.34451051910242775, pvalue=0.011532898462550093)"
      ]
     },
     "execution_count": 16,
     "metadata": {},
     "output_type": "execute_result"
    }
   ],
   "source": [
    "df_clean = df_collection.dropna()\n",
    "stats.spearmanr(df_clean['BranchCoverage'], df_clean['CodeComplexity'])"
   ]
  },
  {
   "cell_type": "code",
   "execution_count": 17,
   "metadata": {},
   "outputs": [
    {
     "name": "stdout",
     "output_type": "stream",
     "text": [
      "Statment Coverage 94.92230854605992\n"
     ]
    }
   ],
   "source": [
    "print('Statment Coverage '+str((df_collection.LINE_COVERED.sum()/(df_collection.LINE_MISSED.sum() + df_collection.LINE_COVERED.sum()))*100))"
   ]
  },
  {
   "cell_type": "code",
   "execution_count": 18,
   "metadata": {},
   "outputs": [
    {
     "name": "stdout",
     "output_type": "stream",
     "text": [
      "Branch Coverage 91.93154034229829\n"
     ]
    }
   ],
   "source": [
    "print('Branch Coverage '+str((df_collection.BRANCH_COVERED.sum()/(df_collection.BRANCH_MISSED.sum() + df_collection.BRANCH_COVERED.sum()))*100))"
   ]
  },
  {
   "cell_type": "code",
   "execution_count": null,
   "metadata": {},
   "outputs": [],
   "source": []
  }
 ],
 "metadata": {
  "kernelspec": {
   "display_name": "Python 3",
   "language": "python",
   "name": "python3"
  },
  "language_info": {
   "codemirror_mode": {
    "name": "ipython",
    "version": 3
   },
   "file_extension": ".py",
   "mimetype": "text/x-python",
   "name": "python",
   "nbconvert_exporter": "python",
   "pygments_lexer": "ipython3",
   "version": "3.6.7"
  }
 },
 "nbformat": 4,
 "nbformat_minor": 2
}
