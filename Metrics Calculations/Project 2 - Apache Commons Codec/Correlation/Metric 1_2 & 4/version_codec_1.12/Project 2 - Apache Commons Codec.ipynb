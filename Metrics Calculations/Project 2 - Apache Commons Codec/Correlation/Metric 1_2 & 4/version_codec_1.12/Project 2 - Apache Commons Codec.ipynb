{
 "cells": [
  {
   "cell_type": "code",
   "execution_count": 1,
   "metadata": {},
   "outputs": [],
   "source": [
    "import pandas as pd\n",
    "import scipy.stats  as stats\n",
    "\n",
    "df_collection = pd.read_csv('jacoco.csv', error_bad_lines=False)\n",
    "\n",
    "import matplotlib.pyplot as plt"
   ]
  },
  {
   "cell_type": "code",
   "execution_count": 2,
   "metadata": {},
   "outputs": [],
   "source": [
    "df_collection['StatementCoverage'] =  (df_collection['LINE_COVERED'] / (df_collection['LINE_COVERED'] + df_collection['LINE_MISSED'])) * 100\n"
   ]
  },
  {
   "cell_type": "code",
   "execution_count": 3,
   "metadata": {},
   "outputs": [],
   "source": [
    "\n",
    "df_collection['BranchCoverage'] =  (df_collection['BRANCH_COVERED'] / (df_collection['BRANCH_COVERED'] + df_collection['BRANCH_MISSED'])) * 100"
   ]
  },
  {
   "cell_type": "code",
   "execution_count": 4,
   "metadata": {},
   "outputs": [],
   "source": [
    "df_collection['CodeComplexity'] =  df_collection['COMPLEXITY_COVERED'] + df_collection['COMPLEXITY_MISSED'];\n",
    "\n"
   ]
  },
  {
   "cell_type": "code",
   "execution_count": 5,
   "metadata": {},
   "outputs": [
    {
     "data": {
      "text/plain": [
       "<matplotlib.axes._subplots.AxesSubplot at 0x7f2b68867a58>"
      ]
     },
     "execution_count": 5,
     "metadata": {},
     "output_type": "execute_result"
    },
    {
     "data": {
      "image/png": "[encoded data removed]",
      "text/plain": [
       "<Figure size 432x288 with 1 Axes>"
      ]
     },
     "metadata": {
      "needs_background": "light"
     },
     "output_type": "display_data"
    }
   ],
   "source": [
    "df_collection.plot(x='CodeComplexity', y='StatementCoverage', style='o')"
   ]
  },
  {
   "cell_type": "code",
   "execution_count": 6,
   "metadata": {},
   "outputs": [
    {
     "data": {
      "text/plain": [
       "<matplotlib.axes._subplots.AxesSubplot at 0x7f2b66766860>"
      ]
     },
     "execution_count": 6,
     "metadata": {},
     "output_type": "execute_result"
    },
    {
     "data": {
      "image/png": "[encoded data removed]",
      "text/plain": [
       "<Figure size 432x288 with 1 Axes>"
      ]
     },
     "metadata": {
      "needs_background": "light"
     },
     "output_type": "display_data"
    }
   ],
   "source": [
    "df_collection.plot(x='CodeComplexity', y='BranchCoverage', style='o')\n"
   ]
  },
  {
   "cell_type": "code",
   "execution_count": 7,
   "metadata": {},
   "outputs": [
    {
     "data": {
      "text/plain": [
       "<matplotlib.collections.PathCollection at 0x7f2b66674828>"
      ]
     },
     "execution_count": 7,
     "metadata": {},
     "output_type": "execute_result"
    },
    {
     "data": {
      "image/png": "[encoded data removed]",
      "text/plain": [
       "<Figure size 432x288 with 1 Axes>"
      ]
     },
     "metadata": {
      "needs_background": "light"
     },
     "output_type": "display_data"
    }
   ],
   "source": [
    "plt.scatter(df_collection['CodeComplexity'], df_collection['StatementCoverage'])"
   ]
  },
  {
   "cell_type": "code",
   "execution_count": 8,
   "metadata": {},
   "outputs": [],
   "source": [
    "plt.show()"
   ]
  },
  {
   "cell_type": "code",
   "execution_count": 9,
   "metadata": {},
   "outputs": [
    {
     "data": {
      "text/html": [
       "<div>\n",
       "<style scoped>\n",
       "    .dataframe tbody tr th:only-of-type {\n",
       "        vertical-align: middle;\n",
       "    }\n",
       "\n",
       "    .dataframe tbody tr th {\n",
       "        vertical-align: top;\n",
       "    }\n",
       "\n",
       "    .dataframe thead th {\n",
       "        text-align: right;\n",
       "    }\n",
       "</style>\n",
       "<table border=\"1\" class=\"dataframe\">\n",
       "  <thead>\n",
       "    <tr style=\"text-align: right;\">\n",
       "      <th></th>\n",
       "      <th>INSTRUCTION_MISSED</th>\n",
       "      <th>INSTRUCTION_COVERED</th>\n",
       "      <th>BRANCH_MISSED</th>\n",
       "      <th>BRANCH_COVERED</th>\n",
       "      <th>LINE_MISSED</th>\n",
       "      <th>LINE_COVERED</th>\n",
       "      <th>COMPLEXITY_MISSED</th>\n",
       "      <th>COMPLEXITY_COVERED</th>\n",
       "      <th>METHOD_MISSED</th>\n",
       "      <th>METHOD_COVERED</th>\n",
       "      <th>Statement Coverage</th>\n",
       "      <th>Branch Coverage</th>\n",
       "      <th>Code Complexity</th>\n",
       "      <th>StatementCoverage</th>\n",
       "      <th>BranchCoverage</th>\n",
       "      <th>CodeComplexity</th>\n",
       "    </tr>\n",
       "  </thead>\n",
       "  <tbody>\n",
       "    <tr>\n",
       "      <th>INSTRUCTION_MISSED</th>\n",
       "      <td>1.000000</td>\n",
       "      <td>0.320194</td>\n",
       "      <td>0.726704</td>\n",
       "      <td>0.275694</td>\n",
       "      <td>0.938145</td>\n",
       "      <td>0.325674</td>\n",
       "      <td>0.916243</td>\n",
       "      <td>0.269474</td>\n",
       "      <td>0.792169</td>\n",
       "      <td>0.257385</td>\n",
       "      <td>-0.869358</td>\n",
       "      <td>-0.844460</td>\n",
       "      <td>0.461787</td>\n",
       "      <td>-0.869358</td>\n",
       "      <td>-0.844460</td>\n",
       "      <td>0.461787</td>\n",
       "    </tr>\n",
       "    <tr>\n",
       "      <th>INSTRUCTION_COVERED</th>\n",
       "      <td>0.320194</td>\n",
       "      <td>1.000000</td>\n",
       "      <td>0.544439</td>\n",
       "      <td>0.850579</td>\n",
       "      <td>0.325531</td>\n",
       "      <td>0.938253</td>\n",
       "      <td>0.436748</td>\n",
       "      <td>0.893964</td>\n",
       "      <td>0.092506</td>\n",
       "      <td>0.824219</td>\n",
       "      <td>-0.110095</td>\n",
       "      <td>-0.175375</td>\n",
       "      <td>0.843390</td>\n",
       "      <td>-0.110095</td>\n",
       "      <td>-0.175375</td>\n",
       "      <td>0.843390</td>\n",
       "    </tr>\n",
       "    <tr>\n",
       "      <th>BRANCH_MISSED</th>\n",
       "      <td>0.726704</td>\n",
       "      <td>0.544439</td>\n",
       "      <td>1.000000</td>\n",
       "      <td>0.589332</td>\n",
       "      <td>0.728960</td>\n",
       "      <td>0.567869</td>\n",
       "      <td>0.879967</td>\n",
       "      <td>0.545368</td>\n",
       "      <td>0.397834</td>\n",
       "      <td>0.477288</td>\n",
       "      <td>-0.533725</td>\n",
       "      <td>-0.908011</td>\n",
       "      <td>0.688463</td>\n",
       "      <td>-0.533725</td>\n",
       "      <td>-0.908011</td>\n",
       "      <td>0.688463</td>\n",
       "    </tr>\n",
       "    <tr>\n",
       "      <th>BRANCH_COVERED</th>\n",
       "      <td>0.275694</td>\n",
       "      <td>0.850579</td>\n",
       "      <td>0.589332</td>\n",
       "      <td>1.000000</td>\n",
       "      <td>0.305735</td>\n",
       "      <td>0.869017</td>\n",
       "      <td>0.440154</td>\n",
       "      <td>0.900906</td>\n",
       "      <td>0.033458</td>\n",
       "      <td>0.762571</td>\n",
       "      <td>-0.099884</td>\n",
       "      <td>-0.084670</td>\n",
       "      <td>0.872608</td>\n",
       "      <td>-0.099884</td>\n",
       "      <td>-0.084670</td>\n",
       "      <td>0.872608</td>\n",
       "    </tr>\n",
       "    <tr>\n",
       "      <th>LINE_MISSED</th>\n",
       "      <td>0.938145</td>\n",
       "      <td>0.325531</td>\n",
       "      <td>0.728960</td>\n",
       "      <td>0.305735</td>\n",
       "      <td>1.000000</td>\n",
       "      <td>0.342860</td>\n",
       "      <td>0.902104</td>\n",
       "      <td>0.289643</td>\n",
       "      <td>0.792386</td>\n",
       "      <td>0.275009</td>\n",
       "      <td>-0.929631</td>\n",
       "      <td>-0.807470</td>\n",
       "      <td>0.486731</td>\n",
       "      <td>-0.929631</td>\n",
       "      <td>-0.807470</td>\n",
       "      <td>0.486731</td>\n",
       "    </tr>\n",
       "    <tr>\n",
       "      <th>LINE_COVERED</th>\n",
       "      <td>0.325674</td>\n",
       "      <td>0.938253</td>\n",
       "      <td>0.567869</td>\n",
       "      <td>0.869017</td>\n",
       "      <td>0.342860</td>\n",
       "      <td>1.000000</td>\n",
       "      <td>0.461846</td>\n",
       "      <td>0.931897</td>\n",
       "      <td>0.104107</td>\n",
       "      <td>0.877962</td>\n",
       "      <td>-0.114567</td>\n",
       "      <td>-0.175637</td>\n",
       "      <td>0.881632</td>\n",
       "      <td>-0.114567</td>\n",
       "      <td>-0.175637</td>\n",
       "      <td>0.881632</td>\n",
       "    </tr>\n",
       "    <tr>\n",
       "      <th>COMPLEXITY_MISSED</th>\n",
       "      <td>0.916243</td>\n",
       "      <td>0.436748</td>\n",
       "      <td>0.879967</td>\n",
       "      <td>0.440154</td>\n",
       "      <td>0.902104</td>\n",
       "      <td>0.461846</td>\n",
       "      <td>1.000000</td>\n",
       "      <td>0.425405</td>\n",
       "      <td>0.701316</td>\n",
       "      <td>0.386438</td>\n",
       "      <td>-0.799883</td>\n",
       "      <td>-0.887770</td>\n",
       "      <td>0.616426</td>\n",
       "      <td>-0.799883</td>\n",
       "      <td>-0.887770</td>\n",
       "      <td>0.616426</td>\n",
       "    </tr>\n",
       "    <tr>\n",
       "      <th>COMPLEXITY_COVERED</th>\n",
       "      <td>0.269474</td>\n",
       "      <td>0.893964</td>\n",
       "      <td>0.545368</td>\n",
       "      <td>0.900906</td>\n",
       "      <td>0.289643</td>\n",
       "      <td>0.931897</td>\n",
       "      <td>0.425405</td>\n",
       "      <td>1.000000</td>\n",
       "      <td>0.070570</td>\n",
       "      <td>0.944326</td>\n",
       "      <td>-0.069505</td>\n",
       "      <td>-0.146633</td>\n",
       "      <td>0.934753</td>\n",
       "      <td>-0.069505</td>\n",
       "      <td>-0.146633</td>\n",
       "      <td>0.934753</td>\n",
       "    </tr>\n",
       "    <tr>\n",
       "      <th>METHOD_MISSED</th>\n",
       "      <td>0.792169</td>\n",
       "      <td>0.092506</td>\n",
       "      <td>0.397834</td>\n",
       "      <td>0.033458</td>\n",
       "      <td>0.792386</td>\n",
       "      <td>0.104107</td>\n",
       "      <td>0.701316</td>\n",
       "      <td>0.070570</td>\n",
       "      <td>1.000000</td>\n",
       "      <td>0.104210</td>\n",
       "      <td>-0.824954</td>\n",
       "      <td>-0.567622</td>\n",
       "      <td>0.269385</td>\n",
       "      <td>-0.824954</td>\n",
       "      <td>-0.567622</td>\n",
       "      <td>0.269385</td>\n",
       "    </tr>\n",
       "    <tr>\n",
       "      <th>METHOD_COVERED</th>\n",
       "      <td>0.257385</td>\n",
       "      <td>0.824219</td>\n",
       "      <td>0.477288</td>\n",
       "      <td>0.762571</td>\n",
       "      <td>0.275009</td>\n",
       "      <td>0.877962</td>\n",
       "      <td>0.386438</td>\n",
       "      <td>0.944326</td>\n",
       "      <td>0.104210</td>\n",
       "      <td>1.000000</td>\n",
       "      <td>-0.064545</td>\n",
       "      <td>-0.132932</td>\n",
       "      <td>0.876972</td>\n",
       "      <td>-0.064545</td>\n",
       "      <td>-0.132932</td>\n",
       "      <td>0.876972</td>\n",
       "    </tr>\n",
       "    <tr>\n",
       "      <th>Statement Coverage</th>\n",
       "      <td>-0.869358</td>\n",
       "      <td>-0.110095</td>\n",
       "      <td>-0.533725</td>\n",
       "      <td>-0.099884</td>\n",
       "      <td>-0.929631</td>\n",
       "      <td>-0.114567</td>\n",
       "      <td>-0.799883</td>\n",
       "      <td>-0.069505</td>\n",
       "      <td>-0.824954</td>\n",
       "      <td>-0.064545</td>\n",
       "      <td>1.000000</td>\n",
       "      <td>0.778360</td>\n",
       "      <td>-0.275779</td>\n",
       "      <td>1.000000</td>\n",
       "      <td>0.778360</td>\n",
       "      <td>-0.275779</td>\n",
       "    </tr>\n",
       "    <tr>\n",
       "      <th>Branch Coverage</th>\n",
       "      <td>-0.844460</td>\n",
       "      <td>-0.175375</td>\n",
       "      <td>-0.908011</td>\n",
       "      <td>-0.084670</td>\n",
       "      <td>-0.807470</td>\n",
       "      <td>-0.175637</td>\n",
       "      <td>-0.887770</td>\n",
       "      <td>-0.146633</td>\n",
       "      <td>-0.567622</td>\n",
       "      <td>-0.132932</td>\n",
       "      <td>0.778360</td>\n",
       "      <td>1.000000</td>\n",
       "      <td>-0.350852</td>\n",
       "      <td>0.778360</td>\n",
       "      <td>1.000000</td>\n",
       "      <td>-0.350852</td>\n",
       "    </tr>\n",
       "    <tr>\n",
       "      <th>Code Complexity</th>\n",
       "      <td>0.461787</td>\n",
       "      <td>0.843390</td>\n",
       "      <td>0.688463</td>\n",
       "      <td>0.872608</td>\n",
       "      <td>0.486731</td>\n",
       "      <td>0.881632</td>\n",
       "      <td>0.616426</td>\n",
       "      <td>0.934753</td>\n",
       "      <td>0.269385</td>\n",
       "      <td>0.876972</td>\n",
       "      <td>-0.275779</td>\n",
       "      <td>-0.350852</td>\n",
       "      <td>1.000000</td>\n",
       "      <td>-0.275779</td>\n",
       "      <td>-0.350852</td>\n",
       "      <td>1.000000</td>\n",
       "    </tr>\n",
       "    <tr>\n",
       "      <th>StatementCoverage</th>\n",
       "      <td>-0.869358</td>\n",
       "      <td>-0.110095</td>\n",
       "      <td>-0.533725</td>\n",
       "      <td>-0.099884</td>\n",
       "      <td>-0.929631</td>\n",
       "      <td>-0.114567</td>\n",
       "      <td>-0.799883</td>\n",
       "      <td>-0.069505</td>\n",
       "      <td>-0.824954</td>\n",
       "      <td>-0.064545</td>\n",
       "      <td>1.000000</td>\n",
       "      <td>0.778360</td>\n",
       "      <td>-0.275779</td>\n",
       "      <td>1.000000</td>\n",
       "      <td>0.778360</td>\n",
       "      <td>-0.275779</td>\n",
       "    </tr>\n",
       "    <tr>\n",
       "      <th>BranchCoverage</th>\n",
       "      <td>-0.844460</td>\n",
       "      <td>-0.175375</td>\n",
       "      <td>-0.908011</td>\n",
       "      <td>-0.084670</td>\n",
       "      <td>-0.807470</td>\n",
       "      <td>-0.175637</td>\n",
       "      <td>-0.887770</td>\n",
       "      <td>-0.146633</td>\n",
       "      <td>-0.567622</td>\n",
       "      <td>-0.132932</td>\n",
       "      <td>0.778360</td>\n",
       "      <td>1.000000</td>\n",
       "      <td>-0.350852</td>\n",
       "      <td>0.778360</td>\n",
       "      <td>1.000000</td>\n",
       "      <td>-0.350852</td>\n",
       "    </tr>\n",
       "    <tr>\n",
       "      <th>CodeComplexity</th>\n",
       "      <td>0.461787</td>\n",
       "      <td>0.843390</td>\n",
       "      <td>0.688463</td>\n",
       "      <td>0.872608</td>\n",
       "      <td>0.486731</td>\n",
       "      <td>0.881632</td>\n",
       "      <td>0.616426</td>\n",
       "      <td>0.934753</td>\n",
       "      <td>0.269385</td>\n",
       "      <td>0.876972</td>\n",
       "      <td>-0.275779</td>\n",
       "      <td>-0.350852</td>\n",
       "      <td>1.000000</td>\n",
       "      <td>-0.275779</td>\n",
       "      <td>-0.350852</td>\n",
       "      <td>1.000000</td>\n",
       "    </tr>\n",
       "  </tbody>\n",
       "</table>\n",
       "</div>"
      ],
      "text/plain": [
       "                     INSTRUCTION_MISSED  INSTRUCTION_COVERED  BRANCH_MISSED  \\\n",
       "INSTRUCTION_MISSED             1.000000             0.320194       0.726704   \n",
       "INSTRUCTION_COVERED            0.320194             1.000000       0.544439   \n",
       "BRANCH_MISSED                  0.726704             0.544439       1.000000   \n",
       "BRANCH_COVERED                 0.275694             0.850579       0.589332   \n",
       "LINE_MISSED                    0.938145             0.325531       0.728960   \n",
       "LINE_COVERED                   0.325674             0.938253       0.567869   \n",
       "COMPLEXITY_MISSED              0.916243             0.436748       0.879967   \n",
       "COMPLEXITY_COVERED             0.269474             0.893964       0.545368   \n",
       "METHOD_MISSED                  0.792169             0.092506       0.397834   \n",
       "METHOD_COVERED                 0.257385             0.824219       0.477288   \n",
       "Statement Coverage            -0.869358            -0.110095      -0.533725   \n",
       "Branch Coverage               -0.844460            -0.175375      -0.908011   \n",
       "Code Complexity                0.461787             0.843390       0.688463   \n",
       "StatementCoverage             -0.869358            -0.110095      -0.533725   \n",
       "BranchCoverage                -0.844460            -0.175375      -0.908011   \n",
       "CodeComplexity                 0.461787             0.843390       0.688463   \n",
       "\n",
       "                     BRANCH_COVERED  LINE_MISSED  LINE_COVERED  \\\n",
       "INSTRUCTION_MISSED         0.275694     0.938145      0.325674   \n",
       "INSTRUCTION_COVERED        0.850579     0.325531      0.938253   \n",
       "BRANCH_MISSED              0.589332     0.728960      0.567869   \n",
       "BRANCH_COVERED             1.000000     0.305735      0.869017   \n",
       "LINE_MISSED                0.305735     1.000000      0.342860   \n",
       "LINE_COVERED               0.869017     0.342860      1.000000   \n",
       "COMPLEXITY_MISSED          0.440154     0.902104      0.461846   \n",
       "COMPLEXITY_COVERED         0.900906     0.289643      0.931897   \n",
       "METHOD_MISSED              0.033458     0.792386      0.104107   \n",
       "METHOD_COVERED             0.762571     0.275009      0.877962   \n",
       "Statement Coverage        -0.099884    -0.929631     -0.114567   \n",
       "Branch Coverage           -0.084670    -0.807470     -0.175637   \n",
       "Code Complexity            0.872608     0.486731      0.881632   \n",
       "StatementCoverage         -0.099884    -0.929631     -0.114567   \n",
       "BranchCoverage            -0.084670    -0.807470     -0.175637   \n",
       "CodeComplexity             0.872608     0.486731      0.881632   \n",
       "\n",
       "                     COMPLEXITY_MISSED  COMPLEXITY_COVERED  METHOD_MISSED  \\\n",
       "INSTRUCTION_MISSED            0.916243            0.269474       0.792169   \n",
       "INSTRUCTION_COVERED           0.436748            0.893964       0.092506   \n",
       "BRANCH_MISSED                 0.879967            0.545368       0.397834   \n",
       "BRANCH_COVERED                0.440154            0.900906       0.033458   \n",
       "LINE_MISSED                   0.902104            0.289643       0.792386   \n",
       "LINE_COVERED                  0.461846            0.931897       0.104107   \n",
       "COMPLEXITY_MISSED             1.000000            0.425405       0.701316   \n",
       "COMPLEXITY_COVERED            0.425405            1.000000       0.070570   \n",
       "METHOD_MISSED                 0.701316            0.070570       1.000000   \n",
       "METHOD_COVERED                0.386438            0.944326       0.104210   \n",
       "Statement Coverage           -0.799883           -0.069505      -0.824954   \n",
       "Branch Coverage              -0.887770           -0.146633      -0.567622   \n",
       "Code Complexity               0.616426            0.934753       0.269385   \n",
       "StatementCoverage            -0.799883           -0.069505      -0.824954   \n",
       "BranchCoverage               -0.887770           -0.146633      -0.567622   \n",
       "CodeComplexity                0.616426            0.934753       0.269385   \n",
       "\n",
       "                     METHOD_COVERED  Statement Coverage  Branch Coverage  \\\n",
       "INSTRUCTION_MISSED         0.257385           -0.869358        -0.844460   \n",
       "INSTRUCTION_COVERED        0.824219           -0.110095        -0.175375   \n",
       "BRANCH_MISSED              0.477288           -0.533725        -0.908011   \n",
       "BRANCH_COVERED             0.762571           -0.099884        -0.084670   \n",
       "LINE_MISSED                0.275009           -0.929631        -0.807470   \n",
       "LINE_COVERED               0.877962           -0.114567        -0.175637   \n",
       "COMPLEXITY_MISSED          0.386438           -0.799883        -0.887770   \n",
       "COMPLEXITY_COVERED         0.944326           -0.069505        -0.146633   \n",
       "METHOD_MISSED              0.104210           -0.824954        -0.567622   \n",
       "METHOD_COVERED             1.000000           -0.064545        -0.132932   \n",
       "Statement Coverage        -0.064545            1.000000         0.778360   \n",
       "Branch Coverage           -0.132932            0.778360         1.000000   \n",
       "Code Complexity            0.876972           -0.275779        -0.350852   \n",
       "StatementCoverage         -0.064545            1.000000         0.778360   \n",
       "BranchCoverage            -0.132932            0.778360         1.000000   \n",
       "CodeComplexity             0.876972           -0.275779        -0.350852   \n",
       "\n",
       "                     Code Complexity  StatementCoverage  BranchCoverage  \\\n",
       "INSTRUCTION_MISSED          0.461787          -0.869358       -0.844460   \n",
       "INSTRUCTION_COVERED         0.843390          -0.110095       -0.175375   \n",
       "BRANCH_MISSED               0.688463          -0.533725       -0.908011   \n",
       "BRANCH_COVERED              0.872608          -0.099884       -0.084670   \n",
       "LINE_MISSED                 0.486731          -0.929631       -0.807470   \n",
       "LINE_COVERED                0.881632          -0.114567       -0.175637   \n",
       "COMPLEXITY_MISSED           0.616426          -0.799883       -0.887770   \n",
       "COMPLEXITY_COVERED          0.934753          -0.069505       -0.146633   \n",
       "METHOD_MISSED               0.269385          -0.824954       -0.567622   \n",
       "METHOD_COVERED              0.876972          -0.064545       -0.132932   \n",
       "Statement Coverage         -0.275779           1.000000        0.778360   \n",
       "Branch Coverage            -0.350852           0.778360        1.000000   \n",
       "Code Complexity             1.000000          -0.275779       -0.350852   \n",
       "StatementCoverage          -0.275779           1.000000        0.778360   \n",
       "BranchCoverage             -0.350852           0.778360        1.000000   \n",
       "CodeComplexity              1.000000          -0.275779       -0.350852   \n",
       "\n",
       "                     CodeComplexity  \n",
       "INSTRUCTION_MISSED         0.461787  \n",
       "INSTRUCTION_COVERED        0.843390  \n",
       "BRANCH_MISSED              0.688463  \n",
       "BRANCH_COVERED             0.872608  \n",
       "LINE_MISSED                0.486731  \n",
       "LINE_COVERED               0.881632  \n",
       "COMPLEXITY_MISSED          0.616426  \n",
       "COMPLEXITY_COVERED         0.934753  \n",
       "METHOD_MISSED              0.269385  \n",
       "METHOD_COVERED             0.876972  \n",
       "Statement Coverage        -0.275779  \n",
       "Branch Coverage           -0.350852  \n",
       "Code Complexity            1.000000  \n",
       "StatementCoverage         -0.275779  \n",
       "BranchCoverage            -0.350852  \n",
       "CodeComplexity             1.000000  "
      ]
     },
     "execution_count": 9,
     "metadata": {},
     "output_type": "execute_result"
    }
   ],
   "source": [
    "df_collection.corr(method ='spearman')"
   ]
  },
  {
   "cell_type": "code",
   "execution_count": 10,
   "metadata": {},
   "outputs": [
    {
     "data": {
      "text/html": [
       "<div>\n",
       "<style scoped>\n",
       "    .dataframe tbody tr th:only-of-type {\n",
       "        vertical-align: middle;\n",
       "    }\n",
       "\n",
       "    .dataframe tbody tr th {\n",
       "        vertical-align: top;\n",
       "    }\n",
       "\n",
       "    .dataframe thead th {\n",
       "        text-align: right;\n",
       "    }\n",
       "</style>\n",
       "<table border=\"1\" class=\"dataframe\">\n",
       "  <thead>\n",
       "    <tr style=\"text-align: right;\">\n",
       "      <th></th>\n",
       "      <th>CodeComplexity</th>\n",
       "      <th>StatementCoverage</th>\n",
       "    </tr>\n",
       "  </thead>\n",
       "  <tbody>\n",
       "    <tr>\n",
       "      <th>CodeComplexity</th>\n",
       "      <td>1.000000</td>\n",
       "      <td>-0.275779</td>\n",
       "    </tr>\n",
       "    <tr>\n",
       "      <th>StatementCoverage</th>\n",
       "      <td>-0.275779</td>\n",
       "      <td>1.000000</td>\n",
       "    </tr>\n",
       "  </tbody>\n",
       "</table>\n",
       "</div>"
      ],
      "text/plain": [
       "                   CodeComplexity  StatementCoverage\n",
       "CodeComplexity           1.000000          -0.275779\n",
       "StatementCoverage       -0.275779           1.000000"
      ]
     },
     "execution_count": 10,
     "metadata": {},
     "output_type": "execute_result"
    }
   ],
   "source": [
    "df_collection[['CodeComplexity','StatementCoverage']].corr(method ='spearman')\n"
   ]
  },
  {
   "cell_type": "code",
   "execution_count": 11,
   "metadata": {},
   "outputs": [],
   "source": [
    "df_clean = df_collection.dropna()"
   ]
  },
  {
   "cell_type": "code",
   "execution_count": 12,
   "metadata": {},
   "outputs": [
    {
     "data": {
      "text/plain": [
       "SpearmanrResult(correlation=-0.28275143935477715, pvalue=0.03001620055131056)"
      ]
     },
     "execution_count": 12,
     "metadata": {},
     "output_type": "execute_result"
    }
   ],
   "source": [
    "stats.spearmanr(df_clean['StatementCoverage'], df_clean['CodeComplexity'])"
   ]
  },
  {
   "cell_type": "code",
   "execution_count": 13,
   "metadata": {},
   "outputs": [
    {
     "data": {
      "text/html": [
       "<div>\n",
       "<style scoped>\n",
       "    .dataframe tbody tr th:only-of-type {\n",
       "        vertical-align: middle;\n",
       "    }\n",
       "\n",
       "    .dataframe tbody tr th {\n",
       "        vertical-align: top;\n",
       "    }\n",
       "\n",
       "    .dataframe thead th {\n",
       "        text-align: right;\n",
       "    }\n",
       "</style>\n",
       "<table border=\"1\" class=\"dataframe\">\n",
       "  <thead>\n",
       "    <tr style=\"text-align: right;\">\n",
       "      <th></th>\n",
       "      <th>CodeComplexity</th>\n",
       "      <th>BranchCoverage</th>\n",
       "    </tr>\n",
       "  </thead>\n",
       "  <tbody>\n",
       "    <tr>\n",
       "      <th>CodeComplexity</th>\n",
       "      <td>1.000000</td>\n",
       "      <td>-0.350852</td>\n",
       "    </tr>\n",
       "    <tr>\n",
       "      <th>BranchCoverage</th>\n",
       "      <td>-0.350852</td>\n",
       "      <td>1.000000</td>\n",
       "    </tr>\n",
       "  </tbody>\n",
       "</table>\n",
       "</div>"
      ],
      "text/plain": [
       "                CodeComplexity  BranchCoverage\n",
       "CodeComplexity        1.000000       -0.350852\n",
       "BranchCoverage       -0.350852        1.000000"
      ]
     },
     "execution_count": 13,
     "metadata": {},
     "output_type": "execute_result"
    }
   ],
   "source": [
    "df_collection[['CodeComplexity','BranchCoverage']].corr(method ='spearman')"
   ]
  },
  {
   "cell_type": "code",
   "execution_count": 14,
   "metadata": {},
   "outputs": [
    {
     "data": {
      "text/plain": [
       "SpearmanrResult(correlation=-0.35085159428927815, pvalue=0.006440335299029049)"
      ]
     },
     "execution_count": 14,
     "metadata": {},
     "output_type": "execute_result"
    }
   ],
   "source": [
    "df_clean = df_collection.dropna()\n",
    "stats.spearmanr(df_clean['BranchCoverage'], df_clean['CodeComplexity'])"
   ]
  },
  {
   "cell_type": "code",
   "execution_count": 15,
   "metadata": {},
   "outputs": [
    {
     "name": "stdout",
     "output_type": "stream",
     "text": [
      "Statment Coverage 92.5576779955346\n"
     ]
    }
   ],
   "source": [
    "print('Statment Coverage '+str((df_collection.LINE_COVERED.sum()/(df_collection.LINE_MISSED.sum() + df_collection.LINE_COVERED.sum()))*100))"
   ]
  },
  {
   "cell_type": "code",
   "execution_count": 16,
   "metadata": {},
   "outputs": [
    {
     "name": "stdout",
     "output_type": "stream",
     "text": [
      "Branch Coverage 89.12947414935925\n"
     ]
    }
   ],
   "source": [
    "print('Branch Coverage '+str((df_collection.BRANCH_COVERED.sum()/(df_collection.BRANCH_MISSED.sum() + df_collection.BRANCH_COVERED.sum()))*100))"
   ]
  },
  {
   "cell_type": "code",
   "execution_count": null,
   "metadata": {},
   "outputs": [],
   "source": []
  }
 ],
 "metadata": {
  "kernelspec": {
   "display_name": "Python 3",
   "language": "python",
   "name": "python3"
  },
  "language_info": {
   "codemirror_mode": {
    "name": "ipython",
    "version": 3
   },
   "file_extension": ".py",
   "mimetype": "text/x-python",
   "name": "python",
   "nbconvert_exporter": "python",
   "pygments_lexer": "ipython3",
   "version": "3.6.7"
  }
 },
 "nbformat": 4,
 "nbformat_minor": 2
}
