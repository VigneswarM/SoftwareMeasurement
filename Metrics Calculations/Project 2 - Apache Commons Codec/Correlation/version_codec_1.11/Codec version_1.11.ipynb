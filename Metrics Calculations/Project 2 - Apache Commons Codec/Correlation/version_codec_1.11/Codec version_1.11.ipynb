{
 "cells": [
  {
   "cell_type": "code",
   "execution_count": 1,
   "metadata": {},
   "outputs": [],
   "source": [
    "import pandas as pd\n",
    "import scipy.stats  as stats\n",
    "\n",
    "df_collection = pd.read_csv('jacoco.csv', error_bad_lines=False)\n",
    "\n",
    "import matplotlib.pyplot as plt"
   ]
  },
  {
   "cell_type": "code",
   "execution_count": 2,
   "metadata": {},
   "outputs": [],
   "source": [
    "df_collection['StatementCoverage'] =  (df_collection['LINE_COVERED'] / (df_collection['LINE_COVERED'] + df_collection['LINE_MISSED'])) * 100\n"
   ]
  },
  {
   "cell_type": "code",
   "execution_count": 3,
   "metadata": {},
   "outputs": [],
   "source": [
    "\n",
    "df_collection['BranchCoverage'] =  (df_collection['BRANCH_COVERED'] / (df_collection['BRANCH_COVERED'] + df_collection['BRANCH_MISSED'])) * 100"
   ]
  },
  {
   "cell_type": "code",
   "execution_count": 4,
   "metadata": {},
   "outputs": [],
   "source": [
    "df_collection['CodeComplexity'] =  df_collection['COMPLEXITY_COVERED'] + df_collection['COMPLEXITY_MISSED'];\n",
    "\n"
   ]
  },
  {
   "cell_type": "code",
   "execution_count": 5,
   "metadata": {},
   "outputs": [
    {
     "data": {
      "text/plain": [
       "<matplotlib.axes._subplots.AxesSubplot at 0x7f938098a6a0>"
      ]
     },
     "execution_count": 5,
     "metadata": {},
     "output_type": "execute_result"
    },
    {
     "data": {
      "image/png": "[encoded data removed]",
      "text/plain": [
       "<Figure size 432x288 with 1 Axes>"
      ]
     },
     "metadata": {
      "needs_background": "light"
     },
     "output_type": "display_data"
    }
   ],
   "source": [
    "df_collection.plot(x='CodeComplexity', y='StatementCoverage', style='o')"
   ]
  },
  {
   "cell_type": "code",
   "execution_count": 6,
   "metadata": {},
   "outputs": [
    {
     "data": {
      "text/plain": [
       "<matplotlib.axes._subplots.AxesSubplot at 0x7f937e8876a0>"
      ]
     },
     "execution_count": 6,
     "metadata": {},
     "output_type": "execute_result"
    },
    {
     "data": {
      "image/png": "[encoded data removed]",
      "text/plain": [
       "<Figure size 432x288 with 1 Axes>"
      ]
     },
     "metadata": {
      "needs_background": "light"
     },
     "output_type": "display_data"
    }
   ],
   "source": [
    "df_collection.plot(x='CodeComplexity', y='BranchCoverage', style='o')\n"
   ]
  },
  {
   "cell_type": "code",
   "execution_count": 7,
   "metadata": {},
   "outputs": [
    {
     "data": {
      "text/plain": [
       "<matplotlib.collections.PathCollection at 0x7f937e7963c8>"
      ]
     },
     "execution_count": 7,
     "metadata": {},
     "output_type": "execute_result"
    },
    {
     "data": {
      "image/png": "[encoded data removed]",
      "text/plain": [
       "<Figure size 432x288 with 1 Axes>"
      ]
     },
     "metadata": {
      "needs_background": "light"
     },
     "output_type": "display_data"
    }
   ],
   "source": [
    "plt.scatter(df_collection['CodeComplexity'], df_collection['StatementCoverage'])"
   ]
  },
  {
   "cell_type": "code",
   "execution_count": 8,
   "metadata": {},
   "outputs": [],
   "source": [
    "plt.show()"
   ]
  },
  {
   "cell_type": "code",
   "execution_count": 9,
   "metadata": {},
   "outputs": [
    {
     "data": {
      "text/html": [
       "<div>\n",
       "<style scoped>\n",
       "    .dataframe tbody tr th:only-of-type {\n",
       "        vertical-align: middle;\n",
       "    }\n",
       "\n",
       "    .dataframe tbody tr th {\n",
       "        vertical-align: top;\n",
       "    }\n",
       "\n",
       "    .dataframe thead th {\n",
       "        text-align: right;\n",
       "    }\n",
       "</style>\n",
       "<table border=\"1\" class=\"dataframe\">\n",
       "  <thead>\n",
       "    <tr style=\"text-align: right;\">\n",
       "      <th></th>\n",
       "      <th>INSTRUCTION_MISSED</th>\n",
       "      <th>INSTRUCTION_COVERED</th>\n",
       "      <th>BRANCH_MISSED</th>\n",
       "      <th>BRANCH_COVERED</th>\n",
       "      <th>LINE_MISSED</th>\n",
       "      <th>LINE_COVERED</th>\n",
       "      <th>COMPLEXITY_MISSED</th>\n",
       "      <th>COMPLEXITY_COVERED</th>\n",
       "      <th>METHOD_MISSED</th>\n",
       "      <th>METHOD_COVERED</th>\n",
       "      <th>Statement Coverage</th>\n",
       "      <th>Branch Coverage</th>\n",
       "      <th>Code Complexity</th>\n",
       "      <th>StatementCoverage</th>\n",
       "      <th>BranchCoverage</th>\n",
       "      <th>CodeComplexity</th>\n",
       "    </tr>\n",
       "  </thead>\n",
       "  <tbody>\n",
       "    <tr>\n",
       "      <th>INSTRUCTION_MISSED</th>\n",
       "      <td>1.000000</td>\n",
       "      <td>0.342302</td>\n",
       "      <td>0.642675</td>\n",
       "      <td>0.293020</td>\n",
       "      <td>0.953639</td>\n",
       "      <td>0.354397</td>\n",
       "      <td>0.899832</td>\n",
       "      <td>0.299731</td>\n",
       "      <td>0.803303</td>\n",
       "      <td>0.286526</td>\n",
       "      <td>-0.887778</td>\n",
       "      <td>-0.141528</td>\n",
       "      <td>0.491716</td>\n",
       "      <td>-0.887778</td>\n",
       "      <td>-0.710654</td>\n",
       "      <td>0.491716</td>\n",
       "    </tr>\n",
       "    <tr>\n",
       "      <th>INSTRUCTION_COVERED</th>\n",
       "      <td>0.342302</td>\n",
       "      <td>1.000000</td>\n",
       "      <td>0.515805</td>\n",
       "      <td>0.848136</td>\n",
       "      <td>0.345770</td>\n",
       "      <td>0.937402</td>\n",
       "      <td>0.449155</td>\n",
       "      <td>0.892314</td>\n",
       "      <td>0.114810</td>\n",
       "      <td>0.815105</td>\n",
       "      <td>-0.140207</td>\n",
       "      <td>0.529485</td>\n",
       "      <td>0.839632</td>\n",
       "      <td>-0.140207</td>\n",
       "      <td>-0.158218</td>\n",
       "      <td>0.839632</td>\n",
       "    </tr>\n",
       "    <tr>\n",
       "      <th>BRANCH_MISSED</th>\n",
       "      <td>0.642675</td>\n",
       "      <td>0.515805</td>\n",
       "      <td>1.000000</td>\n",
       "      <td>0.610394</td>\n",
       "      <td>0.684722</td>\n",
       "      <td>0.536899</td>\n",
       "      <td>0.820222</td>\n",
       "      <td>0.494053</td>\n",
       "      <td>0.330205</td>\n",
       "      <td>0.415065</td>\n",
       "      <td>-0.519244</td>\n",
       "      <td>-0.000449</td>\n",
       "      <td>0.641976</td>\n",
       "      <td>-0.519244</td>\n",
       "      <td>-0.915220</td>\n",
       "      <td>0.641976</td>\n",
       "    </tr>\n",
       "    <tr>\n",
       "      <th>BRANCH_COVERED</th>\n",
       "      <td>0.293020</td>\n",
       "      <td>0.848136</td>\n",
       "      <td>0.610394</td>\n",
       "      <td>1.000000</td>\n",
       "      <td>0.324696</td>\n",
       "      <td>0.866642</td>\n",
       "      <td>0.450542</td>\n",
       "      <td>0.899421</td>\n",
       "      <td>0.046846</td>\n",
       "      <td>0.752493</td>\n",
       "      <td>-0.122720</td>\n",
       "      <td>0.661137</td>\n",
       "      <td>0.868371</td>\n",
       "      <td>-0.122720</td>\n",
       "      <td>-0.187336</td>\n",
       "      <td>0.868371</td>\n",
       "    </tr>\n",
       "    <tr>\n",
       "      <th>LINE_MISSED</th>\n",
       "      <td>0.953639</td>\n",
       "      <td>0.345770</td>\n",
       "      <td>0.684722</td>\n",
       "      <td>0.324696</td>\n",
       "      <td>1.000000</td>\n",
       "      <td>0.365718</td>\n",
       "      <td>0.921731</td>\n",
       "      <td>0.321199</td>\n",
       "      <td>0.793504</td>\n",
       "      <td>0.305730</td>\n",
       "      <td>-0.931874</td>\n",
       "      <td>-0.123523</td>\n",
       "      <td>0.520742</td>\n",
       "      <td>-0.931874</td>\n",
       "      <td>-0.726581</td>\n",
       "      <td>0.520742</td>\n",
       "    </tr>\n",
       "    <tr>\n",
       "      <th>LINE_COVERED</th>\n",
       "      <td>0.354397</td>\n",
       "      <td>0.937402</td>\n",
       "      <td>0.536899</td>\n",
       "      <td>0.866642</td>\n",
       "      <td>0.365718</td>\n",
       "      <td>1.000000</td>\n",
       "      <td>0.479662</td>\n",
       "      <td>0.929940</td>\n",
       "      <td>0.130822</td>\n",
       "      <td>0.870193</td>\n",
       "      <td>-0.145778</td>\n",
       "      <td>0.490079</td>\n",
       "      <td>0.877965</td>\n",
       "      <td>-0.145778</td>\n",
       "      <td>-0.153902</td>\n",
       "      <td>0.877965</td>\n",
       "    </tr>\n",
       "    <tr>\n",
       "      <th>COMPLEXITY_MISSED</th>\n",
       "      <td>0.899832</td>\n",
       "      <td>0.449155</td>\n",
       "      <td>0.820222</td>\n",
       "      <td>0.450542</td>\n",
       "      <td>0.921731</td>\n",
       "      <td>0.479662</td>\n",
       "      <td>1.000000</td>\n",
       "      <td>0.448755</td>\n",
       "      <td>0.717788</td>\n",
       "      <td>0.416187</td>\n",
       "      <td>-0.824603</td>\n",
       "      <td>-0.082596</td>\n",
       "      <td>0.642878</td>\n",
       "      <td>-0.824603</td>\n",
       "      <td>-0.793642</td>\n",
       "      <td>0.642878</td>\n",
       "    </tr>\n",
       "    <tr>\n",
       "      <th>COMPLEXITY_COVERED</th>\n",
       "      <td>0.299731</td>\n",
       "      <td>0.892314</td>\n",
       "      <td>0.494053</td>\n",
       "      <td>0.899421</td>\n",
       "      <td>0.321199</td>\n",
       "      <td>0.929940</td>\n",
       "      <td>0.448755</td>\n",
       "      <td>1.000000</td>\n",
       "      <td>0.102588</td>\n",
       "      <td>0.939863</td>\n",
       "      <td>-0.110301</td>\n",
       "      <td>0.587817</td>\n",
       "      <td>0.932013</td>\n",
       "      <td>-0.110301</td>\n",
       "      <td>-0.066642</td>\n",
       "      <td>0.932013</td>\n",
       "    </tr>\n",
       "    <tr>\n",
       "      <th>METHOD_MISSED</th>\n",
       "      <td>0.803303</td>\n",
       "      <td>0.114810</td>\n",
       "      <td>0.330205</td>\n",
       "      <td>0.046846</td>\n",
       "      <td>0.793504</td>\n",
       "      <td>0.130822</td>\n",
       "      <td>0.717788</td>\n",
       "      <td>0.102588</td>\n",
       "      <td>1.000000</td>\n",
       "      <td>0.145400</td>\n",
       "      <td>-0.820602</td>\n",
       "      <td>-0.164503</td>\n",
       "      <td>0.305352</td>\n",
       "      <td>-0.820602</td>\n",
       "      <td>-0.443196</td>\n",
       "      <td>0.305352</td>\n",
       "    </tr>\n",
       "    <tr>\n",
       "      <th>METHOD_COVERED</th>\n",
       "      <td>0.286526</td>\n",
       "      <td>0.815105</td>\n",
       "      <td>0.415065</td>\n",
       "      <td>0.752493</td>\n",
       "      <td>0.305730</td>\n",
       "      <td>0.870193</td>\n",
       "      <td>0.416187</td>\n",
       "      <td>0.939863</td>\n",
       "      <td>0.145400</td>\n",
       "      <td>1.000000</td>\n",
       "      <td>-0.110814</td>\n",
       "      <td>0.436095</td>\n",
       "      <td>0.871598</td>\n",
       "      <td>-0.110814</td>\n",
       "      <td>-0.029187</td>\n",
       "      <td>0.871598</td>\n",
       "    </tr>\n",
       "    <tr>\n",
       "      <th>Statement Coverage</th>\n",
       "      <td>-0.887778</td>\n",
       "      <td>-0.140207</td>\n",
       "      <td>-0.519244</td>\n",
       "      <td>-0.122720</td>\n",
       "      <td>-0.931874</td>\n",
       "      <td>-0.145778</td>\n",
       "      <td>-0.824603</td>\n",
       "      <td>-0.110301</td>\n",
       "      <td>-0.820602</td>\n",
       "      <td>-0.110814</td>\n",
       "      <td>1.000000</td>\n",
       "      <td>0.227601</td>\n",
       "      <td>-0.318748</td>\n",
       "      <td>1.000000</td>\n",
       "      <td>0.751944</td>\n",
       "      <td>-0.318748</td>\n",
       "    </tr>\n",
       "    <tr>\n",
       "      <th>Branch Coverage</th>\n",
       "      <td>-0.141528</td>\n",
       "      <td>0.529485</td>\n",
       "      <td>-0.000449</td>\n",
       "      <td>0.661137</td>\n",
       "      <td>-0.123523</td>\n",
       "      <td>0.490079</td>\n",
       "      <td>-0.082596</td>\n",
       "      <td>0.587817</td>\n",
       "      <td>-0.164503</td>\n",
       "      <td>0.436095</td>\n",
       "      <td>0.227601</td>\n",
       "      <td>1.000000</td>\n",
       "      <td>0.500387</td>\n",
       "      <td>0.227601</td>\n",
       "      <td>1.000000</td>\n",
       "      <td>0.500387</td>\n",
       "    </tr>\n",
       "    <tr>\n",
       "      <th>Code Complexity</th>\n",
       "      <td>0.491716</td>\n",
       "      <td>0.839632</td>\n",
       "      <td>0.641976</td>\n",
       "      <td>0.868371</td>\n",
       "      <td>0.520742</td>\n",
       "      <td>0.877965</td>\n",
       "      <td>0.642878</td>\n",
       "      <td>0.932013</td>\n",
       "      <td>0.305352</td>\n",
       "      <td>0.871598</td>\n",
       "      <td>-0.318748</td>\n",
       "      <td>0.500387</td>\n",
       "      <td>1.000000</td>\n",
       "      <td>-0.318748</td>\n",
       "      <td>-0.272823</td>\n",
       "      <td>1.000000</td>\n",
       "    </tr>\n",
       "    <tr>\n",
       "      <th>StatementCoverage</th>\n",
       "      <td>-0.887778</td>\n",
       "      <td>-0.140207</td>\n",
       "      <td>-0.519244</td>\n",
       "      <td>-0.122720</td>\n",
       "      <td>-0.931874</td>\n",
       "      <td>-0.145778</td>\n",
       "      <td>-0.824603</td>\n",
       "      <td>-0.110301</td>\n",
       "      <td>-0.820602</td>\n",
       "      <td>-0.110814</td>\n",
       "      <td>1.000000</td>\n",
       "      <td>0.227601</td>\n",
       "      <td>-0.318748</td>\n",
       "      <td>1.000000</td>\n",
       "      <td>0.751944</td>\n",
       "      <td>-0.318748</td>\n",
       "    </tr>\n",
       "    <tr>\n",
       "      <th>BranchCoverage</th>\n",
       "      <td>-0.710654</td>\n",
       "      <td>-0.158218</td>\n",
       "      <td>-0.915220</td>\n",
       "      <td>-0.187336</td>\n",
       "      <td>-0.726581</td>\n",
       "      <td>-0.153902</td>\n",
       "      <td>-0.793642</td>\n",
       "      <td>-0.066642</td>\n",
       "      <td>-0.443196</td>\n",
       "      <td>-0.029187</td>\n",
       "      <td>0.751944</td>\n",
       "      <td>1.000000</td>\n",
       "      <td>-0.272823</td>\n",
       "      <td>0.751944</td>\n",
       "      <td>1.000000</td>\n",
       "      <td>-0.272823</td>\n",
       "    </tr>\n",
       "    <tr>\n",
       "      <th>CodeComplexity</th>\n",
       "      <td>0.491716</td>\n",
       "      <td>0.839632</td>\n",
       "      <td>0.641976</td>\n",
       "      <td>0.868371</td>\n",
       "      <td>0.520742</td>\n",
       "      <td>0.877965</td>\n",
       "      <td>0.642878</td>\n",
       "      <td>0.932013</td>\n",
       "      <td>0.305352</td>\n",
       "      <td>0.871598</td>\n",
       "      <td>-0.318748</td>\n",
       "      <td>0.500387</td>\n",
       "      <td>1.000000</td>\n",
       "      <td>-0.318748</td>\n",
       "      <td>-0.272823</td>\n",
       "      <td>1.000000</td>\n",
       "    </tr>\n",
       "  </tbody>\n",
       "</table>\n",
       "</div>"
      ],
      "text/plain": [
       "                     INSTRUCTION_MISSED  INSTRUCTION_COVERED  BRANCH_MISSED  \\\n",
       "INSTRUCTION_MISSED             1.000000             0.342302       0.642675   \n",
       "INSTRUCTION_COVERED            0.342302             1.000000       0.515805   \n",
       "BRANCH_MISSED                  0.642675             0.515805       1.000000   \n",
       "BRANCH_COVERED                 0.293020             0.848136       0.610394   \n",
       "LINE_MISSED                    0.953639             0.345770       0.684722   \n",
       "LINE_COVERED                   0.354397             0.937402       0.536899   \n",
       "COMPLEXITY_MISSED              0.899832             0.449155       0.820222   \n",
       "COMPLEXITY_COVERED             0.299731             0.892314       0.494053   \n",
       "METHOD_MISSED                  0.803303             0.114810       0.330205   \n",
       "METHOD_COVERED                 0.286526             0.815105       0.415065   \n",
       "Statement Coverage            -0.887778            -0.140207      -0.519244   \n",
       "Branch Coverage               -0.141528             0.529485      -0.000449   \n",
       "Code Complexity                0.491716             0.839632       0.641976   \n",
       "StatementCoverage             -0.887778            -0.140207      -0.519244   \n",
       "BranchCoverage                -0.710654            -0.158218      -0.915220   \n",
       "CodeComplexity                 0.491716             0.839632       0.641976   \n",
       "\n",
       "                     BRANCH_COVERED  LINE_MISSED  LINE_COVERED  \\\n",
       "INSTRUCTION_MISSED         0.293020     0.953639      0.354397   \n",
       "INSTRUCTION_COVERED        0.848136     0.345770      0.937402   \n",
       "BRANCH_MISSED              0.610394     0.684722      0.536899   \n",
       "BRANCH_COVERED             1.000000     0.324696      0.866642   \n",
       "LINE_MISSED                0.324696     1.000000      0.365718   \n",
       "LINE_COVERED               0.866642     0.365718      1.000000   \n",
       "COMPLEXITY_MISSED          0.450542     0.921731      0.479662   \n",
       "COMPLEXITY_COVERED         0.899421     0.321199      0.929940   \n",
       "METHOD_MISSED              0.046846     0.793504      0.130822   \n",
       "METHOD_COVERED             0.752493     0.305730      0.870193   \n",
       "Statement Coverage        -0.122720    -0.931874     -0.145778   \n",
       "Branch Coverage            0.661137    -0.123523      0.490079   \n",
       "Code Complexity            0.868371     0.520742      0.877965   \n",
       "StatementCoverage         -0.122720    -0.931874     -0.145778   \n",
       "BranchCoverage            -0.187336    -0.726581     -0.153902   \n",
       "CodeComplexity             0.868371     0.520742      0.877965   \n",
       "\n",
       "                     COMPLEXITY_MISSED  COMPLEXITY_COVERED  METHOD_MISSED  \\\n",
       "INSTRUCTION_MISSED            0.899832            0.299731       0.803303   \n",
       "INSTRUCTION_COVERED           0.449155            0.892314       0.114810   \n",
       "BRANCH_MISSED                 0.820222            0.494053       0.330205   \n",
       "BRANCH_COVERED                0.450542            0.899421       0.046846   \n",
       "LINE_MISSED                   0.921731            0.321199       0.793504   \n",
       "LINE_COVERED                  0.479662            0.929940       0.130822   \n",
       "COMPLEXITY_MISSED             1.000000            0.448755       0.717788   \n",
       "COMPLEXITY_COVERED            0.448755            1.000000       0.102588   \n",
       "METHOD_MISSED                 0.717788            0.102588       1.000000   \n",
       "METHOD_COVERED                0.416187            0.939863       0.145400   \n",
       "Statement Coverage           -0.824603           -0.110301      -0.820602   \n",
       "Branch Coverage              -0.082596            0.587817      -0.164503   \n",
       "Code Complexity               0.642878            0.932013       0.305352   \n",
       "StatementCoverage            -0.824603           -0.110301      -0.820602   \n",
       "BranchCoverage               -0.793642           -0.066642      -0.443196   \n",
       "CodeComplexity                0.642878            0.932013       0.305352   \n",
       "\n",
       "                     METHOD_COVERED  Statement Coverage  Branch Coverage  \\\n",
       "INSTRUCTION_MISSED         0.286526           -0.887778        -0.141528   \n",
       "INSTRUCTION_COVERED        0.815105           -0.140207         0.529485   \n",
       "BRANCH_MISSED              0.415065           -0.519244        -0.000449   \n",
       "BRANCH_COVERED             0.752493           -0.122720         0.661137   \n",
       "LINE_MISSED                0.305730           -0.931874        -0.123523   \n",
       "LINE_COVERED               0.870193           -0.145778         0.490079   \n",
       "COMPLEXITY_MISSED          0.416187           -0.824603        -0.082596   \n",
       "COMPLEXITY_COVERED         0.939863           -0.110301         0.587817   \n",
       "METHOD_MISSED              0.145400           -0.820602        -0.164503   \n",
       "METHOD_COVERED             1.000000           -0.110814         0.436095   \n",
       "Statement Coverage        -0.110814            1.000000         0.227601   \n",
       "Branch Coverage            0.436095            0.227601         1.000000   \n",
       "Code Complexity            0.871598           -0.318748         0.500387   \n",
       "StatementCoverage         -0.110814            1.000000         0.227601   \n",
       "BranchCoverage            -0.029187            0.751944         1.000000   \n",
       "CodeComplexity             0.871598           -0.318748         0.500387   \n",
       "\n",
       "                     Code Complexity  StatementCoverage  BranchCoverage  \\\n",
       "INSTRUCTION_MISSED          0.491716          -0.887778       -0.710654   \n",
       "INSTRUCTION_COVERED         0.839632          -0.140207       -0.158218   \n",
       "BRANCH_MISSED               0.641976          -0.519244       -0.915220   \n",
       "BRANCH_COVERED              0.868371          -0.122720       -0.187336   \n",
       "LINE_MISSED                 0.520742          -0.931874       -0.726581   \n",
       "LINE_COVERED                0.877965          -0.145778       -0.153902   \n",
       "COMPLEXITY_MISSED           0.642878          -0.824603       -0.793642   \n",
       "COMPLEXITY_COVERED          0.932013          -0.110301       -0.066642   \n",
       "METHOD_MISSED               0.305352          -0.820602       -0.443196   \n",
       "METHOD_COVERED              0.871598          -0.110814       -0.029187   \n",
       "Statement Coverage         -0.318748           1.000000        0.751944   \n",
       "Branch Coverage             0.500387           0.227601        1.000000   \n",
       "Code Complexity             1.000000          -0.318748       -0.272823   \n",
       "StatementCoverage          -0.318748           1.000000        0.751944   \n",
       "BranchCoverage             -0.272823           0.751944        1.000000   \n",
       "CodeComplexity              1.000000          -0.318748       -0.272823   \n",
       "\n",
       "                     CodeComplexity  \n",
       "INSTRUCTION_MISSED         0.491716  \n",
       "INSTRUCTION_COVERED        0.839632  \n",
       "BRANCH_MISSED              0.641976  \n",
       "BRANCH_COVERED             0.868371  \n",
       "LINE_MISSED                0.520742  \n",
       "LINE_COVERED               0.877965  \n",
       "COMPLEXITY_MISSED          0.642878  \n",
       "COMPLEXITY_COVERED         0.932013  \n",
       "METHOD_MISSED              0.305352  \n",
       "METHOD_COVERED             0.871598  \n",
       "Statement Coverage        -0.318748  \n",
       "Branch Coverage            0.500387  \n",
       "Code Complexity            1.000000  \n",
       "StatementCoverage         -0.318748  \n",
       "BranchCoverage            -0.272823  \n",
       "CodeComplexity             1.000000  "
      ]
     },
     "execution_count": 9,
     "metadata": {},
     "output_type": "execute_result"
    }
   ],
   "source": [
    "df_collection.corr(method ='spearman')"
   ]
  },
  {
   "cell_type": "code",
   "execution_count": 10,
   "metadata": {},
   "outputs": [
    {
     "data": {
      "text/html": [
       "<div>\n",
       "<style scoped>\n",
       "    .dataframe tbody tr th:only-of-type {\n",
       "        vertical-align: middle;\n",
       "    }\n",
       "\n",
       "    .dataframe tbody tr th {\n",
       "        vertical-align: top;\n",
       "    }\n",
       "\n",
       "    .dataframe thead th {\n",
       "        text-align: right;\n",
       "    }\n",
       "</style>\n",
       "<table border=\"1\" class=\"dataframe\">\n",
       "  <thead>\n",
       "    <tr style=\"text-align: right;\">\n",
       "      <th></th>\n",
       "      <th>CodeComplexity</th>\n",
       "      <th>StatementCoverage</th>\n",
       "    </tr>\n",
       "  </thead>\n",
       "  <tbody>\n",
       "    <tr>\n",
       "      <th>CodeComplexity</th>\n",
       "      <td>1.000000</td>\n",
       "      <td>-0.318748</td>\n",
       "    </tr>\n",
       "    <tr>\n",
       "      <th>StatementCoverage</th>\n",
       "      <td>-0.318748</td>\n",
       "      <td>1.000000</td>\n",
       "    </tr>\n",
       "  </tbody>\n",
       "</table>\n",
       "</div>"
      ],
      "text/plain": [
       "                   CodeComplexity  StatementCoverage\n",
       "CodeComplexity           1.000000          -0.318748\n",
       "StatementCoverage       -0.318748           1.000000"
      ]
     },
     "execution_count": 10,
     "metadata": {},
     "output_type": "execute_result"
    }
   ],
   "source": [
    "df_collection[['CodeComplexity','StatementCoverage']].corr(method ='spearman')\n"
   ]
  },
  {
   "cell_type": "code",
   "execution_count": 11,
   "metadata": {},
   "outputs": [],
   "source": [
    "df_clean = df_collection.dropna()"
   ]
  },
  {
   "cell_type": "code",
   "execution_count": 12,
   "metadata": {},
   "outputs": [
    {
     "data": {
      "text/plain": [
       "SpearmanrResult(correlation=-0.3687650553687368, pvalue=0.004762746365694392)"
      ]
     },
     "execution_count": 12,
     "metadata": {},
     "output_type": "execute_result"
    }
   ],
   "source": [
    "stats.spearmanr(df_clean['StatementCoverage'], df_clean['CodeComplexity'])"
   ]
  },
  {
   "cell_type": "code",
   "execution_count": 13,
   "metadata": {},
   "outputs": [
    {
     "data": {
      "text/html": [
       "<div>\n",
       "<style scoped>\n",
       "    .dataframe tbody tr th:only-of-type {\n",
       "        vertical-align: middle;\n",
       "    }\n",
       "\n",
       "    .dataframe tbody tr th {\n",
       "        vertical-align: top;\n",
       "    }\n",
       "\n",
       "    .dataframe thead th {\n",
       "        text-align: right;\n",
       "    }\n",
       "</style>\n",
       "<table border=\"1\" class=\"dataframe\">\n",
       "  <thead>\n",
       "    <tr style=\"text-align: right;\">\n",
       "      <th></th>\n",
       "      <th>CodeComplexity</th>\n",
       "      <th>BranchCoverage</th>\n",
       "    </tr>\n",
       "  </thead>\n",
       "  <tbody>\n",
       "    <tr>\n",
       "      <th>CodeComplexity</th>\n",
       "      <td>1.000000</td>\n",
       "      <td>-0.272823</td>\n",
       "    </tr>\n",
       "    <tr>\n",
       "      <th>BranchCoverage</th>\n",
       "      <td>-0.272823</td>\n",
       "      <td>1.000000</td>\n",
       "    </tr>\n",
       "  </tbody>\n",
       "</table>\n",
       "</div>"
      ],
      "text/plain": [
       "                CodeComplexity  BranchCoverage\n",
       "CodeComplexity        1.000000       -0.272823\n",
       "BranchCoverage       -0.272823        1.000000"
      ]
     },
     "execution_count": 13,
     "metadata": {},
     "output_type": "execute_result"
    }
   ],
   "source": [
    "df_collection[['CodeComplexity','BranchCoverage']].corr(method ='spearman')"
   ]
  },
  {
   "cell_type": "code",
   "execution_count": 14,
   "metadata": {},
   "outputs": [
    {
     "data": {
      "text/plain": [
       "SpearmanrResult(correlation=-0.2728228560028542, pvalue=0.04004697655676478)"
      ]
     },
     "execution_count": 14,
     "metadata": {},
     "output_type": "execute_result"
    }
   ],
   "source": [
    "df_clean = df_collection.dropna()\n",
    "stats.spearmanr(df_clean['BranchCoverage'], df_clean['CodeComplexity'])"
   ]
  },
  {
   "cell_type": "code",
   "execution_count": 15,
   "metadata": {},
   "outputs": [
    {
     "name": "stdout",
     "output_type": "stream",
     "text": [
      "Statment Coverage 92.96675191815856\n"
     ]
    }
   ],
   "source": [
    "print('Statment Coverage '+str((df_collection.LINE_COVERED.sum()/(df_collection.LINE_MISSED.sum() + df_collection.LINE_COVERED.sum()))*100))"
   ]
  },
  {
   "cell_type": "code",
   "execution_count": 16,
   "metadata": {},
   "outputs": [
    {
     "name": "stdout",
     "output_type": "stream",
     "text": [
      "Branch Coverage 90.61473486625997\n"
     ]
    }
   ],
   "source": [
    "print('Branch Coverage '+str((df_collection.BRANCH_COVERED.sum()/(df_collection.BRANCH_MISSED.sum() + df_collection.BRANCH_COVERED.sum()))*100))"
   ]
  },
  {
   "cell_type": "code",
   "execution_count": null,
   "metadata": {},
   "outputs": [],
   "source": []
  }
 ],
 "metadata": {
  "kernelspec": {
   "display_name": "Python 3",
   "language": "python",
   "name": "python3"
  },
  "language_info": {
   "codemirror_mode": {
    "name": "ipython",
    "version": 3
   },
   "file_extension": ".py",
   "mimetype": "text/x-python",
   "name": "python",
   "nbconvert_exporter": "python",
   "pygments_lexer": "ipython3",
   "version": "3.6.7"
  }
 },
 "nbformat": 4,
 "nbformat_minor": 2
}
